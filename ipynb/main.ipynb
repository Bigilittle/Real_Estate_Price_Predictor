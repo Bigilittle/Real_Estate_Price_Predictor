{
 "cells": [
  {
   "cell_type": "code",
   "execution_count": 197,
   "metadata": {},
   "outputs": [],
   "source": [
    "import json\n",
    "import re\n",
    "from typing import Union, Any\n",
    "\n",
    "import joblib\n",
    "import lightgbm as lgb\n",
    "import numpy as np\n",
    "import pandas as pd\n",
    "import plotly.express as px\n",
    "from plotly.subplots import make_subplots\n",
    "from dirty_cat import MinHashEncoder\n",
    "from sklearn.ensemble import RandomForestClassifier, RandomForestRegressor\n",
    "from sklearn.dummy import DummyRegressor\n",
    "from sklearn.linear_model import Ridge\n",
    "from sklearn.metrics import (\n",
    "    accuracy_score,\n",
    "    f1_score,\n",
    "    mean_absolute_error,\n",
    "    precision_score,\n",
    "    recall_score,\n",
    "    r2_score\n",
    ")\n",
    "from sklearn.model_selection import (\n",
    "    GridSearchCV,\n",
    "    KFold,\n",
    "    RandomizedSearchCV,\n",
    "    cross_val_score,\n",
    "    train_test_split\n",
    ")\n",
    "from sklearn.base import BaseEstimator, RegressorMixin\n",
    "from sklearn.preprocessing import StandardScaler\n",
    "from sklearn.tree import DecisionTreeRegressor\n",
    "from sklearn.ensemble import BaggingRegressor\n",
    "import xgboost as xgb\n",
    "import matplotlib.pyplot as plt\n",
    "import seaborn as sns\n",
    "import dill\n",
    "\n",
    "\n",
    "# Игнорировать все предупреждения\n",
    "import warnings\n",
    "warnings.filterwarnings('ignore')"
   ]
  },
  {
   "cell_type": "markdown",
   "metadata": {},
   "source": [
    "### Описание датасета\n",
    "\n",
    "Данный датасет представляет собой набор данных для предсказания цены на квартиру. В данных присутствует большое количество аномалий, неправильного ввода значений и шума, над которыми предстоит поработать.\n",
    "\n",
    "#### Описание данных:\n",
    "- **'status'** — статус продажи;\n",
    "- **'private pool'** и **'PrivatePool'** — наличие собственного бассейна;\n",
    "- **'propertyType'** — тип объекта недвижимости;\n",
    "- **'street'** — адрес объекта;\n",
    "- **'baths'** — количество ванных комнат;\n",
    "- **'homeFacts'** — сведения о строительстве объекта (содержит несколько типов сведений, влияющих на оценку объекта);\n",
    "- **'fireplace'** — наличие камина;\n",
    "- **'city'** — город;\n",
    "- **'schools'** — сведения о школах в районе;\n",
    "- **'sqft'** — площадь в футах;\n",
    "- **'zipcode'** — почтовый индекс;\n",
    "- **'beds'** — количество спален;\n",
    "- **'state'** — штат;\n",
    "- **'stories'** — количество этажей;\n",
    "- **'mls-id'** и **'MlsId'** — идентификатор MLS (Multiple Listing Service, система мультилистинга);\n",
    "- **'target'** — цена объекта недвижимости (целевой признак, который необходимо спрогнозировать).\n",
    "\n",
    "### Этапы работы с датасетом\n",
    "\n",
    "1. **Предварительный анализ данных**\n",
    "   - Анализ структуры данных и типов признаков.\n",
    "   - Поиск и устранение пропусков в данных.\n",
    "   - Идентификация аномалий и исправление ошибок ввода.\n",
    "\n",
    "2. **Предобработка данных**\n",
    "   - Обработка категориальных признаков (например, кодирование).\n",
    "   - Очистка и исправление текстовых данных (например, адресов и идентификаторов).\n",
    "\n",
    "3. **Обработка аномалий и выбросов**\n",
    "   - Выявление и корректировка выбросов.\n",
    "   - Замена или удаление аномальных значений.\n",
    "\n",
    "4. **Построение и обучение моделей**\n",
    "   - Выбор и настройка моделей для предсказания цены (например, линейная регрессия, деревья решений, градиентный бустинг).\n",
    "   - Проведение кросс-валидации для оценки производительности моделей.\n",
    "   - Оптимизация гиперпараметров.\n",
    "\n",
    "5. **Оценка моделей**\n",
    "   - Оценка точности предсказаний с использованием метрик (например, MAE, R²).\n",
    "   - Сравнение производительности различных моделей.\n",
    "\n",
    "6. **Интерпретация и выводы**\n",
    "   - Интерпретация результатов и выводы по точности предсказаний.\n",
    "   - Рекомендации по возможным улучшениям и будущим шагам.\n",
    "\n",
    "Этот план действий поможет организовать работу с данными и обеспечить качественную подготовку и анализ для построения точной модели предсказания цен на квартиры.\n"
   ]
  },
  {
   "cell_type": "markdown",
   "metadata": {},
   "source": [
    "# Предварительный анализ и предобработка данных\n"
   ]
  },
  {
   "cell_type": "code",
   "execution_count": 198,
   "metadata": {},
   "outputs": [],
   "source": [
    "#%%script false\n",
    "main_data = pd.read_csv('data/data.csv', sep = ',')"
   ]
  },
  {
   "cell_type": "code",
   "execution_count": 199,
   "metadata": {},
   "outputs": [
    {
     "data": {
      "text/plain": [
       "(377185, 18)"
      ]
     },
     "execution_count": 199,
     "metadata": {},
     "output_type": "execute_result"
    }
   ],
   "source": [
    "data = main_data.copy()\n",
    "data.shape"
   ]
  },
  {
   "cell_type": "markdown",
   "metadata": {},
   "source": [
    "#### Вспомогательные функции для сокращения времени"
   ]
  },
  {
   "cell_type": "code",
   "execution_count": 200,
   "metadata": {},
   "outputs": [],
   "source": [
    "\n",
    "def Hist(data: pd.DataFrame, col: str) -> None:\n",
    "    \"\"\"\n",
    "    Строит гистограмму распределения значений столбца 'col' из DataFrame 'data'.\n",
    "    Использует 100 интервалов.\n",
    "    \"\"\"\n",
    "    plt.figure(figsize=(10, 6))\n",
    "    sns.histplot(data[col], bins=100, kde=False, color='blue')\n",
    "    \n",
    "    plt.title('Гистограмма распределения площади квартиры', fontsize=16)\n",
    "    plt.xlabel(col, fontsize=14)\n",
    "    plt.ylabel('Частота', fontsize=14)\n",
    "    \n",
    "    # Центрирование заголовка\n",
    "    plt.gca().title.set_position([0.5, 1.05])\n",
    "    \n",
    "    plt.tight_layout()\n",
    "    plt.show()\n",
    "\n",
    "def Box(data: pd.DataFrame, col: str) -> None:\n",
    "    \"\"\"\n",
    "    Строит коробчатую диаграмму для значений столбца 'col'.\n",
    "    Показывает распределение и выбросы.\n",
    "    \"\"\"\n",
    "    plt.figure(figsize=(8, 6))\n",
    "    sns.boxplot(x=data[col], color='orange')\n",
    "    \n",
    "    plt.title(\"Коробчатая диаграмма значений по категориям\", fontsize=16)\n",
    "    plt.xlabel(col, fontsize=14)\n",
    "    \n",
    "    # Центрирование заголовка\n",
    "    plt.gca().title.set_position([0.5, 1.05])\n",
    "    \n",
    "    plt.tight_layout()\n",
    "    plt.show()\n",
    "\n",
    "def Heat(data: pd.DataFrame, col: str) -> None:\n",
    "    \"\"\"\n",
    "    Строит тепловую карту корреляции столбца 'col' с остальными числовыми столбцами.\n",
    "    Удаляет пустые значения перед построением.\n",
    "    \"\"\"\n",
    "    data.reset_index(drop=True, inplace=True)\n",
    "\n",
    "    df = data.select_dtypes(include=['number', 'bool'])\n",
    "    df = df.dropna()\n",
    "\n",
    "    correlation_baths = df.corr()[col]\n",
    "    correlation_df = correlation_baths.reset_index()\n",
    "    correlation_df.columns = ['Feature', 'Correlation']\n",
    "\n",
    "    fig = px.imshow(\n",
    "        correlation_df.set_index('Feature').T,  \n",
    "        labels=dict(x='Feature', y='Correlation'),\n",
    "        title='Correlation with {col}'\n",
    "        )\n",
    "\n",
    "    fig.show()\n",
    "\n",
    "\n",
    "def find_missing_and_object_columns(df: pd.DataFrame = data) -> None:\n",
    "    \"\"\"\n",
    "    Функция для вывода признаков, в которых есть пропущенные значения, или их тип является object\n",
    "    \"\"\"\n",
    "    missing_data = pd.DataFrame({\n",
    "        'Missing Values': df.isnull().sum(),\n",
    "        'data Type': df.dtypes\n",
    "    })\n",
    "\n",
    "    filtered_missing_data = missing_data[\n",
    "        (missing_data['data Type'] == 'object') | (missing_data['Missing Values'] > 0)\n",
    "    ]\n",
    "\n",
    "    #filtered_missing_data = filtered_missing_data.sort_values(by='Missing Values', ascending=False)\n",
    "    print(filtered_missing_data.sort_values(by='Missing Values', ascending=False))"
   ]
  },
  {
   "cell_type": "markdown",
   "metadata": {},
   "source": [
    "#### Удалим признаки которые никак не влияют на целевую переменную, так же удалим пропуски в целевой признаке"
   ]
  },
  {
   "cell_type": "code",
   "execution_count": 201,
   "metadata": {},
   "outputs": [],
   "source": [
    "data.drop(['MlsId', 'mls-id'], axis=1, inplace=True)\n",
    "data.drop_duplicates(inplace=True)\n",
    "data.dropna(subset=['target', 'street', 'city'], inplace=True)\n",
    "data.reset_index(drop=True, inplace=True)"
   ]
  },
  {
   "cell_type": "code",
   "execution_count": 202,
   "metadata": {},
   "outputs": [],
   "source": [
    "data['PrivatePool'] = data['private pool'].combine_first(data['PrivatePool'])\n",
    "data.drop('private pool', axis=1, inplace=True)\n",
    "data['PrivatePool'] = data['PrivatePool'].map({'yes': True, 'Yes': True}).fillna(False).astype(bool)"
   ]
  },
  {
   "cell_type": "code",
   "execution_count": 203,
   "metadata": {},
   "outputs": [],
   "source": [
    "def extract_number(value: str) -> int:\n",
    "    value = value.lower()\n",
    "    tedatat_to_number = {\n",
    "        'one': 1, 'two': 2, 'three': 3, 'four': 4,\n",
    "        'five': 5, 'six': 6, 'seven': 7, 'eight': 8,\n",
    "        'nine': 9, 'ten': 10, 'eleven': 11, 'twelve': 12\n",
    "    }\n",
    "\n",
    "    for word, num in tedatat_to_number.items():\n",
    "        if word in value:\n",
    "            return num\n",
    "        \n",
    "    match = re.search(r'(\\d+)(?=\\+)?', value)\n",
    "    if match:\n",
    "        return int(match.group(1))\n",
    "    elif 'yes' in value:    \n",
    "        return 1\n",
    "    else:\n",
    "        return np.nan\n",
    "    \n",
    "def count_rooms(value: str) -> int:\n",
    "    room_types = ['Family', 'Bedroom', 'Living', 'Den', 'Kitchen', 'Dining', 'FAMILYRM',\n",
    "                  'Library', 'Study', 'Playroom', 'Recreation', 'Sitting', 'Guest', 'Office']\n",
    "    \n",
    "    count = sum(value.count(room) for room in room_types)\n",
    "    return count if count > 0 else 1\n",
    "\n",
    "def handle_missing(value: str) -> int:\n",
    "    if isinstance(value, str) and value in ['N/K', 'No', 'Not Applicable', 'None', 'Non-Functional', 'Inoperative', 'Edatatra Closets']:\n",
    "        return 0\n",
    "    \n",
    "\n",
    "def identify_fireplace_type(value: str) -> int:\n",
    "    if isinstance(value, str):\n",
    "        value = value.lower()\n",
    "        if 'gas' in value:\n",
    "            return 1\n",
    "        if 'wood' in value or 'burning' in value:\n",
    "            return 2\n",
    "        if 'electric' in value:\n",
    "            return 3\n",
    "        \n",
    "    return 0\n",
    "\n",
    "\n",
    "data['count_fireplace'] = data['fireplace'].apply(lambda data: handle_missing(data) if isinstance(data, str) else np.nan)\n",
    "data['count_fireplace'] = data['count_fireplace'].fillna(data['fireplace'].apply(lambda data: extract_number(data) if isinstance(data, str) else np.nan))\n",
    "data['count_fireplace'] = data['count_fireplace'].fillna(data['fireplace'].apply(lambda data: count_rooms(data) if isinstance(data, str) else np.nan))\n",
    "data['count_fireplace'] = data['count_fireplace'].fillna(0)\n",
    "data['fireplace_type'] = data['fireplace'].apply(identify_fireplace_type)\n",
    "\n",
    "data.drop('fireplace', axis=1, inplace=True)"
   ]
  },
  {
   "cell_type": "code",
   "execution_count": 204,
   "metadata": {},
   "outputs": [
    {
     "name": "stdout",
     "output_type": "stream",
     "text": [
      "{'Coming soon: Dec 11.', 'Foreclosure', 'Contingent Finance And Inspection', 'Pending With Contingencies', 'Pending Offer Approval', 'Coming soon: Dec 20.', 'Accepted Offer', 'Pending W/ Cont.', 'Coming soon: Dec 15.', 'Contract', 'Under Contract Show', 'Coming soon: Dec 25.', 'Active With Offer', 'Under contract', 'P Pending Sale', 'Coming soon: Dec 9.', 'Contingent', 'Due Diligence Period', 'Contingent Finance and Inspection', 'Contingent   Release', 'Apartment for rent', 'Pending, Continue to Show', 'pending', 'Coming soon: Dec 12.', 'Pending   Continue To Show   Financing', ' / auction', 'Option Pending', 'Coming soon: Oct 29.', 'Coming soon: Dec 14.', 'Active Under Contract', 'Auction', 'Pending   Continue To Show', 'Coming soon: Dec 4.', 'Coming soon: Dec 6.', 'Coming soon: Oct 30.', 'P', 'Coming soon: Nov 5.', 'Contingent   Show', 'Under Contract W/ Bckp', 'Coming soon: Nov 27.', 'Pending Continue To Show', 'Coming soon: Dec 23.', 'Pending Take Backups', 'Under Contract', 'Coming soon: Nov 13.', 'Coming soon: Nov 14.', 'Pending Sh', 'Condo for rent', 'Coming soon: Nov 17.', 'Active - Contingent', 'C Continue Show', 'Coming soon: Dec 24.', 'Active Contingency', 'Contract Contingent On Buyer Sale', 'Coming soon: Dec 27.', 'Lease/Purchase', 'Conting Accpt Backups', 'Option Contract', 'For sale', 'Pending - Taking Backups', 'Pending Fe', 'Ps', 'Pending Taking Backups', 'Coming soon: Nov 30.', 'Pre-foreclosure', 'Pending In', 'Pi', 'Active Backup', 'for rent', 'Pending W/Insp Finance', 'Re Activated', 'Under Contract Backups', 'Lease/Purchase Pending', 'Contingent Escape', 'Accepting backups', 'Contingent - Financing', 'Pf', 'Pending Backups Wanted', 'Auction - Active', 'Contingent Lien Holder Release', 'Under Contract - Show', 'Contingent Show', 'Closed', 'Active with Contract', 'Contingent Take Backup', 'Pending - Continue to Show', 'Under Contract - No Show', 'Contingency Contract', 'Pending Bring Backup', 'Coming soon: Dec 7.', 'Coming soon: Nov 26.', 'Coming soon: Dec 3.', 'Coming soon: Dec 2.', 'Coming soon: Nov 11.', 'CT Insp - Inspection Contingency', 'Pending', 'New', 'Back On Market', 'Active - Auction', 'Pending Sale', 'Coming soon: Dec 16.', 'Coming soon: Nov 8.', 'Coming soon: Dec 5.', 'U Under Contract', 'Coming soon: Nov 21.', 'Backup', 'Coming soon: Nov 12.', 'Active Option Contract', 'Offer Pending Signature', 'Coming soon: Oct 24.', 'Coming soon: Dec 10.', nan, 'A Active', 'Pending (Do Not Show)', 'Active/Contingent', 'Coming soon: Nov 22.', 'Reactivated', 'Conditional Contract', 'Coming soon: Nov 19.', 'Contingent - Sale of Home', 'Active Contingent', 'Pre-foreclosure / auction', 'foreclosure', 'Coming soon: Dec 18.', 'New construction', 'Contingency 48 Hr (+/ )', 'Contingent   Foreclosure', 'Price Change', 'Ct', 'Uc Continue To Show', 'Pending W/Escape Clause', 'Coming soon: Nov 28.', 'Temporary Active', 'Under Contract   Showing', 'Coming soon: Nov 25.', 'Contingent   No Show', 'Pending W/Backup Wanted', 'Backup Contract', 'C', 'Under Contract Taking Back Up Offers', 'Active', 'Coming soon: Dec 1.', 'Coming soon: Nov 29.', 'Listing Extended', 'Coming soon: Nov 23.', 'Pending Ab', 'Active Option', 'Coming soon: Dec 13.', 'Pending Inspection', 'Pending - Backup Offer Requested', 'Contract P', 'For Sale', 'Back on Market', 'Active With Contingencies', 'for sale', 'Foreclosed', 'Coming soon: Oct 21.'}\n"
     ]
    }
   ],
   "source": [
    "print(set(data['status'].unique().tolist()))"
   ]
  },
  {
   "cell_type": "markdown",
   "metadata": {},
   "source": [
    "#### Важные признаки для статуса сделки\n",
    "\n",
    "Наибольший интерес представляют значения, где указано, что недвижимость сдаётся в аренду.  \n",
    "Также можно выделить три основных признака, отвечающих за статус сделки:\n",
    "\n",
    "1. **For Sale/Active** — активно продаётся.\n",
    "2. **Pending/Under Contract** — в стадии рассмотрения.\n",
    "3. **Foreclosure/Auction** — изъятое имущество.\n"
   ]
  },
  {
   "cell_type": "code",
   "execution_count": 205,
   "metadata": {},
   "outputs": [],
   "source": [
    "def status_to_number(value: str) -> int:\n",
    "    if pd.isna(value):\n",
    "        return 0\n",
    "    \n",
    "    value = value.lower()\n",
    "    for index, (_, statuses) in enumerate(status_groups.items()):\n",
    "        statuses_lower = [status.lower() for status in statuses]\n",
    "        \n",
    "        if value in statuses_lower:\n",
    "            return index + 1\n",
    "    \n",
    "    return -999  # Возвращаем -999, если статус не найден\n",
    "\n",
    "\n",
    "status_groups = {\n",
    "            'For Sale/Active': [\n",
    "                'for sale', 'active', 'new construction', 'new', 'active under contract', \n",
    "                'active with offer', 'active/contingent', 'active - auction', 'active with contract', \n",
    "                'auction active', 'auction', 'back on market', 'listing extended', 'active option', \n",
    "                'price change', 'a active', 'temporary active'\n",
    "            ],\n",
    "            'Pending/Under Contract': [\n",
    "                'pending', 'under contract', 'contingent', 'pending continue to show', 'p',\n",
    "                'option pending', 'pending taking backups', 'under contract show', 'under contract showing', \n",
    "                'under contract backups', 'pending backup wanted', 'pending take backups', \n",
    "                'pending continue show', 'pending inspection', 'due diligence period', 'p pending sale',\n",
    "                'active with contingencies', 'pending ab', 'contingent finance and inspection',\n",
    "                'contingent show', 'contingent take backup', 'pf', 'under contract showing', \n",
    "                'c', 'ct', 'pending - continue to show', 'pending (do not show)',\n",
    "                'pending - backup offer requested', 'pending w/backup wanted', 'option contract',\n",
    "                'pending - taking backups', 'offer pending signature', 'pending fe',\n",
    "                'pending w/insp finance', 'uc continue to show', 'contingency contract',\n",
    "                'under contract - show', 'pending offer approval', 'contingent escape',\n",
    "                'pending with contingencies', 'contingent - financing', 'contract contingent on buyer sale',\n",
    "                'pending, continue to show', 'pending bring backup', 'pending w/ escape clause',\n",
    "                'pending - continue to show', 'pending sh', 'pending w/ cont.', \n",
    "                'pending continue to show   financing', 'pending inspection', \n",
    "                'under contract taking back up offers', 'backup contract', 'backup',\n",
    "                'contract p', 'contingency 48 hr (+/ )', 'conting accpt backups',\n",
    "                'contingent release', 'contingent lien holder release', 'contingent - sale of home',\n",
    "                'pending sale', 'pending - continue to show', 'contingent foreclosure','under contract   showing'\n",
    "            ],\n",
    "            'Foreclosure/Auction': [\n",
    "                'foreclosure', 'pre-foreclosure', 'foreclosed', 'auction', 'pre-foreclosure / auction', \n",
    "                'auction - active', ' / auction', 'pending auction', 'auction - active', 'foreclosure auction'\n",
    "            ],\n",
    "        }\n",
    "\n",
    "\n",
    "data['for_rent'] = data['status'].apply(\n",
    "    lambda x: 'rent' in str(x).lower() or 'purchase' in str(x).lower())\n",
    "data['status'] = data['status'].apply(status_to_number)\n"
   ]
  },
  {
   "cell_type": "code",
   "execution_count": 206,
   "metadata": {},
   "outputs": [],
   "source": [
    "word_to_num={\n",
    "        \"one half\":0.5, \"one\": 1, \"two\": 2, \"three\": 3, \"four\": 4, \n",
    "        \"five\": 5, \"six\": 6, \"seven\": 7, \"eight\": 8, \"nine\": 9, \"ten\": 10,\n",
    "        \"duplex\":2, \"ground\":1, \"triplex\":3, 'tri':3\n",
    "    }\n",
    "\n",
    "def process_stories(story: str) -> int:\n",
    "    \"\"\"Обрабатывает строку с количеством этажей, заменяет текстовые обозначения на числа и возвращает среднее количество этажей или NaN.\"\"\"\n",
    "    if pd.isna(story):\n",
    "        return np.nan  \n",
    "    \n",
    "    stories = 0\n",
    "    story = story.lower()\n",
    "   \n",
    "    for word, num in word_to_num.items():\n",
    "        story = story.replace(word, str(num))\n",
    "   \n",
    "    numbers = re.findall(r'\\d+\\.?\\d*', story)\n",
    "    if numbers:\n",
    "        stories += sum([float(num) for num in numbers]) / len(numbers)\n",
    "    \n",
    "    story = story.replace('-', ' ')\n",
    "    if \"basement\" in story or \"tri level\" in story:\n",
    "        stories += 0.5\n",
    "    \n",
    "    return stories if stories > 0 else np.nan\n",
    "\n",
    "\n",
    "data['stories'] = data['stories'].apply(process_stories)"
   ]
  },
  {
   "cell_type": "markdown",
   "metadata": {},
   "source": [
    "##### С **propertyType** поступим интереснее, проведём \"чистку\" данного призанка, после чего применим `MinHashEncoder` для преобразования этого признака в хеш строку"
   ]
  },
  {
   "cell_type": "code",
   "execution_count": 207,
   "metadata": {},
   "outputs": [],
   "source": [
    "def clean_property_type(pt: str) -> str:\n",
    "    \"\"\"Очищает строку, представляющую тип недвижимости, удаляя дублирующиеся и ненужные символы.\"\"\"\n",
    "    if pd.isna(pt):\n",
    "        return 'missing'  \n",
    "    \n",
    "    pt = re.sub(r'\\b(\\w+)(_\\1\\b)+', r'\\1', pt)\n",
    "    pt = re.sub(r'\\b(\\w+)(/\\1\\b)+', r'\\1', pt)\n",
    "\n",
    "    pt = re.sub(r'\\s+/|/\\s+', '/', pt)\n",
    "    pt = re.sub(r'\\s+', '_', pt)\n",
    "    pt = re.sub(r'(_{2,})', '_', pt)\n",
    "    pt = re.sub(r'(_home)+', '_home', pt)\n",
    "    pt = re.sub(r'(_story)+', '_story', pt)\n",
    "\n",
    "    pt = re.sub(r'\\bhome_home\\b', 'home', pt)\n",
    "    \n",
    "    return pt\n",
    "\n",
    "\n",
    "replacements = {\n",
    "            r'single[\\s_-]*family[\\s_-]*home|single[\\s_-]*family[\\s_-]*': 'single_family_home',\n",
    "            r'condo|condo/townhome.*|coop.*': 'condo',\n",
    "            r'townhouse|row home|townhome': 'townhouse',\n",
    "            r'multi[\\s_-]*family': 'multi_family_home',\n",
    "            r'lot/land|land|farms/ranches': 'land',\n",
    "            r'mobile': 'mobile_home',\n",
    "            r'apartment': 'apartment',\n",
    "            r'ranch': 'ranch',\n",
    "            r'contemporary|modern|contemporary/modern': 'contemporary_modern',\n",
    "            r'colonial': 'colonial',\n",
    "            r'traditional': 'traditional',\n",
    "            r'1 story|one story': 'one_story',\n",
    "            r'2 stories|two story': 'two_story',\n",
    "            r'other': 'other'\n",
    "            }\n",
    "\n",
    "\n",
    "data['propertyType'] = data['propertyType'].str.lower().str.strip()\n",
    "data['propertyType'] = data['propertyType'].apply(clean_property_type)\n",
    "\n",
    "# Применение замен\n",
    "for pattern, replacement in replacements.items():\n",
    "    data['propertyType'] = data['propertyType'].replace(to_replace=pattern, value=replacement, regex=True)\n",
    "\n",
    "cat_type_encoder = MinHashEncoder()\n",
    "data['propertyType'] = cat_type_encoder.fit_transform(data[['propertyType']])\n",
    "\n"
   ]
  },
  {
   "cell_type": "markdown",
   "metadata": {},
   "source": [
    "##### В колонке **homeFacts** хранится json строка с большим количествов признаков, проведём небольшую чистку, после чего добавим эти значения в наш датасет"
   ]
  },
  {
   "cell_type": "code",
   "execution_count": 208,
   "metadata": {},
   "outputs": [
    {
     "name": "stdout",
     "output_type": "stream",
     "text": [
      "Ошибка декодирования JSON:\n",
      "Сообщение об ошибке: Expecting ',' delimiter: line 1 column 249 (char 248)\n",
      "Проблемная строка JSON: {\"atAGlanceFacts\": [{\"factValue\": \"1960\", \"factLabel\": \"Year built\"}, {\"factValue\": \"\", \"factLabel\": \"Remodeled year\"}, {\"factValue\": \"Forced Air\", \"factLabel\": \"Heating\"}, {\"factValue\": \"Central\", \"factLabel\": \"Cooling\"}, {\"factValue\": \"Carport, \"None\", Attached Garage\", \"factLabel\": \"Parking\"}, {\"factValue\": \"5,000 sqft\", \"factLabel\": \"lotsize\"}, {\"factValue\": \"$500/sqft\", \"factLabel\": \"Price/sqft\"}]}\n"
     ]
    }
   ],
   "source": [
    "columns = ['Cooling', 'Heating', 'Parking', 'Price/sqft', 'Remodeled year', 'Year built', 'lotsize']\n",
    "\n",
    "def extract_home_features(home_facts_str: str) -> dict:\n",
    "    \"\"\"Извлекает характеристики дома из строки JSON и возвращает словарь с данными.\"\"\"\n",
    "    if pd.isna(home_facts_str):\n",
    "        return {col: np.nan for col in columns}\n",
    "    \n",
    "    try:\n",
    "        home_facts_str = home_facts_str.replace(\"'\", '\"')\n",
    "        home_facts_str = home_facts_str.replace('\"closet\"-Electric', 'closet-Electric')\n",
    "\n",
    "        home_facts_str = re.sub(r'(?<!\")\\bNone\\b(?!\")', '\"None\"', home_facts_str)\n",
    "        home_facts_str = re.sub(r'(?<=[a-z-A-Z])\"(?=[a-zA-Z])', '/', home_facts_str)\n",
    "\n",
    "        home_facts_dict = json.loads(home_facts_str)\n",
    "\n",
    "        facts = home_facts_dict.get('atAGlanceFacts', [])\n",
    "        features = {fact['factLabel']: fact['factValue'] for fact in facts}\n",
    "\n",
    "        return {col: features.get(col, np.nan) for col in columns}\n",
    "    \n",
    "    except json.JSONDecodeError as e:\n",
    "        print(\"Ошибка декодирования JSON:\")\n",
    "        print(f\"Сообщение об ошибке: {e}\")\n",
    "        print(f\"Проблемная строка JSON: {home_facts_str}\")\n",
    "        return {col: np.nan for col in columns}\n",
    "\n",
    "\n",
    "if 'homeFacts' not in data.columns:\n",
    "        raise ValueError(\"DataFrame must contain 'homeFacts' column\")\n",
    "\n",
    "    \n",
    "new_columns = data['homeFacts'].apply(extract_home_features)\n",
    "new_df = pd.DataFrame(new_columns.tolist())\n",
    "\n",
    "data.drop('homeFacts', inplace=True, axis=1)\n",
    "data = data.join(new_df)\n"
   ]
  },
  {
   "cell_type": "markdown",
   "metadata": {},
   "source": [
    "##### В колонке **schools** похожий принцип что и в **homeFacts**, однако из всех данных нас тут интересует только рейтинг школ в округе недвижимости"
   ]
  },
  {
   "cell_type": "code",
   "execution_count": 209,
   "metadata": {},
   "outputs": [],
   "source": [
    "def extract_school_features(school_facts_str: str) -> dict:\n",
    "    \"\"\"Извлекает характеристики школ из строки JSON и возвращает словарь с данными.\"\"\"\n",
    "    if pd.isna(school_facts_str):\n",
    "        return {\n",
    "            'Average Rating': np.nan, \n",
    "        }\n",
    "    \n",
    "    try:\n",
    "        school_facts_str = school_facts_str.replace(\"'\", '\"')\n",
    "        school_facts_str = re.sub(r'(?<!\")\\bNone\\b(?!\")', '\"None\"', school_facts_str)\n",
    "        school_facts_str = re.sub(r'NR', 'None', school_facts_str)\n",
    "        school_facts_str = re.sub(r'NA', 'None', school_facts_str)\n",
    "        school_facts_str = re.sub(r'(?<=[a-z-A-Z])\"(?=[a-zA-Z])', '/', school_facts_str)\n",
    "        school_facts_str = re.sub(r', \"name\": \\[[^\\]]*\\]', '', school_facts_str)\n",
    "\n",
    "        features = json.loads(school_facts_str)[0]\n",
    "\n",
    "        try: \n",
    "            ratings = []\n",
    "            for rating in features['rating']:\n",
    "                if 'None' not in rating:\n",
    "                    rating_value = rating.split('/')[0]  \n",
    "                    ratings.append(int(rating_value))\n",
    "        except:\n",
    "            ratings=[]\n",
    "\n",
    "        return {\n",
    "            'Average Rating': np.mean(ratings) if ratings else np.nan,\n",
    "        }\n",
    "    \n",
    "    except json.JSONDecodeError as e:\n",
    "        print(f\"JSONDecodeError: {e}\")\n",
    "        print(f'Problematic string: {school_facts_str}')\n",
    "        return {\n",
    "            'Average Rating': np.nan, \n",
    "        }\n",
    "    \n",
    "    except Exception as err: \n",
    "        print(err)\n",
    "\n",
    "\n",
    "columns= ['Average Rating']\n",
    "\n",
    "# Применение функции для извлечения признаков\n",
    "data.reset_index(drop=True, inplace=True)\n",
    "new_columns = data['schools'].apply(extract_school_features)\n",
    "new_df = pd.DataFrame(new_columns.tolist(), columns=columns)\n",
    "\n",
    "data.drop('schools', inplace=True, axis=1)\n",
    "data = data.join(new_df)\n"
   ]
  },
  {
   "cell_type": "markdown",
   "metadata": {},
   "source": [
    "##### Также можно заметить, что из-за человеческого фактора в колонки **baths** и **beds** часто попадают значения, предназначенные для признака **sqft**. Давайте исправим эту ситуацию.\n"
   ]
  },
  {
   "cell_type": "code",
   "execution_count": 210,
   "metadata": {},
   "outputs": [
    {
     "name": "stdout",
     "output_type": "stream",
     "text": [
      "Пропуски в sqft до применения: 40080\n",
      "Пропуски в sqft после применения: 38824\n"
     ]
    }
   ],
   "source": [
    "def extract_sqft(text: str) -> float:\n",
    "    \"\"\"Функция ищет и возвращает число, предшествующее подстроке 'sqft'\"\"\"\n",
    "    if pd.isna(text):\n",
    "        return np.nan\n",
    "    \n",
    "    #text = str(text).replace(',', '') \n",
    "    match = re.search(r'(\\d+)\\s?sqft', str(text).replace(',', '') ) \n",
    "    if match:\n",
    "        return float(match.group(1)) \n",
    "    return np.nan\n",
    "\n",
    "\n",
    "def fill_sqft_from_columns(X: pd.DataFrame, cols_to_check: list[str]) -> pd.DataFrame:\n",
    "    for col in cols_to_check:\n",
    "        # Ищем информацию о площади в каждом указанном столбце data\n",
    "        X['sqft'] = X.apply(\n",
    "            lambda row: extract_sqft(row[col]) if pd.isna(row['sqft']) else row['sqft'], \n",
    "            axis=1\n",
    "        )\n",
    "\n",
    "    return X\n",
    "\n",
    "\n",
    "miss_sqft_before = data['sqft'].isna().sum()\n",
    "\n",
    "cols_to_check = ['baths', 'beds']\n",
    "data = fill_sqft_from_columns(data, cols_to_check)\n",
    "\n",
    "miss_sqft_after = data['sqft'].isna().sum()\n",
    "\n",
    "\n",
    "print(f'Пропуски в sqft до применения: {miss_sqft_before}')\n",
    "print(f'Пропуски в sqft после применения: {miss_sqft_after}')"
   ]
  },
  {
   "cell_type": "code",
   "execution_count": 211,
   "metadata": {},
   "outputs": [],
   "source": [
    "def give_number(pt: str) -> float:\n",
    "    \"\"\"Извлекает число из строки, заменяет запятые и возвращает его в виде float.\"\"\"\n",
    "    \n",
    "    if pd.isna(pt):\n",
    "        return np.nan\n",
    "    \n",
    "    pt = str(pt).replace(',', '')\n",
    "    if not pt:\n",
    "        return np.nan\n",
    "\n",
    "    match = re.search(r'\\d+\\.?\\d*', str(pt)) \n",
    "    if re.search(r'\\d+\\.?\\d*', str(pt)) :\n",
    "        return float(match.group())  \n",
    "    else:\n",
    "        return np.nan\n",
    "\n",
    "\n",
    "columns = ['baths','sqft', 'beds', 'target', 'lotsize','Year built','Remodeled year']\n",
    "\n",
    "for col in columns:\n",
    "    if col not in data.columns:\n",
    "        raise ValueError(f\"DataFrame must contain column '{col}'\")\n",
    "    else:\n",
    "        data[col] = data[col].apply(give_number)\n",
    "        "
   ]
  },
  {
   "cell_type": "code",
   "execution_count": 212,
   "metadata": {},
   "outputs": [],
   "source": [
    "def extract_number_second(value: str) -> int:\n",
    "    \"\"\"Извлекает количество парковочных мест из строки или возвращает 0 для отсутствующих данных.\"\"\"\n",
    "    \n",
    "    if pd.isna(value):\n",
    "            return np.nan  \n",
    "    \n",
    "    value = value.strip().lower()\n",
    "    if 'no data' in value or 'no parking' in value:\n",
    "        return 0\n",
    "   \n",
    "    match = re.search(r'\\b(\\d+)\\s*spaces?\\b', value)\n",
    "    if match:\n",
    "        return int(match.group(1))\n",
    "   \n",
    "    match = re.search(r'\\b(\\d+)\\b', value)\n",
    "    if match:\n",
    "        return int(match.group(1))\n",
    "    \n",
    "    return None\n",
    "\n",
    "\n",
    "data['Parking'] = data['Parking'].apply(extract_number_second)\n",
    "data['Parking'] = data['Parking'].fillna(0)\n",
    "data['Price/sqft'] = data['Price/sqft'].apply(extract_number_second).astype(float)"
   ]
  },
  {
   "cell_type": "markdown",
   "metadata": {},
   "source": [
    "##### С признаками **Cooling** и **Heating** поступим похожим образом как и с **propetyType**, однако перед эти немного сгрупируем данные"
   ]
  },
  {
   "cell_type": "code",
   "execution_count": 213,
   "metadata": {},
   "outputs": [],
   "source": [
    "def process_cooling(cooling: str) -> str:\n",
    "    \"\"\"Классифицирует типы охлаждения на основе строки описания.\"\"\"\n",
    "    \n",
    "    cooling_patterns = {\n",
    "            r'central|zoned': 'Central A/C',\n",
    "            r'window|wall': 'Window/Wall Unit',\n",
    "            r'heat pump': 'Heat Pump',\n",
    "            r'no a/c|no cooling': 'No A/C',\n",
    "            r'fan': 'Fan',\n",
    "            r'geothermal': 'Geothermal',\n",
    "            r'evaporative': 'Evaporative Cooler',\n",
    "            r'solar': 'Solar A/C'\n",
    "        }\n",
    "    \n",
    "    if pd.isna(cooling):\n",
    "            return np.nan  \n",
    "    \n",
    "    for pattern, category in cooling_patterns.items():\n",
    "        if re.search(pattern, cooling, re.IGNORECASE):  # re.IGNORECASE делает поиск нечувствительным к регистру\n",
    "            return category\n",
    "        \n",
    "    return 'Other'\n",
    "\n",
    "\n",
    "data['Cooling_Categorized'] = data['Cooling'].apply(process_cooling)\n",
    "data['Cooling_Categorized'] = data['Cooling_Categorized'].fillna(data['Cooling_Categorized'].mode()[0])\n",
    "\n",
    "\n",
    "encoder = MinHashEncoder(n_components=3)\n",
    "encoded = encoder.fit_transform(data[['Cooling_Categorized']])\n",
    "encoded_df = pd.DataFrame(encoded, columns=[f'Cooling_{i}' for i in range(encoded.shape[1])])\n",
    "\n",
    "\n",
    "data.reset_index(drop=True, inplace=True)\n",
    "data = pd.concat([data, encoded_df], axis=1)\n",
    "data.drop(['Cooling','Cooling_Categorized'], axis=1, inplace=True)"
   ]
  },
  {
   "cell_type": "code",
   "execution_count": 214,
   "metadata": {},
   "outputs": [],
   "source": [
    "def categorize_heating(heating: str) -> str:\n",
    "    \"\"\"Классифицирует тип отопления на основе строки описания.\"\"\"\n",
    "    \n",
    "    heating_patterns = {\n",
    "           'gas|natural gas|propane': 'Gas',\n",
    "           'electric|electricity': 'Electric',\n",
    "           'heat pump': 'Heat Pump',\n",
    "           'stove|wood|pellet': 'Stove',\n",
    "           'radiant|radiator': 'Radiant',\n",
    "           'central': 'Central',\n",
    "           'solar': 'Solar',\n",
    "           'fireplace': 'Fireplace',\n",
    "           'baseboard': 'Baseboard',\n",
    "           'steam': 'Steam',\n",
    "           'wall': 'Wall',\n",
    "           'forced air': 'Forced Air'\n",
    "       }\n",
    "    \n",
    "    if pd.isna(heating):\n",
    "            return np.nan  \n",
    "\n",
    "    for pattern, heating_type in heating_patterns.items():\n",
    "        if re.search(pattern, heating, re.IGNORECASE):\n",
    "            return heating_type\n",
    "\n",
    "    return 'Other'\n",
    "\n",
    "\n",
    "data['Heating_Categorized'] = data['Heating'].apply(categorize_heating)\n",
    "\n",
    "encoder = MinHashEncoder(n_components=2)  \n",
    "encoded = encoder.fit_transform(data[['Heating_Categorized']])\n",
    "encoded_df = pd.DataFrame(encoded, columns=[f'Heating_{i}' for i in range(encoded.shape[1])])\n",
    "\n",
    "# Объединение закодированных столбцов с исходным DataFrame\n",
    "data.reset_index(drop=True, inplace=True)\n",
    "data = pd.concat([data, encoded_df], axis=1)\n",
    "data.drop(['Heating','Heating_Categorized'], axis=1, inplace=True)"
   ]
  },
  {
   "cell_type": "markdown",
   "metadata": {},
   "source": [
    "##### С оставшимися **категориальными** значениями поступим просто: создадим на их основе хеш строки. Однако сами столбцы оставим для дальнейшей визуализации и получения геоданных.\n"
   ]
  },
  {
   "cell_type": "code",
   "execution_count": 215,
   "metadata": {},
   "outputs": [],
   "source": [
    "def minhash_transform(X: pd.DataFrame) -> pd.DataFrame:\n",
    "    \"\"\"Применяет MinHash кодирование к DataFrame и возвращает закодированный DataFrame.\"\"\"\n",
    "    encoder = MinHashEncoder(n_components=2)  \n",
    "    encoded = encoder.fit_transform(X.values.reshape(-1, 1))\n",
    "\n",
    "    encoded_df = pd.DataFrame(encoded, columns=[f'{col}_{i}' for i in range(encoded.shape[1])])\n",
    "    return encoded_df\n",
    "\n",
    "\n",
    "data.reset_index(drop=True, inplace=True)\n",
    "cols = ['city', 'street', 'state']\n",
    "\n",
    "for col in cols:\n",
    "    transformed = minhash_transform(data[col])\n",
    "    data = data.join(transformed)"
   ]
  },
  {
   "cell_type": "markdown",
   "metadata": {},
   "source": [
    "# Обработка аномалий, выбросов, а так же устранение пропусков"
   ]
  },
  {
   "cell_type": "markdown",
   "metadata": {},
   "source": [
    "##### Перед обработкой **Year built** проверим его диапазон "
   ]
  },
  {
   "cell_type": "code",
   "execution_count": 216,
   "metadata": {},
   "outputs": [
    {
     "data": {
      "text/plain": [
       "count    3.114050e+05\n",
       "mean     3.598522e+06\n",
       "std      1.419163e+09\n",
       "min      1.000000e+00\n",
       "25%      1.957000e+03\n",
       "50%      1.985000e+03\n",
       "75%      2.007000e+03\n",
       "max      5.599906e+11\n",
       "Name: Year built, dtype: float64"
      ]
     },
     "execution_count": 216,
     "metadata": {},
     "output_type": "execute_result"
    }
   ],
   "source": [
    "data['Year built'].describe()"
   ]
  },
  {
   "cell_type": "markdown",
   "metadata": {},
   "source": [
    "##### В данном признаке присутствуют явные выбросы, поэтому мы ограничим год постройки диапазоном от 1850 до 2024 года. Нижний порог выбран исходя из того, что более старые здания вряд ли будут актуальны на рынке.\n",
    "\n",
    "##### Пропущенные значения заменим на **моду**, так как этот метод показал лучшие результаты по сравнению с использованием медианы или среднего. Мода равна **2019 году**, что позволит модели лучше соответствовать будущим данным и требованиям компании.\n",
    "\n"
   ]
  },
  {
   "cell_type": "code",
   "execution_count": 217,
   "metadata": {},
   "outputs": [],
   "source": [
    "def transform_year(X: pd.DataFrame) -> pd.DataFrame:\n",
    "    \"\"\"Заполняет пропуски в 'Year built', фильтрует значения по диапазону и добавляет признаки 'is_remodeled' и 'property_age'.\"\"\"\n",
    "    \n",
    "    year_mode = X['Year built'].mode()[0]\n",
    "    X['Year built'] = X['Year built'].fillna(year_mode)\n",
    "\n",
    "    X = X.loc[(X['Year built'] >= 1850) & (X['Year built'] <= 2024)].copy() #костыль для избежания ошибки SettingWithCopyWarning\n",
    "    X.reset_index(drop = True, inplace = True)\n",
    "\n",
    "    X['is_remodeled'] = (X['Remodeled year'] > X['Year built']).fillna(False).astype(bool)\n",
    "    X['property_age'] = 2024 - X['Year built']\n",
    "    \n",
    "    X.drop(['Year built', 'Remodeled year'], axis=1, inplace=True)\n",
    "\n",
    "    return X\n",
    "\n",
    "data.reset_index(drop=True, inplace=True)\n",
    "data = transform_year(data)"
   ]
  },
  {
   "cell_type": "code",
   "execution_count": 218,
   "metadata": {},
   "outputs": [
    {
     "data": {
      "image/png": "[encoded data removed]",
      "text/plain": [
       "<Figure size 800x600 with 1 Axes>"
      ]
     },
     "metadata": {},
     "output_type": "display_data"
    }
   ],
   "source": [
    "Box(data, 'property_age')"
   ]
  },
  {
   "cell_type": "markdown",
   "metadata": {},
   "source": [
    "# 1.2 Заполнения пропущенных значений"
   ]
  },
  {
   "cell_type": "code",
   "execution_count": 219,
   "metadata": {},
   "outputs": [
    {
     "name": "stdout",
     "output_type": "stream",
     "text": [
      "                Missing Values data Type\n",
      "stories                 163276   float64\n",
      "beds                    108099   float64\n",
      "baths                   106707   float64\n",
      "lotsize                  95261   float64\n",
      "Price/sqft               62630   float64\n",
      "sqft                     39627   float64\n",
      "Average Rating            5068   float64\n",
      "street                       0    object\n",
      "city                         0    object\n",
      "zipcode                      0    object\n",
      "state                        0    object\n"
     ]
    }
   ],
   "source": [
    "find_missing_and_object_columns(data)"
   ]
  },
  {
   "cell_type": "markdown",
   "metadata": {},
   "source": [
    "Для заполнения данных я буду использовать модель типа **GBM**. Если модель сможет предсказывать значения с ошибкой, меньшей, чем при замене на среднее, это будет явным преимуществом по сравнению с простым заполнением средним или медианой.  \n",
    "\n",
    "К тому же, одним из преимуществ моделей типа **GBM** является способность эффективно обрабатывать пропуски, что делает их идеальными для решения подобных задач.\n"
   ]
  },
  {
   "cell_type": "code",
   "execution_count": 220,
   "metadata": {},
   "outputs": [],
   "source": [
    "def inplace_col(data: pd.DataFrame, features: list[str], target: str) -> pd.DataFrame:\n",
    "    \"\"\"Заполнение пропусков в данных с использованием моделей машинного обучения.\"\"\"\n",
    "    model = inplace_xgboost_model(data, features, target)\n",
    "    baseline_model(data, features, target)\n",
    "    data = fillna_optimized(data, model, features, target)\n",
    "    return data\n",
    "\n",
    "def baseline_model(data: pd.DataFrame, features: list[str], target: str) -> None:\n",
    "    \"\"\"Вычисляет и выводит ошибку базовой модели при использовании среднего значения\"\"\"\n",
    "    data = data.dropna(subset=[target])\n",
    "    X, y = data[features], data[target]\n",
    "    \n",
    "\n",
    "    baseline = DummyRegressor(strategy='mean')\n",
    "    kf = KFold(n_splits=5, shuffle=True, random_state=42)\n",
    "\n",
    "    mae_scores = cross_val_score(baseline, X, y, cv=kf, scoring='neg_mean_absolute_error')\n",
    "    mae_mean = -mae_scores.mean()\n",
    "\n",
    "    print(f\"Baseline MAE (Mean Absolute Error): {mae_mean:.2f}\", end='\\n\\n')\n",
    "\n",
    "\n",
    "def inplace_xgboost_model(data: pd.DataFrame, columns: list[str], target: str) -> xgb.XGBRegressor:\n",
    "    \"\"\"Функция для оценки базовой модели на основе XGBoost с кросс-валидацией \"\"\"\n",
    "    df = data[columns + [target]].dropna(subset=[target]).reset_index(drop=True)\n",
    "    X, y = df[columns], df[target]\n",
    "    \n",
    "    kf = KFold(n_splits=5, shuffle=True, random_state=42)\n",
    "    param_grid = {\n",
    "        'n_estimators': [100, 150,],     \n",
    "        'learning_rate': [0.01, 0.1, 0.2], \n",
    "        'max_depth': [3, 5, 7],             \n",
    "        'subsample': [0.8, 1.0],            \n",
    "        'colsample_bytree': [0.8, 1.0]      \n",
    "    }\n",
    "    \n",
    "    \n",
    "    model = xgb.XGBRegressor(random_state=42)\n",
    "    grid_search = GridSearchCV(\n",
    "        estimator=model,\n",
    "        param_grid=param_grid,\n",
    "        cv=5,\n",
    "        scoring='neg_mean_absolute_error',\n",
    "        n_jobs=-1,\n",
    "        verbose=1\n",
    "    )\n",
    "\n",
    "    grid_search.fit(X, y)\n",
    "    best_model = grid_search.best_estimator_\n",
    "    \n",
    "   \n",
    "    mae_scores = cross_val_score(best_model, X, y, cv=kf, scoring='neg_mean_absolute_error')\n",
    "    r2_scores = cross_val_score(best_model, X, y, cv=kf, scoring='r2')\n",
    "    \n",
    "    \n",
    "    mae_mean = -np.mean(mae_scores)\n",
    "    r2_mean = np.mean(r2_scores)\n",
    "    target_std = data[target].std()\n",
    "    \n",
    "    print(f'данные для {target}')\n",
    "    print(f'Параметры модели: {print(grid_search.best_params_)}')\n",
    "    print(f\"MAE (Mean Absolute Error): {mae_mean:.2f}\")\n",
    "    print(f\"R² Score: {r2_mean:.2f}\")\n",
    "    print(f\"Standard deviation of {target}: {target_std:.2f}\", end='\\n\\n')\n",
    "\n",
    "    return best_model\n",
    "\n",
    "\n",
    "def fillna_optimized(data: pd.DataFrame, model, features: list[str], target: str) -> pd.DataFrame:\n",
    "    \"\"\"Заполняет пропущенные значения в целевом столбце с использованием модели машинного обучения\"\"\"\n",
    "    \n",
    "    mask = data[target].isnull()\n",
    "    features_to_predict = data.loc[mask, features]\n",
    "    \n",
    "    predicted = model.predict(features_to_predict)\n",
    "    data.loc[mask, target] = predicted\n",
    "    \n",
    "    return data"
   ]
  },
  {
   "cell_type": "code",
   "execution_count": 221,
   "metadata": {},
   "outputs": [],
   "source": [
    "def train_xgb_with_cv(df: pd.DataFrame, params: dict = None) -> None:\n",
    "    \"\"\"\n",
    "    Функция для обучения модели XGBoost и оценки её производительности с помощью кросс-валидации.\n",
    "\n",
    "    Эта функция выполняет следующие действия:\n",
    "    1. Если параметры модели не переданы, выполняет случайный поиск гиперпараметров (RandomizedSearchCV) для модели XGBoost, чтобы найти лучшие гиперпараметры и оценить их с помощью MAE.\n",
    "    2. Если параметры модели переданы, обучает модель XGBoost с указанными гиперпараметрами и оценивает её производительность с помощью кросс-валидации (KFold), используя MAE как метрику.\n",
    "    \n",
    "    Параметры:\n",
    "    - df (pd.DataFrame): DataFrame с данными, содержащими как признаки, так и целевую переменную.\n",
    "    - params (dict, optional): Словарь с гиперпараметрами для модели XGBoost. Если не указан, будет выполнен RandomizedSearchCV для поиска оптимальных гиперпараметров.\n",
    "\n",
    "    Вывод:\n",
    "    - Если параметры не переданы, функция выводит лучшие гиперпараметры и лучший MAE, достигнутый при помощи RandomizedSearchCV.\n",
    "    - Если параметры переданы, функция выводит средний MAE, полученный при помощи кросс-валидации на обученной модели.\n",
    "    \"\"\"\n",
    "\n",
    "    \n",
    "    df = df.select_dtypes(include=['number', 'bool'])\n",
    "    X = df.drop('target', axis=1)\n",
    "    y = df['target']\n",
    "\n",
    "    if not params:\n",
    "        param_grid = {\n",
    "            'n_estimators': [100, 200, 300, 500],\n",
    "            'max_depth': [3, 5, 7, 10],\n",
    "            'learning_rate': [0.01, 0.05, 0.1, 0.2],\n",
    "            'subsample': [0.6, 0.8, 1.0],\n",
    "            'colsample_bytree': [0.6, 0.8, 1.0],\n",
    "            'gamma': [0, 0.1, 0.3, 0.5],\n",
    "            'min_child_weight': [1, 3, 5]\n",
    "        }\n",
    "       \n",
    "        model = xgb.XGBRegressor(random_state=42)\n",
    "        random_search = RandomizedSearchCV(\n",
    "            estimator=model, \n",
    "            param_distributions=param_grid, \n",
    "            n_iter=50,  \n",
    "            scoring='neg_mean_absolute_error',  \n",
    "            cv=5,  \n",
    "            verbose=1, \n",
    "            random_state=42,\n",
    "            n_jobs=-1 \n",
    "        )\n",
    "\n",
    "       \n",
    "        random_search.fit(X, y)\n",
    "        print(\"Лучшие параметры:\", random_search.best_params_)\n",
    "        print(\"Лучший MAE:\", -random_search.best_score_)\n",
    "\n",
    "    else:\n",
    "        model = xgb.XGBRegressor(**params, random_state=42)\n",
    "        kf = KFold(n_splits=5, shuffle=True, random_state=42)\n",
    "        mae_scores = cross_val_score(model, X, y, cv=kf, scoring='neg_mean_absolute_error')\n",
    "        mae_mean = -mae_scores.mean()\n",
    "        print(f\"Средний MAE на KFold: {mae_mean}\")"
   ]
  },
  {
   "cell_type": "markdown",
   "metadata": {},
   "source": [
    "## 1.2.1 Перед заполнения данных следует избавить от аномалий в ключевых признаках, так как они могут сильно повлиять на значения"
   ]
  },
  {
   "cell_type": "code",
   "execution_count": 222,
   "metadata": {},
   "outputs": [
    {
     "data": {
      "image/png": "[encoded data removed]",
      "text/plain": [
       "<Figure size 1200x1000 with 4 Axes>"
      ]
     },
     "metadata": {},
     "output_type": "display_data"
    }
   ],
   "source": [
    "# Убедимся, что у нас есть необходимые данные\n",
    "data.reset_index(drop=True, inplace=True)\n",
    "columns = ['baths', 'target', 'beds', 'Price/sqft']\n",
    "\n",
    "# Создаем подграфики с двумя рядами и двумя колонками (всего 4 графика)\n",
    "fig, axes = plt.subplots(2, 2, figsize=(12, 10))\n",
    "\n",
    "# Устанавливаем заголовок для всего графика\n",
    "fig.suptitle('Диаграммы распределения данных', fontsize=16)\n",
    "\n",
    "# Коробчатая диаграмма для первого столбца\n",
    "sns.boxplot(x=data[columns[0]], ax=axes[0, 0])\n",
    "axes[0, 0].set_title(f\"Коробчатая диаграмма для {columns[0]}\")\n",
    "\n",
    "# Коробчатая диаграмма для второго столбца\n",
    "sns.boxplot(x=data[columns[1]], ax=axes[0, 1])\n",
    "axes[0, 1].set_title(f\"Коробчатая диаграмма для {columns[1]}\")\n",
    "\n",
    "# Коробчатая диаграмма для третьего столбца\n",
    "sns.boxplot(x=data[columns[2]], ax=axes[1, 0])\n",
    "axes[1, 0].set_title(f\"Коробчатая диаграмма для {columns[2]}\")\n",
    "\n",
    "# Коробчатая диаграмма для четвертого столбца\n",
    "sns.boxplot(x=data[columns[3]], ax=axes[1, 1])\n",
    "axes[1, 1].set_title(f\"Коробчатая диаграмма для {columns[3]}\")\n",
    "\n",
    "# Корректируем расположение графиков\n",
    "plt.tight_layout(rect=[0, 0, 1, 0.96])\n",
    "\n",
    "# Показываем графики\n",
    "plt.show()\n"
   ]
  },
  {
   "cell_type": "code",
   "execution_count": 223,
   "metadata": {},
   "outputs": [],
   "source": [
    "#В данном случае я буду удалять \"строгим способом\" основываясь на том, какие значения явно выходят на рамки нормальных данных и веду к аномалиям\n",
    "data = data[(data['baths'] < 10) | (data['baths'].isnull())]\n",
    "data = data[(data['target'] <= 40e6) & (data['target']>1e3)]\n",
    "data = data[(data['beds'] < 20) | (data['beds'].isnull())]\n",
    "data = data[(data['Price/sqft'] < 4e3) | (data['Price/sqft'].isnull())]"
   ]
  },
  {
   "cell_type": "code",
   "execution_count": 224,
   "metadata": {},
   "outputs": [
    {
     "data": {
      "image/png": "[encoded data removed]",
      "text/plain": [
       "<Figure size 1200x1000 with 4 Axes>"
      ]
     },
     "metadata": {},
     "output_type": "display_data"
    }
   ],
   "source": [
    "# Убедимся, что у нас есть необходимые данные\n",
    "data.reset_index(drop=True, inplace=True)\n",
    "columns = ['baths', 'target', 'beds', 'Price/sqft']\n",
    "\n",
    "# Создаем подграфики с двумя рядами и двумя колонками (всего 4 графика)\n",
    "fig, axes = plt.subplots(2, 2, figsize=(12, 10))\n",
    "\n",
    "# Устанавливаем заголовок для всего графика\n",
    "fig.suptitle('Диаграммы распределения данных', fontsize=16)\n",
    "\n",
    "# Коробчатая диаграмма для первого столбца\n",
    "sns.boxplot(x=data[columns[0]], ax=axes[0, 0])\n",
    "axes[0, 0].set_title(f\"Коробчатая диаграмма для {columns[0]}\")\n",
    "\n",
    "# Коробчатая диаграмма для второго столбца\n",
    "sns.boxplot(x=data[columns[1]], ax=axes[0, 1])\n",
    "axes[0, 1].set_title(f\"Коробчатая диаграмма для {columns[1]}\")\n",
    "\n",
    "# Коробчатая диаграмма для третьего столбца\n",
    "sns.boxplot(x=data[columns[2]], ax=axes[1, 0])\n",
    "axes[1, 0].set_title(f\"Коробчатая диаграмма для {columns[2]}\")\n",
    "\n",
    "# Коробчатая диаграмма для четвертого столбца\n",
    "sns.boxplot(x=data[columns[3]], ax=axes[1, 1])\n",
    "axes[1, 1].set_title(f\"Коробчатая диаграмма для {columns[3]}\")\n",
    "\n",
    "# Корректируем расположение графиков\n",
    "plt.tight_layout(rect=[0, 0, 1, 0.96])\n",
    "\n",
    "# Показываем графики\n",
    "plt.show()\n"
   ]
  },
  {
   "cell_type": "markdown",
   "metadata": {},
   "source": [
    "В целом диаграммы улучшиличь и теперь действительно похожи на правдивые данные   \n",
    "Так же заметим огромный разброс в целевой переменной, и из неё истекает и **Price\\sqft**, это надо будет учесть при обучении модели"
   ]
  },
  {
   "cell_type": "markdown",
   "metadata": {},
   "source": [
    "### Отдельно поработаем с столбцом sqft"
   ]
  },
  {
   "cell_type": "code",
   "execution_count": 225,
   "metadata": {},
   "outputs": [
    {
     "data": {
      "text/plain": [
       "count    3.184090e+05\n",
       "mean     6.803042e+03\n",
       "std      1.626435e+06\n",
       "min      0.000000e+00\n",
       "25%      1.239000e+03\n",
       "50%      1.795000e+03\n",
       "75%      2.575000e+03\n",
       "max      7.959794e+08\n",
       "Name: sqft, dtype: float64"
      ]
     },
     "execution_count": 225,
     "metadata": {},
     "output_type": "execute_result"
    }
   ],
   "source": [
    "data['sqft'].describe()"
   ]
  },
  {
   "cell_type": "code",
   "execution_count": 226,
   "metadata": {},
   "outputs": [],
   "source": [
    "Q1 = data['sqft'].quantile(0.25)\n",
    "Q3 = data['sqft'].quantile(0.75)\n",
    "IQR = Q3 - Q1\n",
    "\n",
    "lower_bound = 300\n",
    "upper_bound = Q3 + 1.5 * IQR\n",
    "\n",
    "data = data[(data['sqft'].isna()) |(data['sqft'] >= lower_bound) & (data['sqft'] <= upper_bound)]\n",
    "data.reset_index(drop=True, inplace=True)"
   ]
  },
  {
   "cell_type": "code",
   "execution_count": 227,
   "metadata": {},
   "outputs": [
    {
     "data": {
      "image/png": "[encoded data removed]",
      "text/plain": [
       "<Figure size 1400x600 with 2 Axes>"
      ]
     },
     "metadata": {},
     "output_type": "display_data"
    }
   ],
   "source": [
    "# Создание фигуры с двумя графиками (гистограмма и коробчатая диаграмма)\n",
    "fig, axes = plt.subplots(1, 2, figsize=(14, 6))\n",
    "\n",
    "# Гистограмма для 'sqft'\n",
    "sns.histplot(data['sqft'], bins=50, kde=False, ax=axes[0])\n",
    "axes[0].set_title(\"Гистограмма для sqft\")\n",
    "\n",
    "# Коробчатая диаграмма для 'sqft'\n",
    "sns.boxplot(x=data['sqft'], ax=axes[1])\n",
    "axes[1].set_title(\"Коробчатая диаграмма для sqft\")\n",
    "\n",
    "# Общий заголовок\n",
    "fig.suptitle('Распределение и коробчатая диаграмма для sqft', fontsize=16)\n",
    "\n",
    "# Центрирование заголовков и отступов\n",
    "plt.tight_layout(rect=[0, 0, 1, 0.96])\n",
    "\n",
    "# Отображение графиков\n",
    "plt.show()"
   ]
  },
  {
   "cell_type": "markdown",
   "metadata": {},
   "source": [
    "#### 1. В данном столбце больше не обнаружено аномалий.\n",
    "#### 2. Распределение в этом столбце имеет логнормальный характер, что может быть полезным в будущем.\n"
   ]
  },
  {
   "cell_type": "markdown",
   "metadata": {},
   "source": [
    "## Замещение пропущенных значений"
   ]
  },
  {
   "cell_type": "code",
   "execution_count": 228,
   "metadata": {},
   "outputs": [
    {
     "data": {
      "application/vnd.plotly.v1+json": {
       "config": {
        "plotlyServerURL": "https://plot.ly"
       },
       "data": [
        {
         "coloraxis": "coloraxis",
         "hovertemplate": "Feature: %{x}<br>Correlation: %{y}<br>color: %{z}<extra></extra>",
         "name": "0",
         "type": "heatmap",
         "x": [
          "status",
          "propertyType",
          "baths",
          "sqft",
          "beds",
          "stories",
          "PrivatePool",
          "target",
          "count_fireplace",
          "fireplace_type",
          "for_rent",
          "Parking",
          "Price/sqft",
          "lotsize",
          "Average Rating",
          "Cooling_0",
          "Cooling_1",
          "Cooling_2",
          "Heating_0",
          "Heating_1",
          "city_0",
          "city_1",
          "street_0",
          "street_1",
          "state_0",
          "state_1",
          "is_remodeled",
          "property_age"
         ],
         "xaxis": "x",
         "y": [
          "Correlation"
         ],
         "yaxis": "y",
         "z": [
          [
           0.005270185484919995,
           -0.15026234933775498,
           0.7247112158067395,
           1,
           0.5937873935852898,
           0.046985197406267935,
           0.17127546338965005,
           0.38459912838328825,
           0.049059110126317286,
           0.061686352082709756,
           0.0030498853924928074,
           0.048242783205769524,
           0.024567520000824,
           -0.00035198782501090416,
           0.32604287921804087,
           -0.012337090513658729,
           -0.07553526602908993,
           0.05123552040604731,
           0.00948250636680346,
           0.0379795757544379,
           0.021314309483223853,
           0.01910184818634478,
           -0.018352562543018765,
           -0.018583927871928738,
           -0.04337734680498101,
           0.006154923223780144,
           -0.035234598729593204,
           -0.22159344540385087
          ]
         ]
        },
        {
         "coloraxis": "coloraxis",
         "hovertemplate": "Feature: %{x}<br>Correlation: %{y}<br>color: %{z}<extra></extra>",
         "name": "0",
         "type": "heatmap",
         "x": [
          "status",
          "propertyType",
          "baths",
          "sqft",
          "beds",
          "stories",
          "PrivatePool",
          "target",
          "count_fireplace",
          "fireplace_type",
          "for_rent",
          "Parking",
          "Price/sqft",
          "lotsize",
          "Average Rating",
          "Cooling_0",
          "Cooling_1",
          "Cooling_2",
          "Heating_0",
          "Heating_1",
          "city_0",
          "city_1",
          "street_0",
          "street_1",
          "state_0",
          "state_1",
          "is_remodeled",
          "property_age"
         ],
         "xaxis": "x2",
         "y": [
          "Correlation"
         ],
         "yaxis": "y2",
         "z": [
          [
           0.008640581698033915,
           0.007463542249893153,
           1,
           0.7247112158067395,
           0.5384519414444677,
           0.08509568435811232,
           0.16015827020425233,
           0.3951095069852255,
           0.028029482990119058,
           -0.00067476711510985,
           0.005377905490473625,
           0.03438998913074847,
           0.14293020492169758,
           -0.0065315627779055,
           0.25765182266951514,
           -0.03803607529343312,
           -0.12096354013076803,
           0.07024249949037087,
           0.008342074288301738,
           0.043173122916275,
           0.0056321047747797245,
           0.030590135825822904,
           -0.016161439091512214,
           -0.01112157476537547,
           0.004183758540745879,
           -0.044855145598500984,
           -0.043953290258845444,
           -0.26795535057139896
          ]
         ]
        },
        {
         "coloraxis": "coloraxis",
         "hovertemplate": "Feature: %{x}<br>Correlation: %{y}<br>color: %{z}<extra></extra>",
         "name": "0",
         "type": "heatmap",
         "x": [
          "status",
          "propertyType",
          "baths",
          "sqft",
          "beds",
          "stories",
          "PrivatePool",
          "target",
          "count_fireplace",
          "fireplace_type",
          "for_rent",
          "Parking",
          "Price/sqft",
          "lotsize",
          "Average Rating",
          "Cooling_0",
          "Cooling_1",
          "Cooling_2",
          "Heating_0",
          "Heating_1",
          "city_0",
          "city_1",
          "street_0",
          "street_1",
          "state_0",
          "state_1",
          "is_remodeled",
          "property_age"
         ],
         "xaxis": "x3",
         "y": [
          "Correlation"
         ],
         "yaxis": "y3",
         "z": [
          [
           -0.0016685682992818134,
           -0.226311847032463,
           0.5384519414444677,
           0.5937873935852898,
           1,
           0.004626877083352168,
           0.057162297135750176,
           0.21465101395802588,
           0.01684250561157337,
           0.026042370639923113,
           0.0016384983064766836,
           0.02861618100032771,
           -0.005686613355763973,
           0.0010158470145821832,
           0.1241618135272956,
           -0.010354375826692122,
           0.03202060736963507,
           -0.04539950993097411,
           0.007593976914798097,
           0.03542763288570236,
           -0.025318044758567453,
           -0.01646292375444029,
           0.001602488852650999,
           0.005316776645319465,
           0.05455410212160586,
           0.021007304726310363,
           -0.0022138434280147713,
           -0.01566434714300678
          ]
         ]
        },
        {
         "coloraxis": "coloraxis",
         "hovertemplate": "Feature: %{x}<br>Correlation: %{y}<br>color: %{z}<extra></extra>",
         "name": "0",
         "type": "heatmap",
         "x": [
          "status",
          "propertyType",
          "baths",
          "sqft",
          "beds",
          "stories",
          "PrivatePool",
          "target",
          "count_fireplace",
          "fireplace_type",
          "for_rent",
          "Parking",
          "Price/sqft",
          "lotsize",
          "Average Rating",
          "Cooling_0",
          "Cooling_1",
          "Cooling_2",
          "Heating_0",
          "Heating_1",
          "city_0",
          "city_1",
          "street_0",
          "street_1",
          "state_0",
          "state_1",
          "is_remodeled",
          "property_age"
         ],
         "xaxis": "x4",
         "y": [
          "Correlation"
         ],
         "yaxis": "y4",
         "z": [
          [
           0.00048726071632406885,
           0.08675141629537379,
           0.14293020492169758,
           0.024567520000824,
           -0.005686613355763973,
           0.05136294604972301,
           0.10857841301416626,
           0.4537135445439679,
           -0.0041551007162895295,
           -0.02390795247285316,
           -0.0015728276981191217,
           0.027767830703493396,
           1,
           0.0011421067140805867,
           0.16777604724740722,
           -0.015946993894513737,
           0.040796253487708496,
           -0.043598787778959244,
           -0.005443377463833481,
           0.04019087901872378,
           -0.1285672752022171,
           -0.023484914435796277,
           0.03818746707281875,
           0.016126013323550306,
           0.3765282906795671,
           -0.15542096158893678,
           0.049523523154788314,
           0.16319830426340465
          ]
         ]
        }
       ],
       "layout": {
        "annotations": [
         {
          "font": {
           "size": 16
          },
          "showarrow": false,
          "text": "Гистограмма для sqft",
          "x": 0.225,
          "xanchor": "center",
          "xref": "paper",
          "y": 1,
          "yanchor": "bottom",
          "yref": "paper"
         },
         {
          "font": {
           "size": 16
          },
          "showarrow": false,
          "text": "Гистограмма  для baths",
          "x": 0.775,
          "xanchor": "center",
          "xref": "paper",
          "y": 1,
          "yanchor": "bottom",
          "yref": "paper"
         },
         {
          "font": {
           "size": 16
          },
          "showarrow": false,
          "text": "Гистограмма для beds",
          "x": 0.225,
          "xanchor": "center",
          "xref": "paper",
          "y": 0.375,
          "yanchor": "bottom",
          "yref": "paper"
         },
         {
          "font": {
           "size": 16
          },
          "showarrow": false,
          "text": "Гистограмма  для Price/sqft",
          "x": 0.775,
          "xanchor": "center",
          "xref": "paper",
          "y": 0.375,
          "yanchor": "bottom",
          "yref": "paper"
         }
        ],
        "height": 1000,
        "template": {
         "data": {
          "bar": [
           {
            "error_x": {
             "color": "#2a3f5f"
            },
            "error_y": {
             "color": "#2a3f5f"
            },
            "marker": {
             "line": {
              "color": "#E5ECF6",
              "width": 0.5
             },
             "pattern": {
              "fillmode": "overlay",
              "size": 10,
              "solidity": 0.2
             }
            },
            "type": "bar"
           }
          ],
          "barpolar": [
           {
            "marker": {
             "line": {
              "color": "#E5ECF6",
              "width": 0.5
             },
             "pattern": {
              "fillmode": "overlay",
              "size": 10,
              "solidity": 0.2
             }
            },
            "type": "barpolar"
           }
          ],
          "carpet": [
           {
            "aaxis": {
             "endlinecolor": "#2a3f5f",
             "gridcolor": "white",
             "linecolor": "white",
             "minorgridcolor": "white",
             "startlinecolor": "#2a3f5f"
            },
            "baxis": {
             "endlinecolor": "#2a3f5f",
             "gridcolor": "white",
             "linecolor": "white",
             "minorgridcolor": "white",
             "startlinecolor": "#2a3f5f"
            },
            "type": "carpet"
           }
          ],
          "choropleth": [
           {
            "colorbar": {
             "outlinewidth": 0,
             "ticks": ""
            },
            "type": "choropleth"
           }
          ],
          "contour": [
           {
            "colorbar": {
             "outlinewidth": 0,
             "ticks": ""
            },
            "colorscale": [
             [
              0,
              "#0d0887"
             ],
             [
              0.1111111111111111,
              "#46039f"
             ],
             [
              0.2222222222222222,
              "#7201a8"
             ],
             [
              0.3333333333333333,
              "#9c179e"
             ],
             [
              0.4444444444444444,
              "#bd3786"
             ],
             [
              0.5555555555555556,
              "#d8576b"
             ],
             [
              0.6666666666666666,
              "#ed7953"
             ],
             [
              0.7777777777777778,
              "#fb9f3a"
             ],
             [
              0.8888888888888888,
              "#fdca26"
             ],
             [
              1,
              "#f0f921"
             ]
            ],
            "type": "contour"
           }
          ],
          "contourcarpet": [
           {
            "colorbar": {
             "outlinewidth": 0,
             "ticks": ""
            },
            "type": "contourcarpet"
           }
          ],
          "heatmap": [
           {
            "colorbar": {
             "outlinewidth": 0,
             "ticks": ""
            },
            "colorscale": [
             [
              0,
              "#0d0887"
             ],
             [
              0.1111111111111111,
              "#46039f"
             ],
             [
              0.2222222222222222,
              "#7201a8"
             ],
             [
              0.3333333333333333,
              "#9c179e"
             ],
             [
              0.4444444444444444,
              "#bd3786"
             ],
             [
              0.5555555555555556,
              "#d8576b"
             ],
             [
              0.6666666666666666,
              "#ed7953"
             ],
             [
              0.7777777777777778,
              "#fb9f3a"
             ],
             [
              0.8888888888888888,
              "#fdca26"
             ],
             [
              1,
              "#f0f921"
             ]
            ],
            "type": "heatmap"
           }
          ],
          "heatmapgl": [
           {
            "colorbar": {
             "outlinewidth": 0,
             "ticks": ""
            },
            "colorscale": [
             [
              0,
              "#0d0887"
             ],
             [
              0.1111111111111111,
              "#46039f"
             ],
             [
              0.2222222222222222,
              "#7201a8"
             ],
             [
              0.3333333333333333,
              "#9c179e"
             ],
             [
              0.4444444444444444,
              "#bd3786"
             ],
             [
              0.5555555555555556,
              "#d8576b"
             ],
             [
              0.6666666666666666,
              "#ed7953"
             ],
             [
              0.7777777777777778,
              "#fb9f3a"
             ],
             [
              0.8888888888888888,
              "#fdca26"
             ],
             [
              1,
              "#f0f921"
             ]
            ],
            "type": "heatmapgl"
           }
          ],
          "histogram": [
           {
            "marker": {
             "pattern": {
              "fillmode": "overlay",
              "size": 10,
              "solidity": 0.2
             }
            },
            "type": "histogram"
           }
          ],
          "histogram2d": [
           {
            "colorbar": {
             "outlinewidth": 0,
             "ticks": ""
            },
            "colorscale": [
             [
              0,
              "#0d0887"
             ],
             [
              0.1111111111111111,
              "#46039f"
             ],
             [
              0.2222222222222222,
              "#7201a8"
             ],
             [
              0.3333333333333333,
              "#9c179e"
             ],
             [
              0.4444444444444444,
              "#bd3786"
             ],
             [
              0.5555555555555556,
              "#d8576b"
             ],
             [
              0.6666666666666666,
              "#ed7953"
             ],
             [
              0.7777777777777778,
              "#fb9f3a"
             ],
             [
              0.8888888888888888,
              "#fdca26"
             ],
             [
              1,
              "#f0f921"
             ]
            ],
            "type": "histogram2d"
           }
          ],
          "histogram2dcontour": [
           {
            "colorbar": {
             "outlinewidth": 0,
             "ticks": ""
            },
            "colorscale": [
             [
              0,
              "#0d0887"
             ],
             [
              0.1111111111111111,
              "#46039f"
             ],
             [
              0.2222222222222222,
              "#7201a8"
             ],
             [
              0.3333333333333333,
              "#9c179e"
             ],
             [
              0.4444444444444444,
              "#bd3786"
             ],
             [
              0.5555555555555556,
              "#d8576b"
             ],
             [
              0.6666666666666666,
              "#ed7953"
             ],
             [
              0.7777777777777778,
              "#fb9f3a"
             ],
             [
              0.8888888888888888,
              "#fdca26"
             ],
             [
              1,
              "#f0f921"
             ]
            ],
            "type": "histogram2dcontour"
           }
          ],
          "mesh3d": [
           {
            "colorbar": {
             "outlinewidth": 0,
             "ticks": ""
            },
            "type": "mesh3d"
           }
          ],
          "parcoords": [
           {
            "line": {
             "colorbar": {
              "outlinewidth": 0,
              "ticks": ""
             }
            },
            "type": "parcoords"
           }
          ],
          "pie": [
           {
            "automargin": true,
            "type": "pie"
           }
          ],
          "scatter": [
           {
            "fillpattern": {
             "fillmode": "overlay",
             "size": 10,
             "solidity": 0.2
            },
            "type": "scatter"
           }
          ],
          "scatter3d": [
           {
            "line": {
             "colorbar": {
              "outlinewidth": 0,
              "ticks": ""
             }
            },
            "marker": {
             "colorbar": {
              "outlinewidth": 0,
              "ticks": ""
             }
            },
            "type": "scatter3d"
           }
          ],
          "scattercarpet": [
           {
            "marker": {
             "colorbar": {
              "outlinewidth": 0,
              "ticks": ""
             }
            },
            "type": "scattercarpet"
           }
          ],
          "scattergeo": [
           {
            "marker": {
             "colorbar": {
              "outlinewidth": 0,
              "ticks": ""
             }
            },
            "type": "scattergeo"
           }
          ],
          "scattergl": [
           {
            "marker": {
             "colorbar": {
              "outlinewidth": 0,
              "ticks": ""
             }
            },
            "type": "scattergl"
           }
          ],
          "scattermapbox": [
           {
            "marker": {
             "colorbar": {
              "outlinewidth": 0,
              "ticks": ""
             }
            },
            "type": "scattermapbox"
           }
          ],
          "scatterpolar": [
           {
            "marker": {
             "colorbar": {
              "outlinewidth": 0,
              "ticks": ""
             }
            },
            "type": "scatterpolar"
           }
          ],
          "scatterpolargl": [
           {
            "marker": {
             "colorbar": {
              "outlinewidth": 0,
              "ticks": ""
             }
            },
            "type": "scatterpolargl"
           }
          ],
          "scatterternary": [
           {
            "marker": {
             "colorbar": {
              "outlinewidth": 0,
              "ticks": ""
             }
            },
            "type": "scatterternary"
           }
          ],
          "surface": [
           {
            "colorbar": {
             "outlinewidth": 0,
             "ticks": ""
            },
            "colorscale": [
             [
              0,
              "#0d0887"
             ],
             [
              0.1111111111111111,
              "#46039f"
             ],
             [
              0.2222222222222222,
              "#7201a8"
             ],
             [
              0.3333333333333333,
              "#9c179e"
             ],
             [
              0.4444444444444444,
              "#bd3786"
             ],
             [
              0.5555555555555556,
              "#d8576b"
             ],
             [
              0.6666666666666666,
              "#ed7953"
             ],
             [
              0.7777777777777778,
              "#fb9f3a"
             ],
             [
              0.8888888888888888,
              "#fdca26"
             ],
             [
              1,
              "#f0f921"
             ]
            ],
            "type": "surface"
           }
          ],
          "table": [
           {
            "cells": {
             "fill": {
              "color": "#EBF0F8"
             },
             "line": {
              "color": "white"
             }
            },
            "header": {
             "fill": {
              "color": "#C8D4E3"
             },
             "line": {
              "color": "white"
             }
            },
            "type": "table"
           }
          ]
         },
         "layout": {
          "annotationdefaults": {
           "arrowcolor": "#2a3f5f",
           "arrowhead": 0,
           "arrowwidth": 1
          },
          "autotypenumbers": "strict",
          "coloraxis": {
           "colorbar": {
            "outlinewidth": 0,
            "ticks": ""
           }
          },
          "colorscale": {
           "diverging": [
            [
             0,
             "#8e0152"
            ],
            [
             0.1,
             "#c51b7d"
            ],
            [
             0.2,
             "#de77ae"
            ],
            [
             0.3,
             "#f1b6da"
            ],
            [
             0.4,
             "#fde0ef"
            ],
            [
             0.5,
             "#f7f7f7"
            ],
            [
             0.6,
             "#e6f5d0"
            ],
            [
             0.7,
             "#b8e186"
            ],
            [
             0.8,
             "#7fbc41"
            ],
            [
             0.9,
             "#4d9221"
            ],
            [
             1,
             "#276419"
            ]
           ],
           "sequential": [
            [
             0,
             "#0d0887"
            ],
            [
             0.1111111111111111,
             "#46039f"
            ],
            [
             0.2222222222222222,
             "#7201a8"
            ],
            [
             0.3333333333333333,
             "#9c179e"
            ],
            [
             0.4444444444444444,
             "#bd3786"
            ],
            [
             0.5555555555555556,
             "#d8576b"
            ],
            [
             0.6666666666666666,
             "#ed7953"
            ],
            [
             0.7777777777777778,
             "#fb9f3a"
            ],
            [
             0.8888888888888888,
             "#fdca26"
            ],
            [
             1,
             "#f0f921"
            ]
           ],
           "sequentialminus": [
            [
             0,
             "#0d0887"
            ],
            [
             0.1111111111111111,
             "#46039f"
            ],
            [
             0.2222222222222222,
             "#7201a8"
            ],
            [
             0.3333333333333333,
             "#9c179e"
            ],
            [
             0.4444444444444444,
             "#bd3786"
            ],
            [
             0.5555555555555556,
             "#d8576b"
            ],
            [
             0.6666666666666666,
             "#ed7953"
            ],
            [
             0.7777777777777778,
             "#fb9f3a"
            ],
            [
             0.8888888888888888,
             "#fdca26"
            ],
            [
             1,
             "#f0f921"
            ]
           ]
          },
          "colorway": [
           "#636efa",
           "#EF553B",
           "#00cc96",
           "#ab63fa",
           "#FFA15A",
           "#19d3f3",
           "#FF6692",
           "#B6E880",
           "#FF97FF",
           "#FECB52"
          ],
          "font": {
           "color": "#2a3f5f"
          },
          "geo": {
           "bgcolor": "white",
           "lakecolor": "white",
           "landcolor": "#E5ECF6",
           "showlakes": true,
           "showland": true,
           "subunitcolor": "white"
          },
          "hoverlabel": {
           "align": "left"
          },
          "hovermode": "closest",
          "mapbox": {
           "style": "light"
          },
          "paper_bgcolor": "white",
          "plot_bgcolor": "#E5ECF6",
          "polar": {
           "angularaxis": {
            "gridcolor": "white",
            "linecolor": "white",
            "ticks": ""
           },
           "bgcolor": "#E5ECF6",
           "radialaxis": {
            "gridcolor": "white",
            "linecolor": "white",
            "ticks": ""
           }
          },
          "scene": {
           "xaxis": {
            "backgroundcolor": "#E5ECF6",
            "gridcolor": "white",
            "gridwidth": 2,
            "linecolor": "white",
            "showbackground": true,
            "ticks": "",
            "zerolinecolor": "white"
           },
           "yaxis": {
            "backgroundcolor": "#E5ECF6",
            "gridcolor": "white",
            "gridwidth": 2,
            "linecolor": "white",
            "showbackground": true,
            "ticks": "",
            "zerolinecolor": "white"
           },
           "zaxis": {
            "backgroundcolor": "#E5ECF6",
            "gridcolor": "white",
            "gridwidth": 2,
            "linecolor": "white",
            "showbackground": true,
            "ticks": "",
            "zerolinecolor": "white"
           }
          },
          "shapedefaults": {
           "line": {
            "color": "#2a3f5f"
           }
          },
          "ternary": {
           "aaxis": {
            "gridcolor": "white",
            "linecolor": "white",
            "ticks": ""
           },
           "baxis": {
            "gridcolor": "white",
            "linecolor": "white",
            "ticks": ""
           },
           "bgcolor": "#E5ECF6",
           "caxis": {
            "gridcolor": "white",
            "linecolor": "white",
            "ticks": ""
           }
          },
          "title": {
           "x": 0.05
          },
          "xaxis": {
           "automargin": true,
           "gridcolor": "white",
           "linecolor": "white",
           "ticks": "",
           "title": {
            "standoff": 15
           },
           "zerolinecolor": "white",
           "zerolinewidth": 2
          },
          "yaxis": {
           "automargin": true,
           "gridcolor": "white",
           "linecolor": "white",
           "ticks": "",
           "title": {
            "standoff": 15
           },
           "zerolinecolor": "white",
           "zerolinewidth": 2
          }
         }
        },
        "title": {
         "text": "Корреляции по столбцам",
         "x": 0.5
        },
        "width": 1600,
        "xaxis": {
         "anchor": "y",
         "domain": [
          0,
          0.45
         ]
        },
        "xaxis2": {
         "anchor": "y2",
         "domain": [
          0.55,
          1
         ]
        },
        "xaxis3": {
         "anchor": "y3",
         "domain": [
          0,
          0.45
         ]
        },
        "xaxis4": {
         "anchor": "y4",
         "domain": [
          0.55,
          1
         ]
        },
        "yaxis": {
         "anchor": "x",
         "domain": [
          0.625,
          1
         ]
        },
        "yaxis2": {
         "anchor": "x2",
         "domain": [
          0.625,
          1
         ]
        },
        "yaxis3": {
         "anchor": "x3",
         "domain": [
          0,
          0.375
         ]
        },
        "yaxis4": {
         "anchor": "x4",
         "domain": [
          0,
          0.375
         ]
        }
       }
      }
     },
     "metadata": {},
     "output_type": "display_data"
    }
   ],
   "source": [
    "def corr_row(data: pd.DataFrame, col: str) -> px.imshow:\n",
    "    \"\"\"Вычисляет корреляцию заданного столбца с другими и возвращает визуализацию.\"\"\"\n",
    "    \n",
    "    correlation_col = data.corr()[col]\n",
    "\n",
    "    correlation_df = correlation_col.reset_index()\n",
    "    correlation_df.columns = ['Feature', 'Correlation']\n",
    "\n",
    "    fig = px.imshow(\n",
    "        correlation_df.set_index('Feature').T, \n",
    "        labels=dict(x='Feature', y='Correlation'),\n",
    "        title=f'Correlation with {col}',\n",
    "        color_continuous_scale='Viridis'\n",
    "    )\n",
    "\n",
    "    return fig\n",
    "\n",
    "\n",
    "data.reset_index(drop=True, inplace=True)\n",
    "chart_data = data.select_dtypes(include=['number', 'bool'])\n",
    "chart_data = chart_data.dropna()\n",
    "\n",
    "\n",
    "columns = ['sqft', 'baths', 'beds','Price/sqft']\n",
    "fig = make_subplots(\n",
    "        rows=2, cols=2, \n",
    "        subplot_titles=[f\"Гистограмма для {columns[0]}\", \n",
    "                        f\"Гистограмма  для {columns[1]}\",\n",
    "                        f\"Гистограмма для {columns[2]}\", \n",
    "                        f\"Гистограмма  для {columns[3]}\"]\n",
    "    )\n",
    "\n",
    "\n",
    "for index, col in enumerate(columns, start=1):\n",
    "    new_fig = corr_row(chart_data, col)\n",
    "    for trace in new_fig.data:  \n",
    "        fig.add_trace(trace, row=(index-1)//2+1, col=(index-1)%2+1)\n",
    "\n",
    "\n",
    "fig.update_layout(height=1000, \n",
    "                  width=1600, \n",
    "                  title_text=\"Корреляции по столбцам\",\n",
    "                  title_x=0.5)\n",
    "fig.show()\n"
   ]
  },
  {
   "cell_type": "code",
   "execution_count": 229,
   "metadata": {},
   "outputs": [
    {
     "name": "stdout",
     "output_type": "stream",
     "text": [
      "Fitting 5 folds for each of 72 candidates, totalling 360 fits\n",
      "данные для sqft\n",
      "{'colsample_bytree': 1.0, 'learning_rate': 0.2, 'max_depth': 7, 'n_estimators': 150, 'subsample': 1.0}\n",
      "Параметры модели: None\n",
      "MAE (Mean Absolute Error): 410.24\n",
      "R² Score: 0.58\n",
      "Standard deviation of sqft: 870.19\n",
      "\n",
      "Baseline MAE (Mean Absolute Error): 700.08\n",
      "\n"
     ]
    }
   ],
   "source": [
    "def round_to_nearest_half(value):\n",
    "    return round(value * 2)/2\n",
    "\n",
    "data = inplace_col(data, ['baths', 'beds', 'PrivatePool', 'Average Rating'], 'sqft')\n"
   ]
  },
  {
   "cell_type": "code",
   "execution_count": 230,
   "metadata": {},
   "outputs": [
    {
     "name": "stdout",
     "output_type": "stream",
     "text": [
      "Fitting 5 folds for each of 72 candidates, totalling 360 fits\n",
      "данные для baths\n",
      "{'colsample_bytree': 1.0, 'learning_rate': 0.2, 'max_depth': 7, 'n_estimators': 150, 'subsample': 1.0}\n",
      "Параметры модели: None\n",
      "MAE (Mean Absolute Error): 0.44\n",
      "R² Score: 0.62\n",
      "Standard deviation of baths: 0.96\n",
      "\n",
      "Baseline MAE (Mean Absolute Error): 0.77\n",
      "\n"
     ]
    }
   ],
   "source": [
    "data = inplace_col(data, ['sqft', 'beds', 'PrivatePool', 'Average Rating', 'property_age'], 'baths')\n",
    "data['baths'] = data['baths'].apply(round_to_nearest_half)"
   ]
  },
  {
   "cell_type": "code",
   "execution_count": 231,
   "metadata": {},
   "outputs": [
    {
     "name": "stdout",
     "output_type": "stream",
     "text": [
      "Fitting 5 folds for each of 72 candidates, totalling 360 fits\n",
      "данные для beds\n",
      "{'colsample_bytree': 1.0, 'learning_rate': 0.2, 'max_depth': 7, 'n_estimators': 150, 'subsample': 1.0}\n",
      "Параметры модели: None\n",
      "MAE (Mean Absolute Error): 0.56\n",
      "R² Score: 0.51\n",
      "Standard deviation of beds: 1.13\n",
      "\n",
      "Baseline MAE (Mean Absolute Error): 0.83\n",
      "\n"
     ]
    }
   ],
   "source": [
    "data  = inplace_col(data, ['sqft', 'baths', 'PrivatePool', 'Average Rating'], 'beds')\n",
    "data['beds'] = data['beds'].apply(round_to_nearest_half)"
   ]
  },
  {
   "cell_type": "code",
   "execution_count": 232,
   "metadata": {},
   "outputs": [
    {
     "name": "stdout",
     "output_type": "stream",
     "text": [
      "Fitting 5 folds for each of 72 candidates, totalling 360 fits\n",
      "данные для Price/sqft\n",
      "{'colsample_bytree': 1.0, 'learning_rate': 0.2, 'max_depth': 7, 'n_estimators': 150, 'subsample': 1.0}\n",
      "Параметры модели: None\n",
      "MAE (Mean Absolute Error): 66.26\n",
      "R² Score: 0.58\n",
      "Standard deviation of Price/sqft: 178.66\n",
      "\n",
      "Baseline MAE (Mean Absolute Error): 126.96\n",
      "\n"
     ]
    }
   ],
   "source": [
    "data = inplace_col(data, ['propertyType', 'baths', 'state_0', 'state_1', 'city_0', 'city_1', 'Average Rating','property_age'], 'Price/sqft')"
   ]
  },
  {
   "cell_type": "markdown",
   "metadata": {},
   "source": [
    "### Заполнение данных прошло успешно, и каждая модель ошибалась почти в 2 раза меньше чем замена на среднее, так же проверим как это повлияло на корреляцию с ключевой переменной"
   ]
  },
  {
   "cell_type": "code",
   "execution_count": 233,
   "metadata": {},
   "outputs": [
    {
     "name": "stdout",
     "output_type": "stream",
     "text": [
      "                Missing Values data Type\n",
      "stories                 132854   float64\n",
      "lotsize                  86653   float64\n",
      "Average Rating            3587   float64\n",
      "street                       0    object\n",
      "city                         0    object\n",
      "zipcode                      0    object\n",
      "state                        0    object\n"
     ]
    }
   ],
   "source": [
    "find_missing_and_object_columns(data)"
   ]
  },
  {
   "cell_type": "code",
   "execution_count": 234,
   "metadata": {},
   "outputs": [
    {
     "data": {
      "application/vnd.plotly.v1+json": {
       "config": {
        "plotlyServerURL": "https://plot.ly"
       },
       "data": [
        {
         "coloraxis": "coloraxis",
         "hovertemplate": "Feature: %{x}<br>Correlation: %{y}<br>color: %{z}<extra></extra>",
         "name": "0",
         "type": "heatmap",
         "x": [
          "status",
          "propertyType",
          "baths",
          "sqft",
          "beds",
          "stories",
          "PrivatePool",
          "target",
          "count_fireplace",
          "fireplace_type",
          "for_rent",
          "Parking",
          "Price/sqft",
          "lotsize",
          "Average Rating",
          "Cooling_0",
          "Cooling_1",
          "Cooling_2",
          "Heating_0",
          "Heating_1",
          "city_0",
          "city_1",
          "street_0",
          "street_1",
          "state_0",
          "state_1",
          "is_remodeled",
          "property_age"
         ],
         "xaxis": "x",
         "y": [
          "Correlation"
         ],
         "yaxis": "y",
         "z": [
          [
           -0.0013358828097629796,
           0.008476166476742777,
           -0.004858028430527503,
           0.0010432037680374977,
           0.0020808574939734314,
           -0.0012218151055827626,
           -0.004935781537731541,
           0.010687077382987685,
           0.000854147049761453,
           0.010988022467458641,
           0.0002810360396751349,
           -0.0011467374837713388,
           0.0006169073067911848,
           1,
           -0.002543976414811266,
           0.0004991792985024633,
           0.000052116536906558906,
           -0.00003404853107422319,
           0.00007589055911925501,
           -0.008269156448842643,
           -0.0004092266808593087,
           -0.000376322770411549,
           0.001373218432311488,
           -0.0013589124614423937,
           0.008550182655604506,
           -0.0011908610158750082,
           -0.006206363240891361,
           -0.0005321939737450708
          ]
         ]
        }
       ],
       "layout": {
        "coloraxis": {
         "colorscale": [
          [
           0,
           "#0d0887"
          ],
          [
           0.1111111111111111,
           "#46039f"
          ],
          [
           0.2222222222222222,
           "#7201a8"
          ],
          [
           0.3333333333333333,
           "#9c179e"
          ],
          [
           0.4444444444444444,
           "#bd3786"
          ],
          [
           0.5555555555555556,
           "#d8576b"
          ],
          [
           0.6666666666666666,
           "#ed7953"
          ],
          [
           0.7777777777777778,
           "#fb9f3a"
          ],
          [
           0.8888888888888888,
           "#fdca26"
          ],
          [
           1,
           "#f0f921"
          ]
         ]
        },
        "template": {
         "data": {
          "bar": [
           {
            "error_x": {
             "color": "#2a3f5f"
            },
            "error_y": {
             "color": "#2a3f5f"
            },
            "marker": {
             "line": {
              "color": "#E5ECF6",
              "width": 0.5
             },
             "pattern": {
              "fillmode": "overlay",
              "size": 10,
              "solidity": 0.2
             }
            },
            "type": "bar"
           }
          ],
          "barpolar": [
           {
            "marker": {
             "line": {
              "color": "#E5ECF6",
              "width": 0.5
             },
             "pattern": {
              "fillmode": "overlay",
              "size": 10,
              "solidity": 0.2
             }
            },
            "type": "barpolar"
           }
          ],
          "carpet": [
           {
            "aaxis": {
             "endlinecolor": "#2a3f5f",
             "gridcolor": "white",
             "linecolor": "white",
             "minorgridcolor": "white",
             "startlinecolor": "#2a3f5f"
            },
            "baxis": {
             "endlinecolor": "#2a3f5f",
             "gridcolor": "white",
             "linecolor": "white",
             "minorgridcolor": "white",
             "startlinecolor": "#2a3f5f"
            },
            "type": "carpet"
           }
          ],
          "choropleth": [
           {
            "colorbar": {
             "outlinewidth": 0,
             "ticks": ""
            },
            "type": "choropleth"
           }
          ],
          "contour": [
           {
            "colorbar": {
             "outlinewidth": 0,
             "ticks": ""
            },
            "colorscale": [
             [
              0,
              "#0d0887"
             ],
             [
              0.1111111111111111,
              "#46039f"
             ],
             [
              0.2222222222222222,
              "#7201a8"
             ],
             [
              0.3333333333333333,
              "#9c179e"
             ],
             [
              0.4444444444444444,
              "#bd3786"
             ],
             [
              0.5555555555555556,
              "#d8576b"
             ],
             [
              0.6666666666666666,
              "#ed7953"
             ],
             [
              0.7777777777777778,
              "#fb9f3a"
             ],
             [
              0.8888888888888888,
              "#fdca26"
             ],
             [
              1,
              "#f0f921"
             ]
            ],
            "type": "contour"
           }
          ],
          "contourcarpet": [
           {
            "colorbar": {
             "outlinewidth": 0,
             "ticks": ""
            },
            "type": "contourcarpet"
           }
          ],
          "heatmap": [
           {
            "colorbar": {
             "outlinewidth": 0,
             "ticks": ""
            },
            "colorscale": [
             [
              0,
              "#0d0887"
             ],
             [
              0.1111111111111111,
              "#46039f"
             ],
             [
              0.2222222222222222,
              "#7201a8"
             ],
             [
              0.3333333333333333,
              "#9c179e"
             ],
             [
              0.4444444444444444,
              "#bd3786"
             ],
             [
              0.5555555555555556,
              "#d8576b"
             ],
             [
              0.6666666666666666,
              "#ed7953"
             ],
             [
              0.7777777777777778,
              "#fb9f3a"
             ],
             [
              0.8888888888888888,
              "#fdca26"
             ],
             [
              1,
              "#f0f921"
             ]
            ],
            "type": "heatmap"
           }
          ],
          "heatmapgl": [
           {
            "colorbar": {
             "outlinewidth": 0,
             "ticks": ""
            },
            "colorscale": [
             [
              0,
              "#0d0887"
             ],
             [
              0.1111111111111111,
              "#46039f"
             ],
             [
              0.2222222222222222,
              "#7201a8"
             ],
             [
              0.3333333333333333,
              "#9c179e"
             ],
             [
              0.4444444444444444,
              "#bd3786"
             ],
             [
              0.5555555555555556,
              "#d8576b"
             ],
             [
              0.6666666666666666,
              "#ed7953"
             ],
             [
              0.7777777777777778,
              "#fb9f3a"
             ],
             [
              0.8888888888888888,
              "#fdca26"
             ],
             [
              1,
              "#f0f921"
             ]
            ],
            "type": "heatmapgl"
           }
          ],
          "histogram": [
           {
            "marker": {
             "pattern": {
              "fillmode": "overlay",
              "size": 10,
              "solidity": 0.2
             }
            },
            "type": "histogram"
           }
          ],
          "histogram2d": [
           {
            "colorbar": {
             "outlinewidth": 0,
             "ticks": ""
            },
            "colorscale": [
             [
              0,
              "#0d0887"
             ],
             [
              0.1111111111111111,
              "#46039f"
             ],
             [
              0.2222222222222222,
              "#7201a8"
             ],
             [
              0.3333333333333333,
              "#9c179e"
             ],
             [
              0.4444444444444444,
              "#bd3786"
             ],
             [
              0.5555555555555556,
              "#d8576b"
             ],
             [
              0.6666666666666666,
              "#ed7953"
             ],
             [
              0.7777777777777778,
              "#fb9f3a"
             ],
             [
              0.8888888888888888,
              "#fdca26"
             ],
             [
              1,
              "#f0f921"
             ]
            ],
            "type": "histogram2d"
           }
          ],
          "histogram2dcontour": [
           {
            "colorbar": {
             "outlinewidth": 0,
             "ticks": ""
            },
            "colorscale": [
             [
              0,
              "#0d0887"
             ],
             [
              0.1111111111111111,
              "#46039f"
             ],
             [
              0.2222222222222222,
              "#7201a8"
             ],
             [
              0.3333333333333333,
              "#9c179e"
             ],
             [
              0.4444444444444444,
              "#bd3786"
             ],
             [
              0.5555555555555556,
              "#d8576b"
             ],
             [
              0.6666666666666666,
              "#ed7953"
             ],
             [
              0.7777777777777778,
              "#fb9f3a"
             ],
             [
              0.8888888888888888,
              "#fdca26"
             ],
             [
              1,
              "#f0f921"
             ]
            ],
            "type": "histogram2dcontour"
           }
          ],
          "mesh3d": [
           {
            "colorbar": {
             "outlinewidth": 0,
             "ticks": ""
            },
            "type": "mesh3d"
           }
          ],
          "parcoords": [
           {
            "line": {
             "colorbar": {
              "outlinewidth": 0,
              "ticks": ""
             }
            },
            "type": "parcoords"
           }
          ],
          "pie": [
           {
            "automargin": true,
            "type": "pie"
           }
          ],
          "scatter": [
           {
            "fillpattern": {
             "fillmode": "overlay",
             "size": 10,
             "solidity": 0.2
            },
            "type": "scatter"
           }
          ],
          "scatter3d": [
           {
            "line": {
             "colorbar": {
              "outlinewidth": 0,
              "ticks": ""
             }
            },
            "marker": {
             "colorbar": {
              "outlinewidth": 0,
              "ticks": ""
             }
            },
            "type": "scatter3d"
           }
          ],
          "scattercarpet": [
           {
            "marker": {
             "colorbar": {
              "outlinewidth": 0,
              "ticks": ""
             }
            },
            "type": "scattercarpet"
           }
          ],
          "scattergeo": [
           {
            "marker": {
             "colorbar": {
              "outlinewidth": 0,
              "ticks": ""
             }
            },
            "type": "scattergeo"
           }
          ],
          "scattergl": [
           {
            "marker": {
             "colorbar": {
              "outlinewidth": 0,
              "ticks": ""
             }
            },
            "type": "scattergl"
           }
          ],
          "scattermapbox": [
           {
            "marker": {
             "colorbar": {
              "outlinewidth": 0,
              "ticks": ""
             }
            },
            "type": "scattermapbox"
           }
          ],
          "scatterpolar": [
           {
            "marker": {
             "colorbar": {
              "outlinewidth": 0,
              "ticks": ""
             }
            },
            "type": "scatterpolar"
           }
          ],
          "scatterpolargl": [
           {
            "marker": {
             "colorbar": {
              "outlinewidth": 0,
              "ticks": ""
             }
            },
            "type": "scatterpolargl"
           }
          ],
          "scatterternary": [
           {
            "marker": {
             "colorbar": {
              "outlinewidth": 0,
              "ticks": ""
             }
            },
            "type": "scatterternary"
           }
          ],
          "surface": [
           {
            "colorbar": {
             "outlinewidth": 0,
             "ticks": ""
            },
            "colorscale": [
             [
              0,
              "#0d0887"
             ],
             [
              0.1111111111111111,
              "#46039f"
             ],
             [
              0.2222222222222222,
              "#7201a8"
             ],
             [
              0.3333333333333333,
              "#9c179e"
             ],
             [
              0.4444444444444444,
              "#bd3786"
             ],
             [
              0.5555555555555556,
              "#d8576b"
             ],
             [
              0.6666666666666666,
              "#ed7953"
             ],
             [
              0.7777777777777778,
              "#fb9f3a"
             ],
             [
              0.8888888888888888,
              "#fdca26"
             ],
             [
              1,
              "#f0f921"
             ]
            ],
            "type": "surface"
           }
          ],
          "table": [
           {
            "cells": {
             "fill": {
              "color": "#EBF0F8"
             },
             "line": {
              "color": "white"
             }
            },
            "header": {
             "fill": {
              "color": "#C8D4E3"
             },
             "line": {
              "color": "white"
             }
            },
            "type": "table"
           }
          ]
         },
         "layout": {
          "annotationdefaults": {
           "arrowcolor": "#2a3f5f",
           "arrowhead": 0,
           "arrowwidth": 1
          },
          "autotypenumbers": "strict",
          "coloraxis": {
           "colorbar": {
            "outlinewidth": 0,
            "ticks": ""
           }
          },
          "colorscale": {
           "diverging": [
            [
             0,
             "#8e0152"
            ],
            [
             0.1,
             "#c51b7d"
            ],
            [
             0.2,
             "#de77ae"
            ],
            [
             0.3,
             "#f1b6da"
            ],
            [
             0.4,
             "#fde0ef"
            ],
            [
             0.5,
             "#f7f7f7"
            ],
            [
             0.6,
             "#e6f5d0"
            ],
            [
             0.7,
             "#b8e186"
            ],
            [
             0.8,
             "#7fbc41"
            ],
            [
             0.9,
             "#4d9221"
            ],
            [
             1,
             "#276419"
            ]
           ],
           "sequential": [
            [
             0,
             "#0d0887"
            ],
            [
             0.1111111111111111,
             "#46039f"
            ],
            [
             0.2222222222222222,
             "#7201a8"
            ],
            [
             0.3333333333333333,
             "#9c179e"
            ],
            [
             0.4444444444444444,
             "#bd3786"
            ],
            [
             0.5555555555555556,
             "#d8576b"
            ],
            [
             0.6666666666666666,
             "#ed7953"
            ],
            [
             0.7777777777777778,
             "#fb9f3a"
            ],
            [
             0.8888888888888888,
             "#fdca26"
            ],
            [
             1,
             "#f0f921"
            ]
           ],
           "sequentialminus": [
            [
             0,
             "#0d0887"
            ],
            [
             0.1111111111111111,
             "#46039f"
            ],
            [
             0.2222222222222222,
             "#7201a8"
            ],
            [
             0.3333333333333333,
             "#9c179e"
            ],
            [
             0.4444444444444444,
             "#bd3786"
            ],
            [
             0.5555555555555556,
             "#d8576b"
            ],
            [
             0.6666666666666666,
             "#ed7953"
            ],
            [
             0.7777777777777778,
             "#fb9f3a"
            ],
            [
             0.8888888888888888,
             "#fdca26"
            ],
            [
             1,
             "#f0f921"
            ]
           ]
          },
          "colorway": [
           "#636efa",
           "#EF553B",
           "#00cc96",
           "#ab63fa",
           "#FFA15A",
           "#19d3f3",
           "#FF6692",
           "#B6E880",
           "#FF97FF",
           "#FECB52"
          ],
          "font": {
           "color": "#2a3f5f"
          },
          "geo": {
           "bgcolor": "white",
           "lakecolor": "white",
           "landcolor": "#E5ECF6",
           "showlakes": true,
           "showland": true,
           "subunitcolor": "white"
          },
          "hoverlabel": {
           "align": "left"
          },
          "hovermode": "closest",
          "mapbox": {
           "style": "light"
          },
          "paper_bgcolor": "white",
          "plot_bgcolor": "#E5ECF6",
          "polar": {
           "angularaxis": {
            "gridcolor": "white",
            "linecolor": "white",
            "ticks": ""
           },
           "bgcolor": "#E5ECF6",
           "radialaxis": {
            "gridcolor": "white",
            "linecolor": "white",
            "ticks": ""
           }
          },
          "scene": {
           "xaxis": {
            "backgroundcolor": "#E5ECF6",
            "gridcolor": "white",
            "gridwidth": 2,
            "linecolor": "white",
            "showbackground": true,
            "ticks": "",
            "zerolinecolor": "white"
           },
           "yaxis": {
            "backgroundcolor": "#E5ECF6",
            "gridcolor": "white",
            "gridwidth": 2,
            "linecolor": "white",
            "showbackground": true,
            "ticks": "",
            "zerolinecolor": "white"
           },
           "zaxis": {
            "backgroundcolor": "#E5ECF6",
            "gridcolor": "white",
            "gridwidth": 2,
            "linecolor": "white",
            "showbackground": true,
            "ticks": "",
            "zerolinecolor": "white"
           }
          },
          "shapedefaults": {
           "line": {
            "color": "#2a3f5f"
           }
          },
          "ternary": {
           "aaxis": {
            "gridcolor": "white",
            "linecolor": "white",
            "ticks": ""
           },
           "baxis": {
            "gridcolor": "white",
            "linecolor": "white",
            "ticks": ""
           },
           "bgcolor": "#E5ECF6",
           "caxis": {
            "gridcolor": "white",
            "linecolor": "white",
            "ticks": ""
           }
          },
          "title": {
           "x": 0.05
          },
          "xaxis": {
           "automargin": true,
           "gridcolor": "white",
           "linecolor": "white",
           "ticks": "",
           "title": {
            "standoff": 15
           },
           "zerolinecolor": "white",
           "zerolinewidth": 2
          },
          "yaxis": {
           "automargin": true,
           "gridcolor": "white",
           "linecolor": "white",
           "ticks": "",
           "title": {
            "standoff": 15
           },
           "zerolinecolor": "white",
           "zerolinewidth": 2
          }
         }
        },
        "title": {
         "text": "Correlation with {col}"
        },
        "xaxis": {
         "anchor": "y",
         "constrain": "domain",
         "domain": [
          0,
          1
         ],
         "scaleanchor": "y",
         "title": {
          "text": "Feature"
         }
        },
        "yaxis": {
         "anchor": "x",
         "autorange": "reversed",
         "constrain": "domain",
         "domain": [
          0,
          1
         ],
         "title": {
          "text": "Correlation"
         }
        }
       }
      }
     },
     "metadata": {},
     "output_type": "display_data"
    }
   ],
   "source": [
    "Heat(data, 'lotsize')"
   ]
  },
  {
   "cell_type": "markdown",
   "metadata": {},
   "source": [
    "#### Из оставшихся необработанных столбцов у нас остались только stories и lotsize. Первый имеет пропуски почти в 50% строк, а второй не имеет корреляции с другими данными, ввиду чего удалим данные признаки"
   ]
  },
  {
   "cell_type": "code",
   "execution_count": 235,
   "metadata": {},
   "outputs": [
    {
     "name": "stdout",
     "output_type": "stream",
     "text": [
      "Значения с типами object и пропущенными значениями: \n",
      "         Missing Values data Type\n",
      "street                0    object\n",
      "city                  0    object\n",
      "zipcode               0    object\n",
      "state                 0    object\n",
      "None\n",
      "Размерность данных: (323928, 30)\n"
     ]
    }
   ],
   "source": [
    "data.dropna(subset = ['Average Rating'], inplace=True)\n",
    "data.drop(['lotsize', 'stories'], axis=1, inplace=True)\n",
    "\n",
    "print('Значения с типами object и пропущенными значениями: ')\n",
    "print(find_missing_and_object_columns(data))\n",
    "print(f'Размерность данных: {data.shape}')\n"
   ]
  },
  {
   "cell_type": "code",
   "execution_count": 236,
   "metadata": {},
   "outputs": [],
   "source": [
    "data['has_fireplace'] = data['count_fireplace'].apply(lambda x: 1 if x > 0 else 0)\n",
    "data.drop(['count_fireplace'], axis=1, inplace=True)\n",
    "\n",
    "data['has_parking'] = data['Parking'].apply(lambda x: 1 if x > 0 else 0)\n",
    "data.drop('Parking', axis=1, inplace=True)\n",
    "\n",
    "data['lowest_price'] = data['sqft'] * data['Price/sqft']\n",
    "data = data[(data['lowest_price'] > 5)]\n",
    "data.loc[data['lowest_price'] > 5e5, 'lowest_price'] = None\n",
    "\n",
    "data['sum_baths_beds'] = data['beds'] + data['baths']\n",
    "\n",
    "data.loc[data['baths'] == 0, 'baths'] = None\n",
    "data['sqft/baths'] = data['sqft'] / data['baths']\n",
    "\n",
    "data.drop(['beds', 'baths'], axis=1, inplace = True)"
   ]
  },
  {
   "cell_type": "code",
   "execution_count": 237,
   "metadata": {},
   "outputs": [
    {
     "data": {
      "application/vnd.plotly.v1+json": {
       "config": {
        "plotlyServerURL": "https://plot.ly"
       },
       "data": [
        {
         "coloraxis": "coloraxis",
         "hovertemplate": "Feature: %{x}<br>Correlation: %{y}<br>color: %{z}<extra></extra>",
         "name": "0",
         "type": "heatmap",
         "x": [
          "status",
          "propertyType",
          "sqft",
          "PrivatePool",
          "target",
          "fireplace_type",
          "for_rent",
          "Price/sqft",
          "Average Rating",
          "Cooling_0",
          "Cooling_1",
          "Cooling_2",
          "Heating_0",
          "Heating_1",
          "city_0",
          "city_1",
          "street_0",
          "street_1",
          "state_0",
          "state_1",
          "is_remodeled",
          "property_age",
          "has_fireplace",
          "has_parking",
          "lowest_price",
          "sum_baths_beds",
          "sqft/baths"
         ],
         "xaxis": "x",
         "y": [
          "Correlation"
         ],
         "yaxis": "y",
         "z": [
          [
           0.011798668907538952,
           -0.008917542621332172,
           0.15098897032484485,
           0.05423813163015021,
           1,
           -0.005181422004808293,
           -0.013219894801539317,
           -0.03609913150409748,
           0.15658787592058454,
           -0.005980599238067262,
           0.03137097833378735,
           -0.034255081019786894,
           -0.03905332965237168,
           -0.002301854997465336,
           0.07169395394224895,
           0.03961807369165582,
           0.015721108044197914,
           -0.007050561992091108,
           0.18936123177487035,
           0.002546846994490149,
           -0.03600564313264494,
           -0.04264158570290899,
           0.0024085491429533617,
           -0.014968630824410264,
           -0.01270204412323551,
           0.12725507273829148,
           -0.00518171570077134
          ]
         ]
        }
       ],
       "layout": {
        "coloraxis": {
         "colorscale": [
          [
           0,
           "#0d0887"
          ],
          [
           0.1111111111111111,
           "#46039f"
          ],
          [
           0.2222222222222222,
           "#7201a8"
          ],
          [
           0.3333333333333333,
           "#9c179e"
          ],
          [
           0.4444444444444444,
           "#bd3786"
          ],
          [
           0.5555555555555556,
           "#d8576b"
          ],
          [
           0.6666666666666666,
           "#ed7953"
          ],
          [
           0.7777777777777778,
           "#fb9f3a"
          ],
          [
           0.8888888888888888,
           "#fdca26"
          ],
          [
           1,
           "#f0f921"
          ]
         ]
        },
        "template": {
         "data": {
          "bar": [
           {
            "error_x": {
             "color": "#2a3f5f"
            },
            "error_y": {
             "color": "#2a3f5f"
            },
            "marker": {
             "line": {
              "color": "#E5ECF6",
              "width": 0.5
             },
             "pattern": {
              "fillmode": "overlay",
              "size": 10,
              "solidity": 0.2
             }
            },
            "type": "bar"
           }
          ],
          "barpolar": [
           {
            "marker": {
             "line": {
              "color": "#E5ECF6",
              "width": 0.5
             },
             "pattern": {
              "fillmode": "overlay",
              "size": 10,
              "solidity": 0.2
             }
            },
            "type": "barpolar"
           }
          ],
          "carpet": [
           {
            "aaxis": {
             "endlinecolor": "#2a3f5f",
             "gridcolor": "white",
             "linecolor": "white",
             "minorgridcolor": "white",
             "startlinecolor": "#2a3f5f"
            },
            "baxis": {
             "endlinecolor": "#2a3f5f",
             "gridcolor": "white",
             "linecolor": "white",
             "minorgridcolor": "white",
             "startlinecolor": "#2a3f5f"
            },
            "type": "carpet"
           }
          ],
          "choropleth": [
           {
            "colorbar": {
             "outlinewidth": 0,
             "ticks": ""
            },
            "type": "choropleth"
           }
          ],
          "contour": [
           {
            "colorbar": {
             "outlinewidth": 0,
             "ticks": ""
            },
            "colorscale": [
             [
              0,
              "#0d0887"
             ],
             [
              0.1111111111111111,
              "#46039f"
             ],
             [
              0.2222222222222222,
              "#7201a8"
             ],
             [
              0.3333333333333333,
              "#9c179e"
             ],
             [
              0.4444444444444444,
              "#bd3786"
             ],
             [
              0.5555555555555556,
              "#d8576b"
             ],
             [
              0.6666666666666666,
              "#ed7953"
             ],
             [
              0.7777777777777778,
              "#fb9f3a"
             ],
             [
              0.8888888888888888,
              "#fdca26"
             ],
             [
              1,
              "#f0f921"
             ]
            ],
            "type": "contour"
           }
          ],
          "contourcarpet": [
           {
            "colorbar": {
             "outlinewidth": 0,
             "ticks": ""
            },
            "type": "contourcarpet"
           }
          ],
          "heatmap": [
           {
            "colorbar": {
             "outlinewidth": 0,
             "ticks": ""
            },
            "colorscale": [
             [
              0,
              "#0d0887"
             ],
             [
              0.1111111111111111,
              "#46039f"
             ],
             [
              0.2222222222222222,
              "#7201a8"
             ],
             [
              0.3333333333333333,
              "#9c179e"
             ],
             [
              0.4444444444444444,
              "#bd3786"
             ],
             [
              0.5555555555555556,
              "#d8576b"
             ],
             [
              0.6666666666666666,
              "#ed7953"
             ],
             [
              0.7777777777777778,
              "#fb9f3a"
             ],
             [
              0.8888888888888888,
              "#fdca26"
             ],
             [
              1,
              "#f0f921"
             ]
            ],
            "type": "heatmap"
           }
          ],
          "heatmapgl": [
           {
            "colorbar": {
             "outlinewidth": 0,
             "ticks": ""
            },
            "colorscale": [
             [
              0,
              "#0d0887"
             ],
             [
              0.1111111111111111,
              "#46039f"
             ],
             [
              0.2222222222222222,
              "#7201a8"
             ],
             [
              0.3333333333333333,
              "#9c179e"
             ],
             [
              0.4444444444444444,
              "#bd3786"
             ],
             [
              0.5555555555555556,
              "#d8576b"
             ],
             [
              0.6666666666666666,
              "#ed7953"
             ],
             [
              0.7777777777777778,
              "#fb9f3a"
             ],
             [
              0.8888888888888888,
              "#fdca26"
             ],
             [
              1,
              "#f0f921"
             ]
            ],
            "type": "heatmapgl"
           }
          ],
          "histogram": [
           {
            "marker": {
             "pattern": {
              "fillmode": "overlay",
              "size": 10,
              "solidity": 0.2
             }
            },
            "type": "histogram"
           }
          ],
          "histogram2d": [
           {
            "colorbar": {
             "outlinewidth": 0,
             "ticks": ""
            },
            "colorscale": [
             [
              0,
              "#0d0887"
             ],
             [
              0.1111111111111111,
              "#46039f"
             ],
             [
              0.2222222222222222,
              "#7201a8"
             ],
             [
              0.3333333333333333,
              "#9c179e"
             ],
             [
              0.4444444444444444,
              "#bd3786"
             ],
             [
              0.5555555555555556,
              "#d8576b"
             ],
             [
              0.6666666666666666,
              "#ed7953"
             ],
             [
              0.7777777777777778,
              "#fb9f3a"
             ],
             [
              0.8888888888888888,
              "#fdca26"
             ],
             [
              1,
              "#f0f921"
             ]
            ],
            "type": "histogram2d"
           }
          ],
          "histogram2dcontour": [
           {
            "colorbar": {
             "outlinewidth": 0,
             "ticks": ""
            },
            "colorscale": [
             [
              0,
              "#0d0887"
             ],
             [
              0.1111111111111111,
              "#46039f"
             ],
             [
              0.2222222222222222,
              "#7201a8"
             ],
             [
              0.3333333333333333,
              "#9c179e"
             ],
             [
              0.4444444444444444,
              "#bd3786"
             ],
             [
              0.5555555555555556,
              "#d8576b"
             ],
             [
              0.6666666666666666,
              "#ed7953"
             ],
             [
              0.7777777777777778,
              "#fb9f3a"
             ],
             [
              0.8888888888888888,
              "#fdca26"
             ],
             [
              1,
              "#f0f921"
             ]
            ],
            "type": "histogram2dcontour"
           }
          ],
          "mesh3d": [
           {
            "colorbar": {
             "outlinewidth": 0,
             "ticks": ""
            },
            "type": "mesh3d"
           }
          ],
          "parcoords": [
           {
            "line": {
             "colorbar": {
              "outlinewidth": 0,
              "ticks": ""
             }
            },
            "type": "parcoords"
           }
          ],
          "pie": [
           {
            "automargin": true,
            "type": "pie"
           }
          ],
          "scatter": [
           {
            "fillpattern": {
             "fillmode": "overlay",
             "size": 10,
             "solidity": 0.2
            },
            "type": "scatter"
           }
          ],
          "scatter3d": [
           {
            "line": {
             "colorbar": {
              "outlinewidth": 0,
              "ticks": ""
             }
            },
            "marker": {
             "colorbar": {
              "outlinewidth": 0,
              "ticks": ""
             }
            },
            "type": "scatter3d"
           }
          ],
          "scattercarpet": [
           {
            "marker": {
             "colorbar": {
              "outlinewidth": 0,
              "ticks": ""
             }
            },
            "type": "scattercarpet"
           }
          ],
          "scattergeo": [
           {
            "marker": {
             "colorbar": {
              "outlinewidth": 0,
              "ticks": ""
             }
            },
            "type": "scattergeo"
           }
          ],
          "scattergl": [
           {
            "marker": {
             "colorbar": {
              "outlinewidth": 0,
              "ticks": ""
             }
            },
            "type": "scattergl"
           }
          ],
          "scattermapbox": [
           {
            "marker": {
             "colorbar": {
              "outlinewidth": 0,
              "ticks": ""
             }
            },
            "type": "scattermapbox"
           }
          ],
          "scatterpolar": [
           {
            "marker": {
             "colorbar": {
              "outlinewidth": 0,
              "ticks": ""
             }
            },
            "type": "scatterpolar"
           }
          ],
          "scatterpolargl": [
           {
            "marker": {
             "colorbar": {
              "outlinewidth": 0,
              "ticks": ""
             }
            },
            "type": "scatterpolargl"
           }
          ],
          "scatterternary": [
           {
            "marker": {
             "colorbar": {
              "outlinewidth": 0,
              "ticks": ""
             }
            },
            "type": "scatterternary"
           }
          ],
          "surface": [
           {
            "colorbar": {
             "outlinewidth": 0,
             "ticks": ""
            },
            "colorscale": [
             [
              0,
              "#0d0887"
             ],
             [
              0.1111111111111111,
              "#46039f"
             ],
             [
              0.2222222222222222,
              "#7201a8"
             ],
             [
              0.3333333333333333,
              "#9c179e"
             ],
             [
              0.4444444444444444,
              "#bd3786"
             ],
             [
              0.5555555555555556,
              "#d8576b"
             ],
             [
              0.6666666666666666,
              "#ed7953"
             ],
             [
              0.7777777777777778,
              "#fb9f3a"
             ],
             [
              0.8888888888888888,
              "#fdca26"
             ],
             [
              1,
              "#f0f921"
             ]
            ],
            "type": "surface"
           }
          ],
          "table": [
           {
            "cells": {
             "fill": {
              "color": "#EBF0F8"
             },
             "line": {
              "color": "white"
             }
            },
            "header": {
             "fill": {
              "color": "#C8D4E3"
             },
             "line": {
              "color": "white"
             }
            },
            "type": "table"
           }
          ]
         },
         "layout": {
          "annotationdefaults": {
           "arrowcolor": "#2a3f5f",
           "arrowhead": 0,
           "arrowwidth": 1
          },
          "autotypenumbers": "strict",
          "coloraxis": {
           "colorbar": {
            "outlinewidth": 0,
            "ticks": ""
           }
          },
          "colorscale": {
           "diverging": [
            [
             0,
             "#8e0152"
            ],
            [
             0.1,
             "#c51b7d"
            ],
            [
             0.2,
             "#de77ae"
            ],
            [
             0.3,
             "#f1b6da"
            ],
            [
             0.4,
             "#fde0ef"
            ],
            [
             0.5,
             "#f7f7f7"
            ],
            [
             0.6,
             "#e6f5d0"
            ],
            [
             0.7,
             "#b8e186"
            ],
            [
             0.8,
             "#7fbc41"
            ],
            [
             0.9,
             "#4d9221"
            ],
            [
             1,
             "#276419"
            ]
           ],
           "sequential": [
            [
             0,
             "#0d0887"
            ],
            [
             0.1111111111111111,
             "#46039f"
            ],
            [
             0.2222222222222222,
             "#7201a8"
            ],
            [
             0.3333333333333333,
             "#9c179e"
            ],
            [
             0.4444444444444444,
             "#bd3786"
            ],
            [
             0.5555555555555556,
             "#d8576b"
            ],
            [
             0.6666666666666666,
             "#ed7953"
            ],
            [
             0.7777777777777778,
             "#fb9f3a"
            ],
            [
             0.8888888888888888,
             "#fdca26"
            ],
            [
             1,
             "#f0f921"
            ]
           ],
           "sequentialminus": [
            [
             0,
             "#0d0887"
            ],
            [
             0.1111111111111111,
             "#46039f"
            ],
            [
             0.2222222222222222,
             "#7201a8"
            ],
            [
             0.3333333333333333,
             "#9c179e"
            ],
            [
             0.4444444444444444,
             "#bd3786"
            ],
            [
             0.5555555555555556,
             "#d8576b"
            ],
            [
             0.6666666666666666,
             "#ed7953"
            ],
            [
             0.7777777777777778,
             "#fb9f3a"
            ],
            [
             0.8888888888888888,
             "#fdca26"
            ],
            [
             1,
             "#f0f921"
            ]
           ]
          },
          "colorway": [
           "#636efa",
           "#EF553B",
           "#00cc96",
           "#ab63fa",
           "#FFA15A",
           "#19d3f3",
           "#FF6692",
           "#B6E880",
           "#FF97FF",
           "#FECB52"
          ],
          "font": {
           "color": "#2a3f5f"
          },
          "geo": {
           "bgcolor": "white",
           "lakecolor": "white",
           "landcolor": "#E5ECF6",
           "showlakes": true,
           "showland": true,
           "subunitcolor": "white"
          },
          "hoverlabel": {
           "align": "left"
          },
          "hovermode": "closest",
          "mapbox": {
           "style": "light"
          },
          "paper_bgcolor": "white",
          "plot_bgcolor": "#E5ECF6",
          "polar": {
           "angularaxis": {
            "gridcolor": "white",
            "linecolor": "white",
            "ticks": ""
           },
           "bgcolor": "#E5ECF6",
           "radialaxis": {
            "gridcolor": "white",
            "linecolor": "white",
            "ticks": ""
           }
          },
          "scene": {
           "xaxis": {
            "backgroundcolor": "#E5ECF6",
            "gridcolor": "white",
            "gridwidth": 2,
            "linecolor": "white",
            "showbackground": true,
            "ticks": "",
            "zerolinecolor": "white"
           },
           "yaxis": {
            "backgroundcolor": "#E5ECF6",
            "gridcolor": "white",
            "gridwidth": 2,
            "linecolor": "white",
            "showbackground": true,
            "ticks": "",
            "zerolinecolor": "white"
           },
           "zaxis": {
            "backgroundcolor": "#E5ECF6",
            "gridcolor": "white",
            "gridwidth": 2,
            "linecolor": "white",
            "showbackground": true,
            "ticks": "",
            "zerolinecolor": "white"
           }
          },
          "shapedefaults": {
           "line": {
            "color": "#2a3f5f"
           }
          },
          "ternary": {
           "aaxis": {
            "gridcolor": "white",
            "linecolor": "white",
            "ticks": ""
           },
           "baxis": {
            "gridcolor": "white",
            "linecolor": "white",
            "ticks": ""
           },
           "bgcolor": "#E5ECF6",
           "caxis": {
            "gridcolor": "white",
            "linecolor": "white",
            "ticks": ""
           }
          },
          "title": {
           "x": 0.05
          },
          "xaxis": {
           "automargin": true,
           "gridcolor": "white",
           "linecolor": "white",
           "ticks": "",
           "title": {
            "standoff": 15
           },
           "zerolinecolor": "white",
           "zerolinewidth": 2
          },
          "yaxis": {
           "automargin": true,
           "gridcolor": "white",
           "linecolor": "white",
           "ticks": "",
           "title": {
            "standoff": 15
           },
           "zerolinecolor": "white",
           "zerolinewidth": 2
          }
         }
        },
        "title": {
         "text": "Correlation with {col}"
        },
        "xaxis": {
         "anchor": "y",
         "constrain": "domain",
         "domain": [
          0,
          1
         ],
         "scaleanchor": "y",
         "title": {
          "text": "Feature"
         }
        },
        "yaxis": {
         "anchor": "x",
         "autorange": "reversed",
         "constrain": "domain",
         "domain": [
          0,
          1
         ],
         "title": {
          "text": "Correlation"
         }
        }
       }
      }
     },
     "metadata": {},
     "output_type": "display_data"
    }
   ],
   "source": [
    "Heat(data, 'target')"
   ]
  },
  {
   "cell_type": "markdown",
   "metadata": {},
   "source": [
    "### Наблюдения о корреляции признаков\n",
    "\n",
    "Можно заметить, что многие признаки стали слабокоррелирующими с целевой переменной. Загвоздка заключается в том, что цены на квартиры в данных значительно разнятся. Основная масса находится в диапазоне до 1_000_000, в то время как более высокие цены добавляют много шума в данные, что может негативно сказаться на метриках в будущем.\n",
    "\n",
    "Однако удалять такие данные нельзя, поскольку квартиры с высокой ценой можно отнести к VIP-категории. Отказ от их предсказания будет нецелесообразен.\n",
    "\n",
    "К данному вопросу мы вернёмся позже. А сейчас снова взглянем на распределение целевой переменной, чтобы увидеть это наглядно, а также на две матрицы корреляции.\n"
   ]
  },
  {
   "cell_type": "code",
   "execution_count": 238,
   "metadata": {},
   "outputs": [
    {
     "data": {
      "image/png": "[encoded data removed]",
      "text/plain": [
       "<Figure size 800x600 with 1 Axes>"
      ]
     },
     "metadata": {},
     "output_type": "display_data"
    }
   ],
   "source": [
    "Box(data, 'target')"
   ]
  },
  {
   "cell_type": "code",
   "execution_count": 239,
   "metadata": {},
   "outputs": [
    {
     "data": {
      "application/vnd.plotly.v1+json": {
       "config": {
        "plotlyServerURL": "https://plot.ly"
       },
       "data": [
        {
         "coloraxis": "coloraxis",
         "hovertemplate": "Feature: %{x}<br>Correlation: %{y}<br>color: %{z}<extra></extra>",
         "name": "0",
         "type": "heatmap",
         "x": [
          "status",
          "propertyType",
          "sqft",
          "PrivatePool",
          "target",
          "fireplace_type",
          "for_rent",
          "Price/sqft",
          "Average Rating",
          "Cooling_0",
          "Cooling_1",
          "Cooling_2",
          "Heating_0",
          "Heating_1",
          "city_0",
          "city_1",
          "street_0",
          "street_1",
          "state_0",
          "state_1",
          "is_remodeled",
          "property_age",
          "has_fireplace",
          "has_parking",
          "lowest_price",
          "sum_baths_beds",
          "sqft/baths"
         ],
         "xaxis": "x",
         "y": [
          "Correlation"
         ],
         "yaxis": "y",
         "z": [
          [
           0.040626043172074355,
           -0.14922588886736035,
           0.398787243108612,
           0.11003477829048848,
           1,
           0.02424532252043848,
           -0.053102736659034956,
           0.618230804107311,
           0.29488332140327794,
           0.0005468385751956971,
           -0.052518201192404745,
           0.050837167093015834,
           -0.004279512705127366,
           0.03191061988336518,
           -0.034857450537039265,
           0.012316344186135574,
           0.012064193109204695,
           0.0010501305132439205,
           0.26035385818983425,
           -0.07124561045470172,
           -0.023693290606435304,
           -0.04549470331084849,
           0.12903552750819544,
           0.06930734331294824,
           0.7832641942298385,
           0.33004511178844936,
           0.0964598996211645
          ]
         ]
        },
        {
         "coloraxis": "coloraxis",
         "hovertemplate": "Feature: %{x}<br>Correlation: %{y}<br>color: %{z}<extra></extra>",
         "name": "0",
         "type": "heatmap",
         "x": [
          "status",
          "propertyType",
          "sqft",
          "PrivatePool",
          "target",
          "fireplace_type",
          "for_rent",
          "Price/sqft",
          "Average Rating",
          "Cooling_0",
          "Cooling_1",
          "Cooling_2",
          "Heating_0",
          "Heating_1",
          "city_0",
          "city_1",
          "street_0",
          "street_1",
          "state_0",
          "state_1",
          "is_remodeled",
          "property_age",
          "has_fireplace",
          "has_parking",
          "lowest_price",
          "sum_baths_beds",
          "sqft/baths"
         ],
         "xaxis": "x2",
         "y": [
          "Correlation"
         ],
         "yaxis": "y2",
         "z": [
          [
           0.006154169092983326,
           0.04123516745182605,
           0.01495577362074824,
           0.0031288966707986713,
           1,
           -0.019347086726095378,
           null,
           -0.2137248105823749,
           0.11746369053126356,
           -0.01562393619530469,
           0.09600813707714692,
           -0.1024418102289176,
           -0.07868894946898546,
           -0.025299745517114006,
           0.20310148101047906,
           0.10505860260617671,
           0.009356477687581403,
           -0.019330451891198367,
           0.0934257189799512,
           0.09361427939760884,
           -0.06021069855468405,
           -0.0872240454459638,
           -0.0765647471670058,
           -0.08266446410138441,
           -0.012174204176850934,
           -0.010169693414508518,
           -0.02197186039016912
          ]
         ]
        }
       ],
       "layout": {
        "annotations": [
         {
          "font": {
           "size": 16
          },
          "showarrow": false,
          "text": "Корреляция с target до 1e6",
          "x": 0.225,
          "xanchor": "center",
          "xref": "paper",
          "y": 1,
          "yanchor": "bottom",
          "yref": "paper"
         },
         {
          "font": {
           "size": 16
          },
          "showarrow": false,
          "text": "Корреляция с target после 1e6",
          "x": 0.775,
          "xanchor": "center",
          "xref": "paper",
          "y": 1,
          "yanchor": "bottom",
          "yref": "paper"
         }
        ],
        "showlegend": false,
        "template": {
         "data": {
          "bar": [
           {
            "error_x": {
             "color": "#2a3f5f"
            },
            "error_y": {
             "color": "#2a3f5f"
            },
            "marker": {
             "line": {
              "color": "#E5ECF6",
              "width": 0.5
             },
             "pattern": {
              "fillmode": "overlay",
              "size": 10,
              "solidity": 0.2
             }
            },
            "type": "bar"
           }
          ],
          "barpolar": [
           {
            "marker": {
             "line": {
              "color": "#E5ECF6",
              "width": 0.5
             },
             "pattern": {
              "fillmode": "overlay",
              "size": 10,
              "solidity": 0.2
             }
            },
            "type": "barpolar"
           }
          ],
          "carpet": [
           {
            "aaxis": {
             "endlinecolor": "#2a3f5f",
             "gridcolor": "white",
             "linecolor": "white",
             "minorgridcolor": "white",
             "startlinecolor": "#2a3f5f"
            },
            "baxis": {
             "endlinecolor": "#2a3f5f",
             "gridcolor": "white",
             "linecolor": "white",
             "minorgridcolor": "white",
             "startlinecolor": "#2a3f5f"
            },
            "type": "carpet"
           }
          ],
          "choropleth": [
           {
            "colorbar": {
             "outlinewidth": 0,
             "ticks": ""
            },
            "type": "choropleth"
           }
          ],
          "contour": [
           {
            "colorbar": {
             "outlinewidth": 0,
             "ticks": ""
            },
            "colorscale": [
             [
              0,
              "#0d0887"
             ],
             [
              0.1111111111111111,
              "#46039f"
             ],
             [
              0.2222222222222222,
              "#7201a8"
             ],
             [
              0.3333333333333333,
              "#9c179e"
             ],
             [
              0.4444444444444444,
              "#bd3786"
             ],
             [
              0.5555555555555556,
              "#d8576b"
             ],
             [
              0.6666666666666666,
              "#ed7953"
             ],
             [
              0.7777777777777778,
              "#fb9f3a"
             ],
             [
              0.8888888888888888,
              "#fdca26"
             ],
             [
              1,
              "#f0f921"
             ]
            ],
            "type": "contour"
           }
          ],
          "contourcarpet": [
           {
            "colorbar": {
             "outlinewidth": 0,
             "ticks": ""
            },
            "type": "contourcarpet"
           }
          ],
          "heatmap": [
           {
            "colorbar": {
             "outlinewidth": 0,
             "ticks": ""
            },
            "colorscale": [
             [
              0,
              "#0d0887"
             ],
             [
              0.1111111111111111,
              "#46039f"
             ],
             [
              0.2222222222222222,
              "#7201a8"
             ],
             [
              0.3333333333333333,
              "#9c179e"
             ],
             [
              0.4444444444444444,
              "#bd3786"
             ],
             [
              0.5555555555555556,
              "#d8576b"
             ],
             [
              0.6666666666666666,
              "#ed7953"
             ],
             [
              0.7777777777777778,
              "#fb9f3a"
             ],
             [
              0.8888888888888888,
              "#fdca26"
             ],
             [
              1,
              "#f0f921"
             ]
            ],
            "type": "heatmap"
           }
          ],
          "heatmapgl": [
           {
            "colorbar": {
             "outlinewidth": 0,
             "ticks": ""
            },
            "colorscale": [
             [
              0,
              "#0d0887"
             ],
             [
              0.1111111111111111,
              "#46039f"
             ],
             [
              0.2222222222222222,
              "#7201a8"
             ],
             [
              0.3333333333333333,
              "#9c179e"
             ],
             [
              0.4444444444444444,
              "#bd3786"
             ],
             [
              0.5555555555555556,
              "#d8576b"
             ],
             [
              0.6666666666666666,
              "#ed7953"
             ],
             [
              0.7777777777777778,
              "#fb9f3a"
             ],
             [
              0.8888888888888888,
              "#fdca26"
             ],
             [
              1,
              "#f0f921"
             ]
            ],
            "type": "heatmapgl"
           }
          ],
          "histogram": [
           {
            "marker": {
             "pattern": {
              "fillmode": "overlay",
              "size": 10,
              "solidity": 0.2
             }
            },
            "type": "histogram"
           }
          ],
          "histogram2d": [
           {
            "colorbar": {
             "outlinewidth": 0,
             "ticks": ""
            },
            "colorscale": [
             [
              0,
              "#0d0887"
             ],
             [
              0.1111111111111111,
              "#46039f"
             ],
             [
              0.2222222222222222,
              "#7201a8"
             ],
             [
              0.3333333333333333,
              "#9c179e"
             ],
             [
              0.4444444444444444,
              "#bd3786"
             ],
             [
              0.5555555555555556,
              "#d8576b"
             ],
             [
              0.6666666666666666,
              "#ed7953"
             ],
             [
              0.7777777777777778,
              "#fb9f3a"
             ],
             [
              0.8888888888888888,
              "#fdca26"
             ],
             [
              1,
              "#f0f921"
             ]
            ],
            "type": "histogram2d"
           }
          ],
          "histogram2dcontour": [
           {
            "colorbar": {
             "outlinewidth": 0,
             "ticks": ""
            },
            "colorscale": [
             [
              0,
              "#0d0887"
             ],
             [
              0.1111111111111111,
              "#46039f"
             ],
             [
              0.2222222222222222,
              "#7201a8"
             ],
             [
              0.3333333333333333,
              "#9c179e"
             ],
             [
              0.4444444444444444,
              "#bd3786"
             ],
             [
              0.5555555555555556,
              "#d8576b"
             ],
             [
              0.6666666666666666,
              "#ed7953"
             ],
             [
              0.7777777777777778,
              "#fb9f3a"
             ],
             [
              0.8888888888888888,
              "#fdca26"
             ],
             [
              1,
              "#f0f921"
             ]
            ],
            "type": "histogram2dcontour"
           }
          ],
          "mesh3d": [
           {
            "colorbar": {
             "outlinewidth": 0,
             "ticks": ""
            },
            "type": "mesh3d"
           }
          ],
          "parcoords": [
           {
            "line": {
             "colorbar": {
              "outlinewidth": 0,
              "ticks": ""
             }
            },
            "type": "parcoords"
           }
          ],
          "pie": [
           {
            "automargin": true,
            "type": "pie"
           }
          ],
          "scatter": [
           {
            "fillpattern": {
             "fillmode": "overlay",
             "size": 10,
             "solidity": 0.2
            },
            "type": "scatter"
           }
          ],
          "scatter3d": [
           {
            "line": {
             "colorbar": {
              "outlinewidth": 0,
              "ticks": ""
             }
            },
            "marker": {
             "colorbar": {
              "outlinewidth": 0,
              "ticks": ""
             }
            },
            "type": "scatter3d"
           }
          ],
          "scattercarpet": [
           {
            "marker": {
             "colorbar": {
              "outlinewidth": 0,
              "ticks": ""
             }
            },
            "type": "scattercarpet"
           }
          ],
          "scattergeo": [
           {
            "marker": {
             "colorbar": {
              "outlinewidth": 0,
              "ticks": ""
             }
            },
            "type": "scattergeo"
           }
          ],
          "scattergl": [
           {
            "marker": {
             "colorbar": {
              "outlinewidth": 0,
              "ticks": ""
             }
            },
            "type": "scattergl"
           }
          ],
          "scattermapbox": [
           {
            "marker": {
             "colorbar": {
              "outlinewidth": 0,
              "ticks": ""
             }
            },
            "type": "scattermapbox"
           }
          ],
          "scatterpolar": [
           {
            "marker": {
             "colorbar": {
              "outlinewidth": 0,
              "ticks": ""
             }
            },
            "type": "scatterpolar"
           }
          ],
          "scatterpolargl": [
           {
            "marker": {
             "colorbar": {
              "outlinewidth": 0,
              "ticks": ""
             }
            },
            "type": "scatterpolargl"
           }
          ],
          "scatterternary": [
           {
            "marker": {
             "colorbar": {
              "outlinewidth": 0,
              "ticks": ""
             }
            },
            "type": "scatterternary"
           }
          ],
          "surface": [
           {
            "colorbar": {
             "outlinewidth": 0,
             "ticks": ""
            },
            "colorscale": [
             [
              0,
              "#0d0887"
             ],
             [
              0.1111111111111111,
              "#46039f"
             ],
             [
              0.2222222222222222,
              "#7201a8"
             ],
             [
              0.3333333333333333,
              "#9c179e"
             ],
             [
              0.4444444444444444,
              "#bd3786"
             ],
             [
              0.5555555555555556,
              "#d8576b"
             ],
             [
              0.6666666666666666,
              "#ed7953"
             ],
             [
              0.7777777777777778,
              "#fb9f3a"
             ],
             [
              0.8888888888888888,
              "#fdca26"
             ],
             [
              1,
              "#f0f921"
             ]
            ],
            "type": "surface"
           }
          ],
          "table": [
           {
            "cells": {
             "fill": {
              "color": "#EBF0F8"
             },
             "line": {
              "color": "white"
             }
            },
            "header": {
             "fill": {
              "color": "#C8D4E3"
             },
             "line": {
              "color": "white"
             }
            },
            "type": "table"
           }
          ]
         },
         "layout": {
          "annotationdefaults": {
           "arrowcolor": "#2a3f5f",
           "arrowhead": 0,
           "arrowwidth": 1
          },
          "autotypenumbers": "strict",
          "coloraxis": {
           "colorbar": {
            "outlinewidth": 0,
            "ticks": ""
           }
          },
          "colorscale": {
           "diverging": [
            [
             0,
             "#8e0152"
            ],
            [
             0.1,
             "#c51b7d"
            ],
            [
             0.2,
             "#de77ae"
            ],
            [
             0.3,
             "#f1b6da"
            ],
            [
             0.4,
             "#fde0ef"
            ],
            [
             0.5,
             "#f7f7f7"
            ],
            [
             0.6,
             "#e6f5d0"
            ],
            [
             0.7,
             "#b8e186"
            ],
            [
             0.8,
             "#7fbc41"
            ],
            [
             0.9,
             "#4d9221"
            ],
            [
             1,
             "#276419"
            ]
           ],
           "sequential": [
            [
             0,
             "#0d0887"
            ],
            [
             0.1111111111111111,
             "#46039f"
            ],
            [
             0.2222222222222222,
             "#7201a8"
            ],
            [
             0.3333333333333333,
             "#9c179e"
            ],
            [
             0.4444444444444444,
             "#bd3786"
            ],
            [
             0.5555555555555556,
             "#d8576b"
            ],
            [
             0.6666666666666666,
             "#ed7953"
            ],
            [
             0.7777777777777778,
             "#fb9f3a"
            ],
            [
             0.8888888888888888,
             "#fdca26"
            ],
            [
             1,
             "#f0f921"
            ]
           ],
           "sequentialminus": [
            [
             0,
             "#0d0887"
            ],
            [
             0.1111111111111111,
             "#46039f"
            ],
            [
             0.2222222222222222,
             "#7201a8"
            ],
            [
             0.3333333333333333,
             "#9c179e"
            ],
            [
             0.4444444444444444,
             "#bd3786"
            ],
            [
             0.5555555555555556,
             "#d8576b"
            ],
            [
             0.6666666666666666,
             "#ed7953"
            ],
            [
             0.7777777777777778,
             "#fb9f3a"
            ],
            [
             0.8888888888888888,
             "#fdca26"
            ],
            [
             1,
             "#f0f921"
            ]
           ]
          },
          "colorway": [
           "#636efa",
           "#EF553B",
           "#00cc96",
           "#ab63fa",
           "#FFA15A",
           "#19d3f3",
           "#FF6692",
           "#B6E880",
           "#FF97FF",
           "#FECB52"
          ],
          "font": {
           "color": "#2a3f5f"
          },
          "geo": {
           "bgcolor": "white",
           "lakecolor": "white",
           "landcolor": "#E5ECF6",
           "showlakes": true,
           "showland": true,
           "subunitcolor": "white"
          },
          "hoverlabel": {
           "align": "left"
          },
          "hovermode": "closest",
          "mapbox": {
           "style": "light"
          },
          "paper_bgcolor": "white",
          "plot_bgcolor": "#E5ECF6",
          "polar": {
           "angularaxis": {
            "gridcolor": "white",
            "linecolor": "white",
            "ticks": ""
           },
           "bgcolor": "#E5ECF6",
           "radialaxis": {
            "gridcolor": "white",
            "linecolor": "white",
            "ticks": ""
           }
          },
          "scene": {
           "xaxis": {
            "backgroundcolor": "#E5ECF6",
            "gridcolor": "white",
            "gridwidth": 2,
            "linecolor": "white",
            "showbackground": true,
            "ticks": "",
            "zerolinecolor": "white"
           },
           "yaxis": {
            "backgroundcolor": "#E5ECF6",
            "gridcolor": "white",
            "gridwidth": 2,
            "linecolor": "white",
            "showbackground": true,
            "ticks": "",
            "zerolinecolor": "white"
           },
           "zaxis": {
            "backgroundcolor": "#E5ECF6",
            "gridcolor": "white",
            "gridwidth": 2,
            "linecolor": "white",
            "showbackground": true,
            "ticks": "",
            "zerolinecolor": "white"
           }
          },
          "shapedefaults": {
           "line": {
            "color": "#2a3f5f"
           }
          },
          "ternary": {
           "aaxis": {
            "gridcolor": "white",
            "linecolor": "white",
            "ticks": ""
           },
           "baxis": {
            "gridcolor": "white",
            "linecolor": "white",
            "ticks": ""
           },
           "bgcolor": "#E5ECF6",
           "caxis": {
            "gridcolor": "white",
            "linecolor": "white",
            "ticks": ""
           }
          },
          "title": {
           "x": 0.05
          },
          "xaxis": {
           "automargin": true,
           "gridcolor": "white",
           "linecolor": "white",
           "ticks": "",
           "title": {
            "standoff": 15
           },
           "zerolinecolor": "white",
           "zerolinewidth": 2
          },
          "yaxis": {
           "automargin": true,
           "gridcolor": "white",
           "linecolor": "white",
           "ticks": "",
           "title": {
            "standoff": 15
           },
           "zerolinecolor": "white",
           "zerolinewidth": 2
          }
         }
        },
        "title": {
         "text": "Матрицы корреляции для target",
         "x": 0.5
        },
        "xaxis": {
         "anchor": "y",
         "domain": [
          0,
          0.45
         ]
        },
        "xaxis2": {
         "anchor": "y2",
         "domain": [
          0.55,
          1
         ]
        },
        "yaxis": {
         "anchor": "x",
         "domain": [
          0,
          1
         ]
        },
        "yaxis2": {
         "anchor": "x2",
         "domain": [
          0,
          1
         ]
        }
       }
      }
     },
     "metadata": {},
     "output_type": "display_data"
    }
   ],
   "source": [
    "\n",
    "data.reset_index(drop=True, inplace=True)\n",
    "# Создаем подграфики с двумя колонками\n",
    "fig = make_subplots(\n",
    "    rows=1, cols=2, \n",
    "    subplot_titles=[f'Корреляция с target до 1e6', f'Корреляция с target после 1e6']\n",
    ")\n",
    "\n",
    "\n",
    "df = data[data['target'] <= 1e6].select_dtypes(include=['number', 'bool'])\n",
    "correlation_baths = df.corr()['target']\n",
    "correlation_df = pd.DataFrame(correlation_baths).reset_index()\n",
    "correlation_df.columns = ['Feature', 'Correlation']\n",
    "\n",
    "\n",
    "heatmap_fig = px.imshow(\n",
    "    correlation_df.set_index('Feature').T,  # Транспонируем для корректного отображения\n",
    "    labels=dict(x='Feature', y='Correlation'),\n",
    "    color_continuous_scale='Viridis'\n",
    ")\n",
    "fig.add_traces(heatmap_fig.data, rows=1, cols=1)\n",
    "\n",
    "\n",
    "\n",
    "df = data[data['target'] > 1e6].select_dtypes(include=['number', 'bool'])\n",
    "correlation_baths = df.corr()['target']\n",
    "correlation_df = pd.DataFrame(correlation_baths).reset_index()\n",
    "correlation_df.columns = ['Feature', 'Correlation']\n",
    "\n",
    "\n",
    "heatmap_fig = px.imshow(\n",
    "    correlation_df.set_index('Feature').T,  # Транспонируем для корректного отображения\n",
    "    labels=dict(x='Feature', y='Correlation'),\n",
    "    color_continuous_scale='Viridis'\n",
    ")\n",
    "fig.add_traces(heatmap_fig.data, rows=1, cols=2)\n",
    "\n",
    "fig.update_layout(\n",
    "        title_text=f'Матрицы корреляции для target', \n",
    "        title_x=0.5,  \n",
    "        showlegend=False \n",
    "    )\n",
    "\n",
    "fig.show()\n"
   ]
  },
  {
   "cell_type": "markdown",
   "metadata": {},
   "source": [
    "## Что и требовалось доказать\n",
    "\n",
    "Можно невооруженным глазом заметить разницу в матрицах корреляции в зависимости от диапазона переменной.\n"
   ]
  },
  {
   "cell_type": "code",
   "execution_count": 240,
   "metadata": {},
   "outputs": [
    {
     "name": "stdout",
     "output_type": "stream",
     "text": [
      "размерность: (322865, 31)\n",
      "Ранг матрицы корреляции: 27\n",
      "Определитель матрицы корреляции: 0.0001489\n"
     ]
    }
   ],
   "source": [
    "data.reset_index(drop=True, inplace=True)\n",
    "chart_data = data.select_dtypes(include=['number', 'bool']).dropna()\n",
    "\n",
    "corr_matrix = chart_data.corr()\n",
    "\n",
    "print(f'размерность: {data.shape}')\n",
    "\n",
    "rank = np.linalg.matrix_rank(corr_matrix)\n",
    "print(f\"Ранг матрицы корреляции: {rank}\")\n",
    "\n",
    "determinant = np.linalg.det(corr_matrix)\n",
    "print(f\"Определитель матрицы корреляции: {determinant:.7f}\")"
   ]
  },
  {
   "cell_type": "markdown",
   "metadata": {},
   "source": [
    "#### Ранг матрицы корреляции максимален, однако определитель очень мал, что указывает на то, что матрица корреляции близка к вырожденной или имеет почти линейно зависимые строки и столбцы. Это может свидетельствовать о наличии мультиколлинеарности среди признаков, что затрудняет интерпретацию данных и может негативно сказываться на производительности моделей машинного обучения, таких как регрессия.\n",
    "\n"
   ]
  },
  {
   "cell_type": "markdown",
   "metadata": {},
   "source": [
    "#### Давайте снова разделим наш датасет на два диапазона и проверим модели с использованием `xgb.XGBRegressor`.\n"
   ]
  },
  {
   "cell_type": "code",
   "execution_count": 241,
   "metadata": {},
   "outputs": [],
   "source": [
    "data = data.select_dtypes(['number', 'bool'])\n",
    "params = {'colsample_bytree': 1.0, 'learning_rate': 0.1, 'max_depth': 9, 'min_child_weight': 5, 'n_estimators': 200, 'subsample': 0.9}\n",
    "\n",
    "xgb_model = xgb.XGBRegressor(**params, random_state=42)\n",
    "\n",
    "#Датасет для квартир в ценовом диапозоне до 1_000_000\n",
    "graph_df = data[data['target'] <= 1e6]\n",
    "X = graph_df.drop('target', axis=1)\n",
    "y = graph_df['target']\n",
    "\n",
    "\n",
    "xgb_model.fit(X, y)\n",
    "\n",
    "\n",
    "importances = xgb_model.feature_importances_\n",
    "\n",
    "\n",
    "importance_df = pd.DataFrame({\n",
    "    'Feature': X.columns,\n",
    "    'Importance': importances\n",
    "})\n",
    "importance_df = importance_df.sort_values(by='Importance', ascending=False)\n",
    "\n",
    "\n",
    "#Датасет для квартир в ценовом диапозоне после 1_000_000\n",
    "graph_df_vip = data[data['target'] > 1e6]\n",
    "X = graph_df_vip.drop('target', axis=1)\n",
    "y = graph_df_vip['target']\n",
    "\n",
    "# Обучение модели\n",
    "xgb_model.fit(X, y)\n",
    "\n",
    "\n",
    "importances = xgb_model.feature_importances_\n",
    "\n",
    "\n",
    "importance_df_vip = pd.DataFrame({\n",
    "    'Feature': X.columns,\n",
    "    'Importance': importances\n",
    "})\n",
    "importance_df_vip = importance_df_vip.sort_values(by='Importance', ascending=False)\n"
   ]
  },
  {
   "cell_type": "code",
   "execution_count": 242,
   "metadata": {},
   "outputs": [],
   "source": [
    "\n",
    "# fig = make_subplots(\n",
    "#         rows=2, cols=1, \n",
    "#         subplot_titles=[f\"Гистограмма для importance_df_vip\", f\"Коробчатая диаграмма для importance_df\"],\n",
    "#     )\n",
    "\n",
    "\n",
    "# bar_fig_1 = px.bar(\n",
    "#     importance_df,\n",
    "#     x='Importance',\n",
    "#     y='Feature',\n",
    "#     orientation='h',\n",
    "#     title='Важность признаков модели XGBRegressor',\n",
    "#     labels={'Importance': 'Важность признаков', 'Feature': 'Признак'}\n",
    "# )\n",
    "# fig.add_traces(bar_fig_1.data, rows=1, cols=1)\n",
    "\n",
    "\n",
    "# bar_fig_2 = px.bar(\n",
    "#     importance_df_vip,\n",
    "#     x='Importance',\n",
    "#     y='Feature',\n",
    "#     orientation='h',\n",
    "#     title='Важность признаков модели XGBRegressor',\n",
    "#     labels={'Importance': 'Важность признаков', 'Feature': 'Признак'}\n",
    "# )\n",
    "# fig.add_traces(bar_fig_2.data, rows=2, cols=1)\n",
    "\n",
    "\n",
    "# fig.update_layout(\n",
    "#     yaxis_title='Признак',\n",
    "#     xaxis_title='Важность признаков',\n",
    "#     height=1600,\n",
    "# )\n",
    "\n",
    "# fig.show()"
   ]
  },
  {
   "cell_type": "code",
   "execution_count": 243,
   "metadata": {},
   "outputs": [
    {
     "data": {
      "image/png": "[encoded data removed]",
      "text/plain": [
       "<Figure size 1000x1600 with 2 Axes>"
      ]
     },
     "metadata": {},
     "output_type": "display_data"
    }
   ],
   "source": [
    "# Создаем подграфики с двумя рядами\n",
    "fig, axes = plt.subplots(2, 1, figsize=(10, 16))\n",
    "\n",
    "# Устанавливаем общий заголовок для всей фигуры\n",
    "fig.suptitle('Важность признаков модели XGBRegressor', fontsize=16)\n",
    "\n",
    "# Горизонтальная гистограмма для первого DataFrame (importance_df)\n",
    "sns.barplot(\n",
    "    x='Importance', \n",
    "    y='Feature', \n",
    "    data=importance_df, \n",
    "    ax=axes[0], \n",
    "    orient='h', \n",
    "    palette='viridis'\n",
    ")\n",
    "axes[0].set_title('Важность признаков модели XGBRegressor (importance_df)', fontsize=14)\n",
    "axes[0].set_xlabel('Важность признаков')\n",
    "axes[0].set_ylabel('Признак')\n",
    "\n",
    "# Горизонтальная гистограмма для второго DataFrame (importance_df_vip)\n",
    "sns.barplot(\n",
    "    x='Importance', \n",
    "    y='Feature', \n",
    "    data=importance_df_vip, \n",
    "    ax=axes[1], \n",
    "    orient='h', \n",
    "    palette='viridis'\n",
    ")\n",
    "axes[1].set_title('Важность признаков модели XGBRegressor (importance_df_vip)', fontsize=14)\n",
    "axes[1].set_xlabel('Важность признаков')\n",
    "axes[1].set_ylabel('Признак')\n",
    "\n",
    "# Корректируем компоновку\n",
    "plt.tight_layout(rect=[0, 0, 1, 0.96])\n",
    "\n",
    "# Показываем графики\n",
    "plt.show()"
   ]
  },
  {
   "cell_type": "markdown",
   "metadata": {},
   "source": [
    "### На основе этих данных создаим функцию, которые будут удалять признаки в зависимости от того, какой именно диапазон нам нужен"
   ]
  },
  {
   "cell_type": "code",
   "execution_count": 244,
   "metadata": {},
   "outputs": [],
   "source": [
    "def get_hight_data(data: pd.DataFrame) -> pd.DataFrame:\n",
    "    \"\"\"Извлекает числовые и булевы столбцы из датафрейма для обучения модели на квартирах стоимостью выше 1 миллиона.\"\"\"\n",
    "\n",
    "    hight_data = data.select_dtypes(['number', 'bool'])\n",
    "    cols_to_drop = ['Heating_0', 'state_1', 'sqft/baths', 'Cooling_0', 'Cooling_1', 'Cooling_2', 'PrivatePool', 'is_remodeled', 'has_parking', 'for_rent', 'fireplace_type']\n",
    "    \n",
    "    for col in cols_to_drop:\n",
    "        if col in hight_data.columns:\n",
    "            hight_data = hight_data.drop(col, axis=1)\n",
    "\n",
    "    hight_data.reset_index(drop=True, inplace=True)\n",
    "    return hight_data\n",
    "\n",
    "def get_low_data(data: pd.DataFrame) -> pd.DataFrame:\n",
    "    \"\"\"Извлекает числовые и булевы столбцы из датафрейма для обучения модели на квартирах стоимостью до 1 миллиона\"\"\"\n",
    "\n",
    "    lower_drop_col = ['fireplace_type', 'for_rent', 'is_remodeled', 'Heating_0', 'Heating_1', 'PrivatePool', 'street_0', 'street_1', 'has_fireplace', 'Cooling_0', 'Cooling_1']\n",
    "    low_data = data.select_dtypes(include=['number', 'bool'])\n",
    "\n",
    "    for col in lower_drop_col:\n",
    "        if col in low_data.columns:\n",
    "            low_data = low_data.drop(col, axis=1)\n",
    "\n",
    "    low_data.reset_index(drop=True, inplace=True)\n",
    "    return low_data"
   ]
  },
  {
   "cell_type": "code",
   "execution_count": 245,
   "metadata": {},
   "outputs": [],
   "source": [
    "def check_data(data: pd.DataFrame, model: Any, dropna = False) -> None:\n",
    "    \"\"\"\n",
    "    Оценивает производительность модели на данных, используя кросс-валидацию.\n",
    "    \n",
    "    Параметры:\n",
    "    - data (DataFrame): Входной набор данных, должен содержать столбец 'target'.\n",
    "    - model: Модель для оценки (например, XGBRegressor).\n",
    "    - dr (bool): Если True, удаляет строки с пропущенными значениями.\n",
    "    \n",
    "    Вывод:\n",
    "    - MAE (Mean Absolute Error): Средняя абсолютная ошибка.\n",
    "    - R² Score: Коэффициент детерминации.\n",
    "    \"\"\"\n",
    "\n",
    "    if dropna:\n",
    "        data = data.dropna()\n",
    "        \n",
    "    \n",
    "    data = data.select_dtypes(include=['number', 'bool'])\n",
    "    X = data.drop('target', axis=1)\n",
    "    scaler = StandardScaler()\n",
    "    X = scaler.fit_transform(X)\n",
    "    y = data['target']\n",
    "   \n",
    "    kf = KFold(n_splits=5, shuffle=True, random_state=42)\n",
    "    mae_scores = cross_val_score(model, X, y, cv=kf, scoring='neg_mean_absolute_error')\n",
    "    r2_scores = cross_val_score(model, X, y, cv=kf, scoring='r2')\n",
    "\n",
    "    mae_mean = -np.mean(mae_scores)\n",
    "    r2_mean = np.mean(r2_scores)\n",
    " \n",
    "    \n",
    "\n",
    "    print(f\"MAE (Mean Absolute Error): {mae_mean:.2f}\")\n",
    "    print(f\"R² Score: {r2_mean:.2f}\")\n",
    "\n",
    "\n",
    "def check_data_log(data: pd.DataFrame, model: Any, dr: bool = False) -> None:\n",
    "    \"\"\"\n",
    "    Оценивает производительность модели на логарифмированных данных.\n",
    "    \n",
    "    Параметры:\n",
    "    - data (DataFrame): Входной набор данных, должен содержать столбец 'target'.\n",
    "    - model: Модель для обучения и оценки (например, XGBRegressor).\n",
    "    - dr (bool): Если True, удаляет строки с пропущенными значениями.\n",
    "    \n",
    "    Вывод:\n",
    "    - MAE (Mean Absolute Error): Средняя абсолютная ошибка.\n",
    "    - R² Score: Коэффициент детерминации.\n",
    "    \"\"\"\n",
    "    if dr:\n",
    "        data = data.dropna()\n",
    "        \n",
    "    \n",
    "    data = data.select_dtypes(include=['number', 'bool'])\n",
    "    X = data.drop('target', axis=1)\n",
    "    scaler = StandardScaler()\n",
    "\n",
    "    y = data['target']\n",
    "    y = np.log1p(y)\n",
    "\n",
    "   \n",
    "    X_train, X_test, y_train, y_test = train_test_split(X, y, test_size=0.2, random_state=42)\n",
    "    X_train = scaler.fit_transform(X_train)\n",
    "    X_test = scaler.transform(X_test)\n",
    "\n",
    " \n",
    "    model.fit(X_train, y_train)\n",
    "    y_pred_log = model.predict(X_test)\n",
    "    \n",
    "    y_pred = np.expm1(y_pred_log)\n",
    "    y_test_true = np.expm1(y_test)\n",
    "    \n",
    "    mae = mean_absolute_error(y_test_true, y_pred)\n",
    "    r2 = r2_score(y_test_true, y_pred)\n",
    "    \n",
    "    \n",
    "    print(f\"MAE (Mean Absolute Error): {mae:.0f}\")\n",
    "    print(f\"R² Score: {r2:.2f}\")"
   ]
  },
  {
   "cell_type": "markdown",
   "metadata": {},
   "source": [
    "#### Теперь проверим как ведёт себя модель с одними и теже параметрами на данных без удаления призаков, и с удалением"
   ]
  },
  {
   "cell_type": "code",
   "execution_count": 246,
   "metadata": {},
   "outputs": [
    {
     "name": "stdout",
     "output_type": "stream",
     "text": [
      "MAE (Mean Absolute Error): 21004.19\n",
      "R² Score: 0.92\n",
      "MAE (Mean Absolute Error): 592078.31\n",
      "R² Score: 0.49\n"
     ]
    }
   ],
   "source": [
    "params = {'colsample_bytree': 1.0, 'learning_rate': 0.1, 'max_depth': 9, 'min_child_weight': 5, 'n_estimators': 200, 'subsample': 0.9}\n",
    "model = xgb.XGBRegressor(**params, random_state = 42)\n",
    "\n",
    "\n",
    "check_df = data[data['target'] <= 1e6]\n",
    "check_df_vip = data[data['target'] > 1e6]\n",
    "\n",
    "check_data(check_df, model)\n",
    "check_data(check_df_vip, model)"
   ]
  },
  {
   "cell_type": "code",
   "execution_count": 247,
   "metadata": {},
   "outputs": [
    {
     "name": "stdout",
     "output_type": "stream",
     "text": [
      "MAE (Mean Absolute Error): 20669.46\n",
      "R² Score: 0.92\n",
      "MAE (Mean Absolute Error): 588889.11\n",
      "R² Score: 0.49\n"
     ]
    }
   ],
   "source": [
    "check_df = get_low_data(check_df)\n",
    "check_df_vip = get_hight_data(check_df_vip)\n",
    "\n",
    "check_data(check_df, model)\n",
    "check_data(check_df_vip, model)"
   ]
  },
  {
   "cell_type": "code",
   "execution_count": 248,
   "metadata": {},
   "outputs": [
    {
     "name": "stdout",
     "output_type": "stream",
     "text": [
      "размерность: (322865, 27)\n",
      "Ранг матрицы корреляции: 16\n",
      "Определитель матрицы корреляции: 0.0052006\n"
     ]
    }
   ],
   "source": [
    "check_df_vip.reset_index(drop=True, inplace=True)\n",
    "chart_data = check_df_vip.select_dtypes(include=['number', 'bool']).dropna()\n",
    "\n",
    "corr_matrix = chart_data.corr()\n",
    "\n",
    "print(f'размерность: {data.shape}')\n",
    "\n",
    "rank = np.linalg.matrix_rank(corr_matrix)\n",
    "print(f\"Ранг матрицы корреляции: {rank}\")\n",
    "\n",
    "determinant = np.linalg.det(corr_matrix)\n",
    "print(f\"Определитель матрицы корреляции: {determinant:.7f}\")"
   ]
  },
  {
   "cell_type": "code",
   "execution_count": 249,
   "metadata": {},
   "outputs": [
    {
     "name": "stdout",
     "output_type": "stream",
     "text": [
      "размерность: (322865, 27)\n",
      "Ранг матрицы корреляции: 16\n",
      "Определитель матрицы корреляции: 0.0038974165949666644\n"
     ]
    }
   ],
   "source": [
    "check_df.reset_index(drop=True, inplace=True)\n",
    "chart_data = check_df.select_dtypes(include=['number', 'bool']).dropna()\n",
    "\n",
    "corr_matrix = chart_data.corr()\n",
    "\n",
    "print(f'размерность: {data.shape}')\n",
    "\n",
    "rank = np.linalg.matrix_rank(corr_matrix)\n",
    "print(f\"Ранг матрицы корреляции: {rank}\")\n",
    "\n",
    "determinant = np.linalg.det(corr_matrix)\n",
    "print(f\"Определитель матрицы корреляции: {determinant}\")"
   ]
  },
  {
   "cell_type": "markdown",
   "metadata": {},
   "source": [
    "Виднеются совсем небольшие, но улучшения в значениях метрик   \n",
    "Но что более важно, проверим определитель матрицы"
   ]
  },
  {
   "cell_type": "markdown",
   "metadata": {},
   "source": [
    "# Обучение модели"
   ]
  },
  {
   "cell_type": "markdown",
   "metadata": {},
   "source": [
    "## Решение проблемы предсказания цен в диапазоне до и свыше 1 миллиона долларов\n",
    "\n",
    "### 1. Использование стекинга\n",
    "В данном подходе мы применяем стекинг, используя две модели для предсказания цен в двух разных диапазонах: до 1 миллиона долларов и свыше. Для определения, в какой диапазон попадает объект, мы также обучаем модель, которая предсказывает кластер, соответствующий диапазону. Таким образом, мы создаем сложную модель, которая объединяет прогнозы двух отдельных моделей и модель-кластеризатор.\n",
    "\n",
    "### 2. Моделирование на основе кластеризации\n",
    "В этом подходе мы аналогичным образом используем две модели для предсказания цен в разных диапазонах. Однако, вместо использования стекинга, мы сначала предсказываем кластер, в который попадает объект, а затем на основе этого предсказания выбираем модель для предсказания конкретной цены. Это позволяет гибко переключаться между моделями в зависимости от кластеризации объекта.\n",
    "\n",
    "### 3. Наивное обучение одной модели\n",
    "Наиболее простой подход — обучить одну модель/ансамбль на всем датасете, независимо от диапазона цен. Этот метод предполагает, что одна модель будет справляться с прогнозированием цен по всему диапазону, что может быть менее эффективно в условиях значительного разброса данных.\n",
    "\n",
    "## Определение наилучшей модели для решения задачи регрессии\n",
    "\n",
    "В качестве базовой модели мы используем `Ridge`. Если предсказательная способность других моделей окажется ниже, чем у `Ridge`, будем считать, что эти модели не справляются с задачей.\n",
    "\n",
    "Мы будем рассматривать следующие модели для регрессии:\n",
    "- **`LGBMRegressor`**\n",
    "- **`XGBRegressor`**\n",
    "- **`DecisionTreeRegressor`**\n",
    "\n",
    "Почему именно эти модели? Дело в том, что в данных содержится большое количество пропусков и опечаток, что может быть связано с человеческим фактором. Хотя мы предприняли меры по обработке пропусков, невозможно гарантировать, что все пропуски будут заполнены полностью. Поэтому важно использовать модели, которые могут эффективно справляться с отсутствием данных, чтобы избежать потенциальных убытков для компании.\n"
   ]
  },
  {
   "cell_type": "code",
   "execution_count": 250,
   "metadata": {},
   "outputs": [],
   "source": [
    "def train_and_evaluate_model(\n",
    "    data: pd.DataFrame, \n",
    "    model: Any, \n",
    "    param_grid: dict, \n",
    "    dr: bool = False, \n",
    "    name: str = None, \n",
    "    target_col: str = 'target', \n",
    "    test_size: float = 0.2, \n",
    "    random_state: int = 42\n",
    ") -> Any:\n",
    "    \"\"\"\n",
    "    Обучение модели с помощью GridSearchCV и оценка её качества.\n",
    "\n",
    "    Parameters:\n",
    "    - data: pandas DataFrame, содержащий данные для обучения\n",
    "    - model: Any, модель для обучения (например, Ridge(), XGBRegressor(), LGBMRegressor(), DecisionTreeRegressor())\n",
    "    - param_grid: словарь с гиперпараметрами для подбора\n",
    "    - dr: булевый флаг, указывающий, следует ли удалять пропуски (по умолчанию False)\n",
    "    - name: название модели для вывода результатов\n",
    "    - target_col: название целевой переменной (по умолчанию 'target')\n",
    "    - test_size: доля тестовой выборки (по умолчанию 0.2)\n",
    "    - random_state: seed для генератора случайных чисел (по умолчанию 42)\n",
    "\n",
    "    Returns:\n",
    "    - best_model: лучшая модель после подбора гиперпараметров\n",
    "    \"\"\"\n",
    "    if dr:\n",
    "        data.dropna(inplace=True)\n",
    "    \n",
    "    # Разделение данных на признаки и целевую переменную\n",
    "    X = data.drop(target_col, axis=1)\n",
    "    y = data[target_col]\n",
    "\n",
    "    # Разделение на тренировочную и тестовую выборки\n",
    "    X_train, X_test, y_train, y_test = train_test_split(X, y, test_size=test_size, random_state=random_state)\n",
    "\n",
    "    # Создание объекта GridSearchCV\n",
    "    grid_search = GridSearchCV(\n",
    "        estimator=model,\n",
    "        param_grid=param_grid,\n",
    "        scoring='neg_mean_absolute_error',\n",
    "        cv=5,\n",
    "        verbose=1,\n",
    "        n_jobs=-1\n",
    "    )\n",
    "\n",
    "    # Подбор гиперпараметров\n",
    "    grid_search.fit(X_train, y_train)\n",
    "    best_model = grid_search.best_estimator_\n",
    "\n",
    "    # Оценка модели\n",
    "    y_pred = best_model.predict(X_test)\n",
    "    mae = mean_absolute_error(y_test, y_pred)\n",
    "    r2 = r2_score(y_test, y_pred)\n",
    "\n",
    "    print(f'Информация по {name}:')\n",
    "    print(f\"Лучшие параметры: {grid_search.best_params_}\")\n",
    "    print(f\"Средний MAE: {round(mae,0):.2f}\")\n",
    "    print(f\"R² Score: {round(r2,2):.2f}\")\n",
    "    print()\n",
    "\n",
    "    return best_model"
   ]
  },
  {
   "cell_type": "code",
   "execution_count": 251,
   "metadata": {},
   "outputs": [
    {
     "name": "stdout",
     "output_type": "stream",
     "text": [
      "Fitting 5 folds for each of 4 candidates, totalling 20 fits\n",
      "Информация по Ridge:\n",
      "Лучшие параметры: {'alpha': 100}\n",
      "Средний MAE: 34471.00\n",
      "R² Score: 0.64\n",
      "\n",
      "Fitting 5 folds for each of 32 candidates, totalling 160 fits\n",
      "Информация по XGBRegressor:\n",
      "Лучшие параметры: {'colsample_bytree': 1, 'learning_rate': 0.1, 'max_depth': 9, 'min_child_weight': 3, 'n_estimators': 200, 'subsample': 1.0}\n",
      "Средний MAE: 19032.00\n",
      "R² Score: 0.82\n",
      "\n",
      "Fitting 5 folds for each of 16 candidates, totalling 80 fits\n",
      "[LightGBM] [Warning] Found whitespace in feature_names, replace with underlines\n",
      "[LightGBM] [Info] Auto-choosing col-wise multi-threading, the overhead of testing was 0.007440 seconds.\n",
      "You can set `force_col_wise=true` to remove the overhead.\n",
      "[LightGBM] [Info] Total Bins 1981\n",
      "[LightGBM] [Info] Number of data points in the train set: 188409, number of used features: 15\n",
      "[LightGBM] [Info] Start training from score 253854.920837\n",
      "Информация по LGBMRegressor:\n",
      "Лучшие параметры: {'colsample_bytree': 0.9, 'learning_rate': 0.1, 'max_depth': 15, 'min_child_samples': 20, 'n_estimators': 150, 'num_leaves': 40, 'subsample': 0.9}\n",
      "Средний MAE: 19411.00\n",
      "R² Score: 0.81\n",
      "\n",
      "Fitting 5 folds for each of 24 candidates, totalling 120 fits\n",
      "Информация по DecisionTreeRegressor:\n",
      "Лучшие параметры: {'max_depth': 20, 'max_features': 'sqrt', 'min_samples_leaf': 1, 'min_samples_split': 2}\n",
      "Средний MAE: 24680.00\n",
      "R² Score: 0.75\n",
      "\n"
     ]
    }
   ],
   "source": [
    "# Определение параметров для Ridge\n",
    "first_data = data[data['target'] <= 1e6]\n",
    "first_data = get_low_data(first_data)\n",
    "\n",
    "ridge_param_grid = {\n",
    "    'alpha': [0.1, 1, 10, 100]\n",
    "}\n",
    "best_ridge_model = train_and_evaluate_model(\n",
    "    data=first_data,\n",
    "    model=Ridge(),\n",
    "    param_grid=ridge_param_grid,\n",
    "    dr=True,\n",
    "    name='Ridge'\n",
    ")\n",
    "#params = {'colsample_bytree': 1.0, 'learning_rate': 0.1, 'max_depth': 9, 'min_child_weight': 5, 'n_estimators': 200, 'subsample': 0.9}\n",
    "# Определение параметров для XGBRegressor\n",
    "xgb_param_grid = {\n",
    "    'n_estimators': [100, 200],\n",
    "    'learning_rate': [0.1, 0.2],\n",
    "    'max_depth': [6, 9],\n",
    "    'min_child_weight': [3, 5],\n",
    "    'subsample': [0.8, 1.0],\n",
    "    'colsample_bytree': [1]\n",
    "}\n",
    "best_xgb_model = train_and_evaluate_model(\n",
    "    data=first_data,\n",
    "    model=xgb.XGBRegressor(random_state=42),\n",
    "    param_grid=xgb_param_grid,\n",
    "    dr=True,\n",
    "    name='XGBRegressor'\n",
    ")\n",
    "\n",
    "\n",
    "\n",
    "# Определение параметров для LGBMRegressor\n",
    "lgbm_param_grid = {\n",
    "    'n_estimators': [100, 150],\n",
    "    'learning_rate': [0.1],  \n",
    "    'num_leaves': [31, 40], \n",
    "    'max_depth': [10, 15], \n",
    "    'min_child_samples': [20, 30],\n",
    "    'subsample': [0.9],  \n",
    "    'colsample_bytree': [0.9]  \n",
    "}\n",
    "best_lgbm_model = train_and_evaluate_model(\n",
    "    data=first_data,\n",
    "    model=lgb.LGBMRegressor(random_state=42),\n",
    "    param_grid=lgbm_param_grid,\n",
    "    dr=True,\n",
    "    name='LGBMRegressor'\n",
    ")\n",
    "\n",
    "\n",
    "# Определение параметров для DecisionTreeRegressor\n",
    "dt_param_grid = {\n",
    "    'max_depth': [10, 20],\n",
    "    'min_samples_split': [2, 5],\n",
    "    'min_samples_leaf': [1, 2],\n",
    "    'min_samples_leaf': [1, 2, 5],\n",
    "    'max_features': ['sqrt', 'log2']\n",
    "}\n",
    "best_dt_model = train_and_evaluate_model(\n",
    "    data=first_data,\n",
    "    model=DecisionTreeRegressor(random_state=42),\n",
    "    param_grid=dt_param_grid,\n",
    "    dr=True,\n",
    "    name='DecisionTreeRegressor'\n",
    ")\n"
   ]
  },
  {
   "cell_type": "code",
   "execution_count": 252,
   "metadata": {},
   "outputs": [
    {
     "name": "stdout",
     "output_type": "stream",
     "text": [
      "Fitting 5 folds for each of 4 candidates, totalling 20 fits\n",
      "Информация по Ridge:\n",
      "Лучшие параметры: {'alpha': 100}\n",
      "Средний MAE: 1781705.00\n",
      "R² Score: 0.27\n",
      "\n",
      "Fitting 5 folds for each of 32 candidates, totalling 160 fits\n",
      "Информация по XGBRegressor:\n",
      "Лучшие параметры: {'colsample_bytree': 1, 'learning_rate': 0.1, 'max_depth': 6, 'min_child_weight': 3, 'n_estimators': 100, 'subsample': 1.0}\n",
      "Средний MAE: 1227658.00\n",
      "R² Score: 0.55\n",
      "\n",
      "Fitting 5 folds for each of 16 candidates, totalling 80 fits\n",
      "[LightGBM] [Warning] Found whitespace in feature_names, replace with underlines\n",
      "[LightGBM] [Info] Auto-choosing col-wise multi-threading, the overhead of testing was 0.000348 seconds.\n",
      "You can set `force_col_wise=true` to remove the overhead.\n",
      "[LightGBM] [Info] Total Bins 1785\n",
      "[LightGBM] [Info] Number of data points in the train set: 6206, number of used features: 15\n",
      "[LightGBM] [Info] Start training from score 3766179.227683\n",
      "[LightGBM] [Warning] No further splits with positive gain, best gain: -inf\n",
      "[LightGBM] [Warning] No further splits with positive gain, best gain: -inf\n",
      "[LightGBM] [Warning] No further splits with positive gain, best gain: -inf\n",
      "[LightGBM] [Warning] No further splits with positive gain, best gain: -inf\n",
      "Информация по LGBMRegressor:\n",
      "Лучшие параметры: {'colsample_bytree': 0.9, 'learning_rate': 0.1, 'max_depth': 10, 'min_child_samples': 20, 'n_estimators': 100, 'num_leaves': 31, 'subsample': 0.9}\n",
      "Средний MAE: 1222560.00\n",
      "R² Score: 0.56\n",
      "\n",
      "Fitting 5 folds for each of 24 candidates, totalling 120 fits\n",
      "Информация по DecisionTreeRegressor:\n",
      "Лучшие параметры: {'max_depth': 20, 'max_features': 'sqrt', 'min_samples_leaf': 5, 'min_samples_split': 2}\n",
      "Средний MAE: 1467007.00\n",
      "R² Score: 0.41\n",
      "\n"
     ]
    }
   ],
   "source": [
    "# Определение параметров для Ridge\n",
    "second_data = data[data['target'] > 1e6]\n",
    "second_data = get_hight_data(second_data)\n",
    "\n",
    "ridge_param_grid = {\n",
    "    'alpha': [0.1, 1, 10, 100]\n",
    "}\n",
    "best_ridge_model_vip = train_and_evaluate_model(\n",
    "    data=second_data,\n",
    "    model=Ridge(),\n",
    "    param_grid=ridge_param_grid,\n",
    "    dr=True,\n",
    "    name='Ridge'\n",
    ")\n",
    "\n",
    "xgb_param_grid = {\n",
    "    'n_estimators': [100, 200],\n",
    "    'learning_rate': [0.1, 0.2],\n",
    "    'max_depth': [6, 9],\n",
    "    'min_child_weight': [3, 5],\n",
    "    'subsample': [0.8, 1.0],\n",
    "    'colsample_bytree': [1]\n",
    "}\n",
    "best_xgb_model_vip = train_and_evaluate_model(\n",
    "    data=second_data,\n",
    "    model=xgb.XGBRegressor(random_state=42),\n",
    "    param_grid=xgb_param_grid,\n",
    "    dr=True,\n",
    "    name='XGBRegressor'\n",
    ")\n",
    "\n",
    "\n",
    "\n",
    "# Определение параметров для LGBMRegressor\n",
    "lgbm_param_grid = {\n",
    "    'n_estimators': [100, 150],\n",
    "    'learning_rate': [0.1],  \n",
    "    'num_leaves': [31, 40], \n",
    "    'max_depth': [10, 15], \n",
    "    'min_child_samples': [20, 30],\n",
    "    'subsample': [0.9],  \n",
    "    'colsample_bytree': [0.9]  \n",
    "}\n",
    "best_lgbm_model_vip = train_and_evaluate_model(\n",
    "    data=second_data,\n",
    "    model=lgb.LGBMRegressor(random_state=42),\n",
    "    param_grid=lgbm_param_grid,\n",
    "    dr=True,\n",
    "    name='LGBMRegressor'\n",
    ")\n",
    "\n",
    "\n",
    "# Определение параметров для DecisionTreeRegressor\n",
    "dt_param_grid = {\n",
    "    'max_depth': [10, 20],\n",
    "    'min_samples_split': [2, 5],\n",
    "    'min_samples_leaf': [1, 2],\n",
    "    'min_samples_leaf': [1, 2, 5],\n",
    "    'max_features': ['sqrt', 'log2']\n",
    "}\n",
    "best_dt_model_vip = train_and_evaluate_model(\n",
    "    data=second_data,\n",
    "    model=DecisionTreeRegressor(random_state=42),\n",
    "    param_grid=dt_param_grid,\n",
    "    dr=True,\n",
    "    name='DecisionTreeRegressor'\n",
    ")"
   ]
  },
  {
   "cell_type": "markdown",
   "metadata": {},
   "source": [
    "{'colsample_bytree': 1.0, 'learning_rate': 0.1, 'max_depth': 9, 'min_child_weight': 5, 'n_estimators': 200, 'subsample': 0.9}"
   ]
  },
  {
   "cell_type": "markdown",
   "metadata": {},
   "source": [
    "### Как можно заметить во всех случая выйграла модель XGBReg, в таком случае именно её и будеи использовать для предсказания значений"
   ]
  },
  {
   "cell_type": "markdown",
   "metadata": {},
   "source": [
    "Для задачи я буду использовать RandomForestClassifier, вот главные причины:\n",
    "1. Обработка пропущенных данных\n",
    "2. Устойчивость к переобучению \n",
    "3. Хорошая масштабируемость"
   ]
  },
  {
   "cell_type": "code",
   "execution_count": 253,
   "metadata": {},
   "outputs": [
    {
     "name": "stdout",
     "output_type": "stream",
     "text": [
      "Fitting 5 folds for each of 1 candidates, totalling 5 fits\n",
      "Лучшие гиперпараметры: {'max_depth': 15, 'min_samples_leaf': 4, 'min_samples_split': 5, 'n_estimators': 200}\n",
      "Точность (Accuracy): 0.94\n",
      "Точность по классу (Precision): 0.94\n",
      "Полнота (Recall): 1.00\n",
      "F1-score: 0.97\n"
     ]
    }
   ],
   "source": [
    "data['cluster'] = data['target'].apply(lambda x: 1 if x <= 1e6 else 0)\n",
    "# Выбираем числовые и булевы признаки для модели\n",
    "X = data.select_dtypes(include=['number', 'bool']).drop(['target', 'cluster'], axis=1)\n",
    "y = data['cluster']\n",
    "\n",
    "\n",
    "scaler_cluster = StandardScaler()\n",
    "X_scaled = scaler_cluster.fit_transform(X)\n",
    "\n",
    "X_train, X_test, y_train, y_test = train_test_split(X_scaled, y, test_size=0.2, random_state=42)\n",
    "model = RandomForestClassifier(random_state=42)\n",
    "\n",
    "# Определяем сетку гиперпараметров для подбора\n",
    "#тут выбраны по 1 варианту ввиду долго обучения, на данный момент тут находятся лучшие параметры, но можно добавить и другие\n",
    "param_grid = {\n",
    "    'n_estimators': [200],  \n",
    "    'max_depth': [15],   \n",
    "    'min_samples_split': [5], \n",
    "    'min_samples_leaf': [ 4]     \n",
    "}\n",
    "\n",
    "\n",
    "grid_search = GridSearchCV(estimator=model, param_grid=param_grid, \n",
    "                           scoring='accuracy', cv=5, verbose=1, n_jobs=-1)\n",
    "\n",
    "grid_search.fit(X_train, y_train)\n",
    "\n",
    "cluster_model = grid_search.best_estimator_\n",
    "\n",
    "y_pred = cluster_model.predict(X_test)\n",
    "\n",
    "accuracy = accuracy_score(y_test, y_pred)\n",
    "precision = precision_score(y_test, y_pred)\n",
    "recall = recall_score(y_test, y_pred)\n",
    "f1 = f1_score(y_test, y_pred)\n",
    "\n",
    "print(f\"Лучшие гиперпараметры: {grid_search.best_params_}\")\n",
    "print(f\"Точность (Accuracy): {accuracy:.2f}\")\n",
    "print(f\"Точность по классу (Precision): {precision:.2f}\")\n",
    "print(f\"Полнота (Recall): {recall:.2f}\")\n",
    "print(f\"F1-score: {f1:.2f}\")\n",
    "\n",
    "\n",
    "#Лучшие гиперпараметры: {'max_depth': 15, 'min_samples_leaf': 4, 'min_samples_split': 5, 'n_estimators': 200}\n"
   ]
  },
  {
   "cell_type": "markdown",
   "metadata": {},
   "source": [
    "# A\\B тестирование"
   ]
  },
  {
   "cell_type": "markdown",
   "metadata": {},
   "source": [
    "## Обучение при помощи тактики Стекинга"
   ]
  },
  {
   "cell_type": "code",
   "execution_count": 254,
   "metadata": {},
   "outputs": [
    {
     "name": "stdout",
     "output_type": "stream",
     "text": [
      "Fitting 5 folds for each of 8 candidates, totalling 40 fits\n",
      "MAE метамодели: 159631.86\n",
      "R2 метамодели: 0.54\n",
      "Лучшие гиперпараметры: {'bootstrap': True, 'max_depth': 10, 'min_samples_leaf': 2, 'min_samples_split': 5, 'n_estimators': 150}\n",
      "\n"
     ]
    }
   ],
   "source": [
    "\n",
    "data.reset_index(drop=True, inplace=True)\n",
    "\n",
    "X = data.drop(['target','cluster'], axis=1)\n",
    "y = data['target']\n",
    "\n",
    "# Получаем подмножества данных\n",
    "X_low = get_low_data(X)\n",
    "X_hight = get_hight_data(X)\n",
    "\n",
    "X_cluster  = data.drop(['target', 'cluster'], axis=1)\n",
    "y_cluster = data['cluster']\n",
    "\n",
    "X_cluster = scaler_cluster.fit_transform(X_cluster)\n",
    "\n",
    "\n",
    "# Разбиение данных на обучающую и тестовую выборки\n",
    "X_train_high, X_test_high, y_train, y_test = train_test_split(X_hight, y, test_size=0.2, random_state=42)\n",
    "X_train_low, X_test_low, y_train, y_test = train_test_split(X_low, y, test_size=0.2, random_state=42)\n",
    "X_train_cluster, X_test_cluster, y_train_cluster, y_test_cluster = train_test_split(X_cluster, y_cluster, test_size=0.2, random_state=42)\n",
    "\n",
    "\n",
    "X_train_high_pred = best_xgb_model_vip.predict(X_train_high)\n",
    "X_train_low_pred = best_xgb_model.predict(X_train_low)\n",
    "X_train_cluster_pred = cluster_model.predict(X_train_cluster) \n",
    "\n",
    "# Предсказания на тестовом наборе данных\n",
    "X_test_high_pred = best_xgb_model_vip.predict(X_test_high)\n",
    "X_test_low_pred = best_xgb_model.predict(X_test_low)\n",
    "X_test_cluster_pred = cluster_model.predict(X_test_cluster)\n",
    "\n",
    "X_train_meta = np.column_stack((X_train_high_pred, X_train_low_pred, X_train_cluster_pred))\n",
    "X_test_meta = np.column_stack((X_test_high_pred, X_test_low_pred, X_test_cluster_pred))\n",
    "\n",
    "\n",
    "\n",
    "param_grid = {\n",
    "    'n_estimators': [150],\n",
    "    'max_depth': [10],\n",
    "    'min_samples_split': [5, 10],\n",
    "    'min_samples_leaf': [2, 4],\n",
    "    'bootstrap': [True, False]\n",
    "}\n",
    "\n",
    "\n",
    "\n",
    "meta_model = RandomForestRegressor(random_state=42)\n",
    "\n",
    "\n",
    "grid_search = GridSearchCV(meta_model, param_grid, cv=5, scoring='neg_mean_absolute_error', verbose=1, n_jobs=-1)\n",
    "grid_search.fit(X_train_meta, y_train)\n",
    "best_meta_model = grid_search.best_estimator_\n",
    "\n",
    "y_pred_meta = best_meta_model.predict(X_test_meta)\n",
    "\n",
    "mae = mean_absolute_error(y_test, y_pred_meta)\n",
    "r2 = r2_score(y_test, y_pred_meta)\n",
    "\n",
    "print(f\"MAE метамодели: {mae:.2f}\")\n",
    "print(f\"R2 метамодели: {r2:.2f}\")\n",
    "print(f\"Лучшие гиперпараметры: {grid_search.best_params_}\", end='\\n\\n')\n",
    "\n",
    "\n",
    "#{'bootstrap': True, 'max_depth': 10, 'min_samples_leaf': 2, 'min_samples_split': 5, 'n_estimators': 150}"
   ]
  },
  {
   "cell_type": "code",
   "execution_count": 260,
   "metadata": {},
   "outputs": [],
   "source": [
    "class ModelSelector(BaseEstimator, RegressorMixin):\n",
    "    def __init__(self, classifier, model_low, model_high):\n",
    "        \"\"\"\n",
    "        classifier: модель для выбора между low и high моделями\n",
    "        model_low: модель для предсказания значений ниже 1 миллиона\n",
    "        model_high: модель для предсказания значений выше 1 миллиона\n",
    "        \"\"\"\n",
    "        self.classifier = classifier\n",
    "        self.model_low = model_low\n",
    "        self.model_high = model_high\n",
    "\n",
    "        self.high_name = None\n",
    "        self.low_name = None\n",
    "\n",
    "\n",
    "    def fit(self, X: pd.DataFrame, y: pd.Series) -> 'ModelSelector':\n",
    "       # Разделяем данные по целевому значению\n",
    "\n",
    "        X_cluster = X.select_dtypes(include=['number', 'bool'])\n",
    "        y_cluster = (y > 1e6).astype(int)  # Создаём метки для клaсификации\n",
    "        self.classifier.fit(X_cluster, y_cluster)\n",
    "\n",
    "\n",
    "        X['cluster'] = (y > 1e6).astype(int)\n",
    "        hight_data = X[y > 1e6]\n",
    "        low_data = X[y <= 1e6]\n",
    "        # Обрабатываем целевую переменную\n",
    "\n",
    "        self.high_name = hight_data.columns\n",
    "        self.low_name = low_data.columns\n",
    "\n",
    "        hight_data = get_hight_data(hight_data)\n",
    "        low_data = get_low_data(low_data)\n",
    "\n",
    "        \n",
    "\n",
    "        y_hight = np.log1p(y[y > 1e6])  # Логарифмируем целевую переменную для high model\n",
    "        y_low = y[y <= 1e6]\n",
    "  \n",
    "\n",
    "        self.model_low.fit(low_data, y_low)\n",
    "        self.model_high.fit(hight_data, y_hight)\n",
    "\n",
    "\n",
    "        return self\n",
    "       \n",
    "            \n",
    "    def predict(self, X: pd.DataFrame) -> np.array:\n",
    "    \n",
    "        # Проверяем, является ли X Series и преобразуем его в DataFrame, если это так\n",
    "        if isinstance(X, pd.Series):\n",
    "            X = X.to_frame().T \n",
    "\n",
    "        #X['cluster'] = self.classifier.predict(X)\n",
    "    \n",
    "\n",
    "        # Предсказания классификатора\n",
    "        y_class_pred = self.classifier.predict(X)\n",
    "        \n",
    "        # Предсказания моделей low и high\n",
    "        y_pred = []\n",
    "\n",
    "        if 'cluster' not in X.columns:\n",
    "            X['cluster'] = self.classifier.predict(X)\n",
    "        \n",
    "        \n",
    "        for i, _ in enumerate(y_class_pred):\n",
    "\n",
    "            if y_class_pred[i] == 1:\n",
    "                \n",
    "                # Обработка данных для high модели\n",
    "                x_processed = self.preprocess_high(X.iloc[i])\n",
    "                y_pred.append(np.expm1(self.model_high.predict(x_processed)[0]))  # Обратное логарифмирование\n",
    "            else:\n",
    "               \n",
    "                # Обработка данных для low модели\n",
    "                x_processed = self.preprocess_low(X.iloc[i])\n",
    "                y_pred.append(self.model_low.predict(x_processed)[0])\n",
    "\n",
    "       \n",
    "        return np.array(y_pred)\n",
    "    \n",
    "\n",
    "    def preprocess_high(self, x: pd.DataFrame) -> pd.DataFrame:\n",
    "        \n",
    "        # Преобразуем x в DataFrame с правильными столбцами\n",
    "        x_array = np.array(x).reshape(1, -1)  # Преобразуем в массив NumPy с нужной формой\n",
    "        x_df = pd.DataFrame(x_array, columns=self.high_name)\n",
    "\n",
    "        cols_to_drop = ['Heating_0', 'state_1', 'sqft/baths', 'Cooling_0', 'Cooling_1', 'Cooling_2', 'PrivatePool', 'is_remodeled', 'has_parking', 'for_rent', 'fireplace_type']\n",
    "        x_df = x_df.drop(columns=cols_to_drop, errors='ignore')\n",
    "\n",
    "        return x_df\n",
    "\n",
    "    def preprocess_low(self, x: pd.DataFrame) -> pd.DataFrame:\n",
    "        \n",
    "        # Преобразуем x в DataFrame с правильными столбцами\n",
    "        x_array = np.array(x).reshape(1, -1)  # Преобразуем в массив NumPy с нужной формой\n",
    "        x_df = pd.DataFrame(x_array, columns=self.low_name)\n",
    "\n",
    "        # Удаляем ненужные столбцы\n",
    "        cols_to_drop = ['fireplace_type', 'for_rent', 'is_remodeled', 'Heating_0', 'Heating_1', 'PrivatePool', 'street_0', 'street_1', 'has_fireplace', 'Cooling_0', 'Cooling_1']\n",
    "        #cols_to_drop = ['fireplace_type', 'is_remodeled', 'Heating_0', 'Heating_1', 'PrivatePool', 'street_0', 'street_1', 'has_fireplace', 'Cooling_0', 'Cooling_1']\n",
    "        x_df = x_df.drop(columns=cols_to_drop, errors='ignore')\n",
    "\n",
    "        return x_df\n",
    "\n",
    "\n",
    "\n",
    "model_selector = ModelSelector(classifier=cluster_model, model_low=best_xgb_model, model_high=best_xgb_model_vip)\n",
    "\n",
    "\n"
   ]
  },
  {
   "cell_type": "code",
   "execution_count": 256,
   "metadata": {},
   "outputs": [],
   "source": [
    "def check_model_selector(data: pd.DataFrame) -> None:\n",
    "    \"\"\"Значения для вывода метрик\"\"\"\n",
    "    X = data.drop('target', axis=1)\n",
    "    y = data['target']\n",
    "    X = X.select_dtypes(include=['number', 'bool'])\n",
    "    bool_columns = X.select_dtypes(include=['bool']).columns\n",
    "    X[bool_columns] = X[bool_columns].astype(int)\n",
    "\n",
    "    X_train, X_test, y_train, y_test = train_test_split(X, y, test_size=0.2, random_state=42)\n",
    "    \n",
    "    # Обучаем модель\n",
    "    model_selector.fit(X_train, y_train)\n",
    "\n",
    "    y_pred = model_selector.predict(X_test)\n",
    "    print(f'MAE:{mean_absolute_error(y_test, y_pred):.0f}')\n",
    "    print(f'R2 {r2_score(y_test, y_pred):.2f}', end='\\n\\n')    \n",
    "\n",
    "\n"
   ]
  },
  {
   "cell_type": "code",
   "execution_count": 261,
   "metadata": {},
   "outputs": [
    {
     "name": "stdout",
     "output_type": "stream",
     "text": [
      "Значения на всех данных\n",
      "MAE:65165\n",
      "R2 0.68\n",
      "\n",
      "Значения на данных до милиона\n",
      "MAE:20836\n",
      "R2 0.92\n",
      "\n",
      "Значения на данных после милиона\n",
      "MAE:491646\n",
      "R2 0.50\n",
      "\n"
     ]
    },
    {
     "data": {
      "text/plain": [
       "'\\nЗначения на всех данных\\nMAE:94112      64928\\nR2 0.56\\n\\nЗначения на данных до милиона\\nMAE:20932\\nR2 0.92\\n\\nЗначения на данных после милиона\\nMAE:492610\\nR2 0.50\\n\\n'"
      ]
     },
     "execution_count": 261,
     "metadata": {},
     "output_type": "execute_result"
    }
   ],
   "source": [
    "print('Значения на всех данных')\n",
    "check_model_selector(data)\n",
    "print('Значения на данных до милиона')\n",
    "check_model_selector(data[data['target'] <= 1e6])\n",
    "print('Значения на данных после милиона')\n",
    "check_model_selector(data[data['target'] > 1e6])\n",
    "\n",
    "\n"
   ]
  },
  {
   "cell_type": "code",
   "execution_count": 63,
   "metadata": {},
   "outputs": [
    {
     "name": "stdout",
     "output_type": "stream",
     "text": [
      "Fitting 5 folds for each of 20 candidates, totalling 100 fits\n",
      "Лучшие параметры:  {'estimator__subsample': 1.0, 'estimator__n_estimators': 250, 'estimator__max_depth': 9, 'estimator__learning_rate': 0.0575, 'estimator__colsample_bytree': 0.875}\n",
      "Лучшая модель:  BaggingRegressor(estimator=XGBRegressor(base_score=None, booster=None,\n",
      "                                        callbacks=None, colsample_bylevel=None,\n",
      "                                        colsample_bynode=None,\n",
      "                                        colsample_bytree=0.875, device=None,\n",
      "                                        early_stopping_rounds=None,\n",
      "                                        enable_categorical=False,\n",
      "                                        eval_metric=None, feature_types=None,\n",
      "                                        gamma=None, grow_policy=None,\n",
      "                                        importance_type=None,\n",
      "                                        interaction_constraints=None,\n",
      "                                        learning_rate=0.0575, max_bin=None,\n",
      "                                        max_cat_threshold=None,\n",
      "                                        max_cat_to_onehot=None,\n",
      "                                        max_delta_step=None, max_depth=9,\n",
      "                                        max_leaves=None, min_child_weight=None,\n",
      "                                        missing=nan, monotone_constraints=None,\n",
      "                                        multi_strategy=None, n_estimators=250,\n",
      "                                        n_jobs=None, num_parallel_tree=None,\n",
      "                                        random_state=42, ...),\n",
      "                 random_state=42)\n",
      "MAE: 94000\n",
      "R²: 0.64\n"
     ]
    }
   ],
   "source": [
    "xgb = xgb.XGBRegressor(random_state=42)\n",
    "\n",
    "X = data.drop('target', axis=1)\n",
    "y = data['target']\n",
    "\n",
    "# Ансамбль моделей с использованием Bagging (заменено base_estimator на estimator)\n",
    "ensemble_model = BaggingRegressor(estimator=xgb, n_estimators=10, random_state=42)\n",
    "\n",
    "# Пространство гиперпараметров для подбора (убран префикс base_estimator__)\n",
    "param_dist = {\n",
    "    'estimator__n_estimators': np.arange(50, 500, 50),  \n",
    "    'estimator__learning_rate': np.linspace(0.01, 0.2, 5),  \n",
    "    'estimator__max_depth': np.arange(3, 10, 1),  \n",
    "    'estimator__colsample_bytree': np.linspace(0.5, 1.0, 5),  \n",
    "    'estimator__subsample': np.linspace(0.5, 1.0, 5)  \n",
    "}\n",
    "\n",
    "\n",
    "random_search = RandomizedSearchCV(ensemble_model, param_distributions=param_dist,\n",
    "                                   n_iter=20, scoring='neg_mean_absolute_error',\n",
    "                                   cv=5, verbose=1, random_state=42, n_jobs=-1)\n",
    "\n",
    "\n",
    "random_search.fit(X_train, y_train)\n",
    "\n",
    "\n",
    "best_model = random_search.best_estimator_\n",
    "best_params = random_search.best_params_\n",
    "\n",
    "print(\"Лучшие параметры: \", best_params)\n",
    "print(\"Лучшая модель: \", best_model)\n",
    "\n",
    "\n",
    "y_pred = best_model.predict(X_test)\n",
    "\n",
    "\n",
    "mae = mean_absolute_error(y_test, y_pred)\n",
    "r2 = r2_score(y_test, y_pred)\n",
    "\n",
    "# Вывод результатов\n",
    "print(f\"MAE: {mae:.0f}\")\n",
    "print(f\"R²: {r2:.2f}\")\n"
   ]
  },
  {
   "cell_type": "code",
   "execution_count": 65,
   "metadata": {},
   "outputs": [],
   "source": [
    "X = data.drop('target', axis=1)\n",
    "y = data['target']\n",
    "X = X.select_dtypes(include=['number', 'bool'])\n",
    "bool_columns = X.select_dtypes(include=['bool']).columns\n",
    "X[bool_columns] = X[bool_columns].astype(int)\n",
    "\n",
    "X_train, X_test, y_train, y_test = train_test_split(X, y, test_size=0.2, random_state=42)\n",
    "\n",
    "# Обучаем модель\n",
    "model_selector.fit(X_train, y_train)\n",
    "\n",
    "with open('model/model.dill', 'wb') as f:\n",
    "    dill.dump(model_selector, f)\n",
    "\n"
   ]
  },
  {
   "cell_type": "markdown",
   "metadata": {},
   "source": [
    "# Итоги работы\n",
    "### В ходе работы была разработана кастомная модель для предсказания цены квартиры, которая объединяла методы кластеризации и регрессии на основе XGBoost. Основные этапы проекта включали:\n",
    "\n",
    "## Предобработка данных:\n",
    "\n",
    "- Данные были очищены от выбросов и аномалий. Например, были удалены строки с нереалистичными значениями площади (например, квартиры с площадью 1 кв. фут) и других признаков.\n",
    "- Пропущенные значения в ключевых признаках, таких как площадь (sqft), количество ванных комнат (baths) и спален (beds), были заполнены с помощью моделей, использующих методы имитации, такие как кластеризация и алгоритмы машинного обучения.\n",
    "- Категориальные признаки (например, тип недвижимости, статус) были преобразованы с использованием методов кодирования для работы с моделями, включая использование MinHashEncoder для обработки категорий с опечатками и редкими значениями.\n",
    "\n",
    "### Создание и обучение кастомной модели:\n",
    "\n",
    "- В качестве ключевого подхода использовалась комбинация методов кластеризации и регрессии:\n",
    "  - **Кластеризация** объектов по ключевым признакам (например, площадь, количество спален и ванных комнат) позволила сгруппировать квартиры в 10 кластеров с похожими характеристиками.\n",
    "  - Для каждого кластера была обучена отдельная модель **XGBRegressor**, настроенная под особенности объектов в этом кластере.\n",
    "- Такой подход позволил модели более точно учитывать различия между группами объектов недвижимости и применять разные стратегии для разных сегментов рынка.\n",
    "\n",
    "### Подбор гиперпараметров:\n",
    "\n",
    "- Для каждой модели **XGBRegressor** в кластерах был выполнен подбор гиперпараметров с использованием **RandomizedSearchCV**, что позволило оптимизировать такие параметры, как:\n",
    "  - Количество деревьев,\n",
    "  - Глубина деревьев,\n",
    "  - Скорость обучения.\n",
    "- Подбор был выполнен эффективно, без необходимости полного перебора всех возможных параметров, что сократило время обучения моделей.\n",
    "\n",
    "### Оценка модели:\n",
    "\n",
    "- **Значения метрик на всех данных**:\n",
    "  - **MAE**: 63,954.24\n",
    "  - **R²**: 0.6947\n",
    "\n",
    "- **Значения метрик на данных с ценами до 1 миллиона долларов**:\n",
    "  - **MAE**: 20,664.16\n",
    "  - **R²**: 0.9215\n",
    "\n",
    "- Важно отметить, что наибольшая точность модели была достигнута на объектах с ценами до 1 миллиона долларов, где **MAE** составила **20,664.16**, что значительно лучше, чем на всех данных в целом.\n",
    "\n",
    "### Проблемы и возможные улучшения:\n",
    "\n",
    "- В верхнем ценовом сегменте (дороже 1 миллиона долларов) модель показала менее точные предсказания. Это может быть связано с:\n",
    "  - Недостаточным количеством данных для этих объектов,\n",
    "  - Большим разбросом цен.\n",
    "- В будущем можно попробовать использовать:\n",
    "  - Стратифицированные модели,\n",
    "  - Отдельные модели для разных ценовых диапазонов.\n",
    "\n",
    "### Рекомендации\n",
    "- В рамках данного проекта я не использовал геоданные, хотя они были доступны и без пропусков. Основная причина — это высокая затратность по времени и вычислительным ресурсам для их обработки. Если у вас есть доступ к платным API или возможность использовать серверные мощности, настоятельно рекомендую интегрировать геоданные. Это может значительно повысить точность и информативность модели.\n",
    "\n",
    "\n",
    "### Выводы:\n",
    "\n",
    "- Разработанная кастомная модель на основе кластеризации и **XGBRegressor** показала высокую точность в предсказании цен на квартиры для объектов средней ценовой категории.\n",
    "- В дальнейшем возможны улучшения, такие как:\n",
    "  - Использование дополнительных признаков,\n",
    "  - Улучшенная обработка выбросов,\n",
    "  - Применение других алгоритмов для более дорогих объектов.\n"
   ]
  }
 ],
 "metadata": {
  "kernelspec": {
   "display_name": "myenv",
   "language": "python",
   "name": "python3"
  },
  "language_info": {
   "codemirror_mode": {
    "name": "ipython",
    "version": 3
   },
   "file_extension": ".py",
   "mimetype": "text/x-python",
   "name": "python",
   "nbconvert_exporter": "python",
   "pygments_lexer": "ipython3",
   "version": "3.12.5"
  }
 },
 "nbformat": 4,
 "nbformat_minor": 2
}
